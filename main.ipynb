{
 "cells": [
  {
   "cell_type": "markdown",
   "metadata": {},
   "source": [
    "# Fethch the Data From Telangana Government Website using API"
   ]
  },
  {
   "cell_type": "markdown",
   "metadata": {},
   "source": [
    "# Hotel Tariff Data\n",
    "Hotel tariff refers to the price a hotel charges for its rooms. It can vary based on factors like room type, location, and time of year. This cost covers your stay and access to amenities"
   ]
  },
  {
   "cell_type": "markdown",
   "metadata": {},
   "source": [
    "### Import all necesssary Libraries"
   ]
  },
  {
   "cell_type": "code",
   "execution_count": 208,
   "metadata": {},
   "outputs": [],
   "source": [
    "import requests\n",
    "import pandas as pd\n",
    "from pandas import DataFrame as df\n",
    "import urllib3\n",
    "import os\n",
    "import matplotlib.pyplot as plt\n",
    "import seaborn as sns\n",
    "import folium\n",
    "import plotly.express as px\n",
    "from sklearn.cluster import DBSCAN\n",
    "from collections import Counter\n"
   ]
  },
  {
   "cell_type": "markdown",
   "metadata": {},
   "source": [
    "#### Code for Fetching the Data From Website Using API"
   ]
  },
  {
   "cell_type": "code",
   "execution_count": 209,
   "metadata": {},
   "outputs": [
    {
     "name": "stdout",
     "output_type": "stream",
     "text": [
      "<Response [200]>\n",
      "{'results': [{'hotel': 'ALAMPUR', 'city': 'ALAMPUR', 'address': 'Haritha Hotel Alampur,  Alampur, Jogulamba Gadwal District, Telangana', 'contact': '9705392100', 'room_type': 'A/C ROOM', 'total_rooms': '15', 'sunday_tariff': '1500', 'monday_tariff': '1500', 'tuesday_tariff': '1500', 'wednesday_tariff': '1500', 'thursday_tariff': '1500', 'friday_tariff': '1500', 'saturday_tariff': '1500'}, {'hotel': 'ALAMPUR', 'city': 'ALAMPUR', 'address': 'Haritha Hotel Alampur,  Alampur, Jogulamba Gadwal District, Telangana', 'contact': '9705392100', 'room_type': 'A/C SUITE', 'total_rooms': '1', 'sunday_tariff': '3000', 'monday_tariff': '3000', 'tuesday_tariff': '3000', 'wednesday_tariff': '3000', 'thursday_tariff': '3000', 'friday_tariff': '3000', 'saturday_tariff': '3000'}, {'hotel': 'ALISAGAR', 'city': 'ALISAGAR', 'address': 'Haritha Hotel Alisagar, Alisagar, Nizambad District, Telangana', 'contact': '7997253366', 'room_type': 'A/C ROOM', 'total_rooms': '4', 'sunday_tariff': '1500', 'monday_tariff': '1200', 'tuesday_tariff': '1200', 'wednesday_tariff': '1200', 'thursday_tariff': '1200', 'friday_tariff': '1500', 'saturday_tariff': '1500'}, {'hotel': 'ALISAGAR', 'city': 'ALISAGAR', 'address': 'Haritha Hotel Alisagar, Alisagar, Nizambad District, Telangana', 'contact': '7997253366', 'room_type': 'NON A/C ROOM', 'total_rooms': '3', 'sunday_tariff': '999', 'monday_tariff': '750', 'tuesday_tariff': '750', 'wednesday_tariff': '750', 'thursday_tariff': '750', 'friday_tariff': '999', 'saturday_tariff': '999'}, {'hotel': 'ANANTHAGIRI VIKARABAD', 'city': 'ANANTHAGIRI VIKARABAD', 'address': 'Haritha Hotel Ananthagiri, Ananthagiri Hills, Vikarabad, Telangana', 'contact': '9010911122', 'room_type': 'A/C SUITE', 'total_rooms': '1', 'sunday_tariff': '3700', 'monday_tariff': '3100', 'tuesday_tariff': '3100', 'wednesday_tariff': '3100', 'thursday_tariff': '3100', 'friday_tariff': '3700', 'saturday_tariff': '3700'}, {'hotel': 'ANANTHAGIRI VIKARABAD', 'city': 'ANANTHAGIRI VIKARABAD', 'address': 'Haritha Hotel Ananthagiri, Ananthagiri Hills, Vikarabad, Telangana', 'contact': '9010911122', 'room_type': 'A/C STANDARD', 'total_rooms': '30', 'sunday_tariff': '2300', 'monday_tariff': '1500', 'tuesday_tariff': '1500', 'wednesday_tariff': '1500', 'thursday_tariff': '1500', 'friday_tariff': '2300', 'saturday_tariff': '2300'}, {'hotel': 'BASARA,HARITHA HOTEL', 'city': 'BASARA', 'address': 'Haritha Hotel Basar, Basar, Nirmal District, Telangana', 'contact': '9848074462', 'room_type': 'NON A/C ROOM', 'total_rooms': '2', 'sunday_tariff': '750', 'monday_tariff': '750', 'tuesday_tariff': '750', 'wednesday_tariff': '750', 'thursday_tariff': '750', 'friday_tariff': '750', 'saturday_tariff': '750'}, {'hotel': 'BASARA,HARITHA HOTEL', 'city': 'BASARA', 'address': 'Haritha Hotel Basar, Basar, Nirmal District, Telangana', 'contact': '9848074462', 'room_type': 'NON A/C 4 BEDDED ROOM', 'total_rooms': '2', 'sunday_tariff': '950', 'monday_tariff': '950', 'tuesday_tariff': '950', 'wednesday_tariff': '950', 'thursday_tariff': '950', 'friday_tariff': '950', 'saturday_tariff': '950'}, {'hotel': 'BASARA,HARITHA HOTEL', 'city': 'BASARA', 'address': 'Haritha Hotel Basar, Basar, Nirmal District, Telangana', 'contact': '9848074462', 'room_type': 'NON A/C 3 BEDDED ROOM', 'total_rooms': '1', 'sunday_tariff': '850', 'monday_tariff': '850', 'tuesday_tariff': '850', 'wednesday_tariff': '850', 'thursday_tariff': '850', 'friday_tariff': '850', 'saturday_tariff': '850'}, {'hotel': 'BASARA,HARITHA HOTEL', 'city': 'BASARA', 'address': 'Haritha Hotel Basar, Basar, Nirmal District, Telangana', 'contact': '9848074462', 'room_type': 'A/C ROOM', 'total_rooms': '12', 'sunday_tariff': '1300', 'monday_tariff': '1300', 'tuesday_tariff': '1300', 'wednesday_tariff': '1300', 'thursday_tariff': '1300', 'friday_tariff': '1300', 'saturday_tariff': '1300'}, {'hotel': 'BASARA,HARITHA HOTEL', 'city': 'BASARA', 'address': 'Haritha Hotel Basar, Basar, Nirmal District, Telangana', 'contact': '9848074462', 'room_type': 'A/C 4 BEDDED ROOM', 'total_rooms': '1', 'sunday_tariff': '1450', 'monday_tariff': '1450', 'tuesday_tariff': '1450', 'wednesday_tariff': '1450', 'thursday_tariff': '1450', 'friday_tariff': '1450', 'saturday_tariff': '1450'}, {'hotel': 'BHADRACHALAM,HARITHA HOTEL', 'city': 'BHADRACHALAM', 'address': 'Haritha Hotel Bhadrachalam, Bhadrachalam, Bhadradri Kothagudem District, Telangana', 'contact': '9848823073', 'room_type': 'A/C SUITE', 'total_rooms': '1', 'sunday_tariff': '2900', 'monday_tariff': '2380', 'tuesday_tariff': '2380', 'wednesday_tariff': '2380', 'thursday_tariff': '2380', 'friday_tariff': '2900', 'saturday_tariff': '2900'}, {'hotel': 'BHADRACHALAM,HARITHA HOTEL', 'city': 'BHADRACHALAM', 'address': 'Haritha Hotel Bhadrachalam, Bhadrachalam, Bhadradri Kothagudem District, Telangana', 'contact': '9848823073', 'room_type': 'A/C DELUXE', 'total_rooms': '37', 'sunday_tariff': '1750', 'monday_tariff': '1500', 'tuesday_tariff': '1500', 'wednesday_tariff': '1500', 'thursday_tariff': '1500', 'friday_tariff': '1750', 'saturday_tariff': '1750'}, {'hotel': 'BHADRACHALAM,HARITHA HOTEL', 'city': 'BHADRACHALAM', 'address': 'Haritha Hotel Bhadrachalam, Bhadrachalam, Bhadradri Kothagudem District, Telangana', 'contact': '9848823073', 'room_type': 'NON A/C DORMITORY(BASEMENT)', 'total_rooms': '1', 'sunday_tariff': '1600', 'monday_tariff': '1600', 'tuesday_tariff': '1600', 'wednesday_tariff': '1600', 'thursday_tariff': '1600', 'friday_tariff': '1600', 'saturday_tariff': '1600'}, {'hotel': 'BHADRACHALAM,HARITHA HOTEL', 'city': 'BHADRACHALAM', 'address': 'Haritha Hotel Bhadrachalam, Bhadrachalam, Bhadradri Kothagudem District, Telangana', 'contact': '9848823073', 'room_type': 'NON AC DORMITORY 5 BEDDED(BASEMENT)', 'total_rooms': '1', 'sunday_tariff': '1000', 'monday_tariff': '1000', 'tuesday_tariff': '1000', 'wednesday_tariff': '1000', 'thursday_tariff': '1000', 'friday_tariff': '1000', 'saturday_tariff': '1000'}, {'hotel': 'DHARMAPURI HARITHA HOTEL', 'city': 'DHARMAPURI', 'address': 'Haritha Hotel Dharmapuri, Dharmapuri, Jagitial District, Telangana', 'contact': '8499830816', 'room_type': 'A/C ROOM', 'total_rooms': '9', 'sunday_tariff': '999', 'monday_tariff': '999', 'tuesday_tariff': '999', 'wednesday_tariff': '999', 'thursday_tariff': '999', 'friday_tariff': '999', 'saturday_tariff': '999'}, {'hotel': 'EEGALAPENTA HARITHA HOTEL', 'city': 'EEGALAPENTA(Near Srisailam Dam West)', 'address': 'Near Srisailam Dam West', 'contact': '9912233234', 'room_type': 'NON A/C ROOM', 'total_rooms': '15', 'sunday_tariff': '999', 'monday_tariff': '999', 'tuesday_tariff': '999', 'wednesday_tariff': '999', 'thursday_tariff': '999', 'friday_tariff': '999', 'saturday_tariff': '999'}, {'hotel': 'EEGALAPENTA HARITHA HOTEL', 'city': 'EEGALAPENTA(Near Srisailam Dam West)', 'address': 'Near Srisailam Dam West', 'contact': '9912233234', 'room_type': 'A/C ROOM', 'total_rooms': '2', 'sunday_tariff': '2000', 'monday_tariff': '1800', 'tuesday_tariff': '1800', 'wednesday_tariff': '1800', 'thursday_tariff': '1800', 'friday_tariff': '2000', 'saturday_tariff': '2000'}, {'hotel': 'GADWAL', 'city': 'GADWAL', 'address': 'Haritha Hotel Gadwal, Gadwal, Jogulamba Gadwal District, Telangana', 'contact': '9705391200', 'room_type': 'NON A/C ROOM', 'total_rooms': '4', 'sunday_tariff': '700', 'monday_tariff': '700', 'tuesday_tariff': '700', 'wednesday_tariff': '700', 'thursday_tariff': '700', 'friday_tariff': '700', 'saturday_tariff': '700'}, {'hotel': 'GADWAL', 'city': 'GADWAL', 'address': 'Haritha Hotel Gadwal, Gadwal, Jogulamba Gadwal District, Telangana', 'contact': '9705391200', 'room_type': 'A/C ROOM', 'total_rooms': '3', 'sunday_tariff': '1100', 'monday_tariff': '1100', 'tuesday_tariff': '1100', 'wednesday_tariff': '1100', 'thursday_tariff': '1100', 'friday_tariff': '1100', 'saturday_tariff': '1100'}, {'hotel': 'HARITHA HOTEL KADEM', 'city': 'KADEM', 'address': 'Haritha Hotel Kadem, Kadem, Nirmal District, Telangana', 'contact': '9133053007', 'room_type': 'A/C ROOM', 'total_rooms': '11', 'sunday_tariff': '1650', 'monday_tariff': '1500', 'tuesday_tariff': '1500', 'wednesday_tariff': '1500', 'thursday_tariff': '1500', 'friday_tariff': '1650', 'saturday_tariff': '1650'}, {'hotel': 'INDUR INN', 'city': 'NIZAMABAD', 'address': 'Haritha Hotel Indur Inn, Nizamabad, Nizamabad District, Telangana', 'contact': '9603667724', 'room_type': 'A/C SUITE', 'total_rooms': '3', 'sunday_tariff': '1850', 'monday_tariff': '1850', 'tuesday_tariff': '1850', 'wednesday_tariff': '1850', 'thursday_tariff': '1850', 'friday_tariff': '1850', 'saturday_tariff': '1850'}, {'hotel': 'INDUR INN', 'city': 'NIZAMABAD', 'address': 'Haritha Hotel Indur Inn, Nizamabad, Nizamabad District, Telangana', 'contact': '9603667724', 'room_type': 'A/C ROOM', 'total_rooms': '16', 'sunday_tariff': '1350', 'monday_tariff': '1350', 'tuesday_tariff': '1350', 'wednesday_tariff': '1350', 'thursday_tariff': '1350', 'friday_tariff': '1350', 'saturday_tariff': '1350'}, {'hotel': 'JANNARAM,HARITHA HOTEL', 'city': 'JANNARAM', 'address': 'Haritha Hotel Jannaram, Jannaram, Mancherial District, Telangana', 'contact': '9133051007', 'room_type': 'NON A/C ROOM', 'total_rooms': '4', 'sunday_tariff': '1050', 'monday_tariff': '950', 'tuesday_tariff': '950', 'wednesday_tariff': '950', 'thursday_tariff': '950', 'friday_tariff': '1050', 'saturday_tariff': '1050'}, {'hotel': 'JANNARAM,HARITHA HOTEL', 'city': 'JANNARAM', 'address': 'Haritha Hotel Jannaram, Jannaram, Mancherial District, Telangana', 'contact': '9133051007', 'room_type': 'A/C ROOM', 'total_rooms': '8', 'sunday_tariff': '1600', 'monday_tariff': '1450', 'tuesday_tariff': '1450', 'wednesday_tariff': '1450', 'thursday_tariff': '1450', 'friday_tariff': '1600', 'saturday_tariff': '1600'}, {'hotel': 'JANNARAM,HARITHA HOTEL', 'city': 'JANNARAM', 'address': 'Haritha Hotel Jannaram, Jannaram, Mancherial District, Telangana', 'contact': '9133051007', 'room_type': 'NON A/C DORMITORY 6 BEDDED', 'total_rooms': '1', 'sunday_tariff': '1800', 'monday_tariff': '1600', 'tuesday_tariff': '1600', 'wednesday_tariff': '1600', 'thursday_tariff': '1600', 'friday_tariff': '1800', 'saturday_tariff': '1800'}, {'hotel': 'JANNARAM,HARITHA HOTEL', 'city': 'JANNARAM', 'address': 'Haritha Hotel Jannaram, Jannaram, Mancherial District, Telangana', 'contact': '9133051007', 'room_type': 'NON A/C COTTAGES', 'total_rooms': '2', 'sunday_tariff': '1050', 'monday_tariff': '950', 'tuesday_tariff': '950', 'wednesday_tariff': '950', 'thursday_tariff': '950', 'friday_tariff': '1050', 'saturday_tariff': '1050'}, {'hotel': 'KAKATIYA', 'city': 'WARANGAL', 'address': 'Haritha Hotel Kakatiya, Nakkalagutta, Hanmakonda, Warangal District, Telangana', 'contact': '9951022203', 'room_type': 'A/C SUITE', 'total_rooms': '5', 'sunday_tariff': '2750', 'monday_tariff': '2750', 'tuesday_tariff': '2750', 'wednesday_tariff': '2750', 'thursday_tariff': '2750', 'friday_tariff': '2750', 'saturday_tariff': '2750'}, {'hotel': 'KAKATIYA', 'city': 'WARANGAL', 'address': 'Haritha Hotel Kakatiya, Nakkalagutta, Hanmakonda, Warangal District, Telangana', 'contact': '9951022203', 'room_type': 'A/C DELUXE', 'total_rooms': '48', 'sunday_tariff': '1850', 'monday_tariff': '1850', 'tuesday_tariff': '1850', 'wednesday_tariff': '1850', 'thursday_tariff': '1850', 'friday_tariff': '1850', 'saturday_tariff': '1850'}, {'hotel': 'KALESHWARAM HARITHA HOTEL', 'city': 'KALESHWARAM', 'address': 'Haritha Hotel Kaleshwaram, Kaleshwaram, Bhupalpally District, Telangana', 'contact': '9951239018', 'room_type': 'A/C STANDARD', 'total_rooms': '11', 'sunday_tariff': '1600', 'monday_tariff': '1300', 'tuesday_tariff': '1300', 'wednesday_tariff': '1300', 'thursday_tariff': '1300', 'friday_tariff': '1600', 'saturday_tariff': '1600'}, {'hotel': 'KALESHWARAM HARITHA HOTEL', 'city': 'KALESHWARAM', 'address': 'Haritha Hotel Kaleshwaram, Kaleshwaram, Bhupalpally District, Telangana', 'contact': '9951239018', 'room_type': 'NON A/C ROOM', 'total_rooms': '5', 'sunday_tariff': '999', 'monday_tariff': '800', 'tuesday_tariff': '800', 'wednesday_tariff': '800', 'thursday_tariff': '800', 'friday_tariff': '999', 'saturday_tariff': '999'}, {'hotel': 'KALESHWARAM HARITHA HOTEL', 'city': 'KALESHWARAM', 'address': 'Haritha Hotel Kaleshwaram, Kaleshwaram, Bhupalpally District, Telangana', 'contact': '9951239018', 'room_type': 'A/C DELUXE', 'total_rooms': '3', 'sunday_tariff': '1800', 'monday_tariff': '1500', 'tuesday_tariff': '1500', 'wednesday_tariff': '1500', 'thursday_tariff': '1500', 'friday_tariff': '1800', 'saturday_tariff': '1800'}, {'hotel': 'KEESARAGUTTA,HARITHA HOTEL', 'city': 'KEESARAGUTTA', 'address': 'Haritha Hotel Keesaragutta, Keesaragutta, Medchal - Malkajgiri District, Telangana', 'contact': '9010077395', 'room_type': 'NON A/C DORMITORY', 'total_rooms': '1', 'sunday_tariff': '1050', 'monday_tariff': '1050', 'tuesday_tariff': '1050', 'wednesday_tariff': '1050', 'thursday_tariff': '1050', 'friday_tariff': '1050', 'saturday_tariff': '1050'}, {'hotel': 'KEESARAGUTTA,HARITHA HOTEL', 'city': 'KEESARAGUTTA', 'address': 'Haritha Hotel Keesaragutta, Keesaragutta, Medchal - Malkajgiri District, Telangana', 'contact': '9010077395', 'room_type': 'NON A/C ROOM', 'total_rooms': '9', 'sunday_tariff': '1150', 'monday_tariff': '1150', 'tuesday_tariff': '1150', 'wednesday_tariff': '1150', 'thursday_tariff': '1150', 'friday_tariff': '1150', 'saturday_tariff': '1150'}, {'hotel': 'KEESARAGUTTA,HARITHA HOTEL', 'city': 'KEESARAGUTTA', 'address': 'Haritha Hotel Keesaragutta, Keesaragutta, Medchal - Malkajgiri District, Telangana', 'contact': '9010077395', 'room_type': 'A/C ROOM', 'total_rooms': '6', 'sunday_tariff': '1600', 'monday_tariff': '1600', 'tuesday_tariff': '1600', 'wednesday_tariff': '1600', 'thursday_tariff': '1600', 'friday_tariff': '1600', 'saturday_tariff': '1600'}, {'hotel': 'KONDAGATTU HARITHA HOTEL', 'city': 'KONDAGATTU', 'address': 'Haritha Hotel Kondagattu, Kondagattu, Jagitial District, Telangana', 'contact': '9493370431', 'room_type': 'A/C ROOM', 'total_rooms': '4', 'sunday_tariff': '999', 'monday_tariff': '999', 'tuesday_tariff': '999', 'wednesday_tariff': '999', 'thursday_tariff': '999', 'friday_tariff': '999', 'saturday_tariff': '999'}, {'hotel': 'KONDAGATTU HARITHA HOTEL', 'city': 'KONDAGATTU', 'address': 'Haritha Hotel Kondagattu, Kondagattu, Jagitial District, Telangana', 'contact': '9493370431', 'room_type': 'NON A/C ROOM', 'total_rooms': '5', 'sunday_tariff': '599', 'monday_tariff': '599', 'tuesday_tariff': '599', 'wednesday_tariff': '599', 'thursday_tariff': '599', 'friday_tariff': '599', 'saturday_tariff': '599'}, {'hotel': 'KOTHAKONDA HARITHA HOTEL', 'city': 'KOTHAKONDA', 'address': 'Kothakonda, Warangal Rural', 'contact': '9014709313', 'room_type': 'NON A/C ROOM', 'total_rooms': '8', 'sunday_tariff': '699', 'monday_tariff': '699', 'tuesday_tariff': '699', 'wednesday_tariff': '699', 'thursday_tariff': '699', 'friday_tariff': '699', 'saturday_tariff': '699'}, {'hotel': 'LAKNAVARAM', 'city': 'LAKNAVARAM', 'address': 'Haritha Hotel Laknavaram, Govindarao Pet, Warangal Rural District, Telangana', 'contact': '9642454454', 'room_type': 'A/C DELUXE', 'total_rooms': '10', 'sunday_tariff': '2800', 'monday_tariff': '2800', 'tuesday_tariff': '2800', 'wednesday_tariff': '2800', 'thursday_tariff': '2800', 'friday_tariff': '2800', 'saturday_tariff': '2800'}, {'hotel': 'LAKNAVARAM', 'city': 'LAKNAVARAM', 'address': 'Haritha Hotel Laknavaram, Govindarao Pet, Warangal Rural District, Telangana', 'contact': '9642454454', 'room_type': 'NON A/C ROOM', 'total_rooms': '4', 'sunday_tariff': '1800', 'monday_tariff': '1800', 'tuesday_tariff': '1800', 'wednesday_tariff': '1800', 'thursday_tariff': '1800', 'friday_tariff': '1800', 'saturday_tariff': '1800'}, {'hotel': 'LAKNAVARAM', 'city': 'LAKNAVARAM', 'address': 'Haritha Hotel Laknavaram, Govindarao Pet, Warangal Rural District, Telangana', 'contact': '9642454454', 'room_type': 'A/C Glass Room (Island)', 'total_rooms': '2', 'sunday_tariff': '3000', 'monday_tariff': '3000', 'tuesday_tariff': '3000', 'wednesday_tariff': '3000', 'thursday_tariff': '3000', 'friday_tariff': '3000', 'saturday_tariff': '3000'}, {'hotel': 'MANNANUR HARITHA HOTEL', 'city': 'MANNANUR', 'address': 'Mannanur, Nagarkurnool Dist', 'contact': '9573758636', 'room_type': 'NON A/C 4 BEDDED ROOM', 'total_rooms': '3', 'sunday_tariff': '1785', 'monday_tariff': '1785', 'tuesday_tariff': '1785', 'wednesday_tariff': '1785', 'thursday_tariff': '1785', 'friday_tariff': '1785', 'saturday_tariff': '1785'}, {'hotel': 'MANNANUR HARITHA HOTEL', 'city': 'MANNANUR', 'address': 'Mannanur, Nagarkurnool Dist', 'contact': '9573758636', 'room_type': 'NON A/C ROOM 2 BEDDED', 'total_rooms': '4', 'sunday_tariff': '1070', 'monday_tariff': '1070', 'tuesday_tariff': '1070', 'wednesday_tariff': '1070', 'thursday_tariff': '1070', 'friday_tariff': '1070', 'saturday_tariff': '1070'}, {'hotel': 'MEDAK FORT,HARITHA HERITAGE HOTEL', 'city': 'MEDAK', 'address': 'Haritha Hotel Medak, Medak Fort, Medak District, Telangana', 'contact': '9133533917', 'room_type': 'A/C SUITE', 'total_rooms': '1', 'sunday_tariff': '1500', 'monday_tariff': '1500', 'tuesday_tariff': '1500', 'wednesday_tariff': '1500', 'thursday_tariff': '1500', 'friday_tariff': '1500', 'saturday_tariff': '1500'}, {'hotel': 'MEDAK FORT,HARITHA HERITAGE HOTEL', 'city': 'MEDAK', 'address': 'Haritha Hotel Medak, Medak Fort, Medak District, Telangana', 'contact': '9133533917', 'room_type': 'A/C STANDARD', 'total_rooms': '2', 'sunday_tariff': '1200', 'monday_tariff': '1200', 'tuesday_tariff': '1200', 'wednesday_tariff': '1200', 'thursday_tariff': '1200', 'friday_tariff': '1200', 'saturday_tariff': '1200'}, {'hotel': 'MEDARAM', 'city': 'MEDARAM', 'address': 'Haritha Hotel Medaram, Medaram, Warangal Rural District, Telangana', 'contact': '9989178402', 'room_type': 'A/C SUITE', 'total_rooms': '2', 'sunday_tariff': '2800', 'monday_tariff': '2800', 'tuesday_tariff': '2800', 'wednesday_tariff': '2800', 'thursday_tariff': '2800', 'friday_tariff': '2800', 'saturday_tariff': '2800'}, {'hotel': 'MEDARAM', 'city': 'MEDARAM', 'address': 'Haritha Hotel Medaram, Medaram, Warangal Rural District, Telangana', 'contact': '9989178402', 'room_type': 'NON A/C ROOM', 'total_rooms': '6', 'sunday_tariff': '999', 'monday_tariff': '999', 'tuesday_tariff': '999', 'wednesday_tariff': '999', 'thursday_tariff': '999', 'friday_tariff': '999', 'saturday_tariff': '999'}, {'hotel': 'MEDARAM', 'city': 'MEDARAM', 'address': 'Haritha Hotel Medaram, Medaram, Warangal Rural District, Telangana', 'contact': '9989178402', 'room_type': 'A/C ROOM', 'total_rooms': '2', 'sunday_tariff': '1785', 'monday_tariff': '1785', 'tuesday_tariff': '1785', 'wednesday_tariff': '1785', 'thursday_tariff': '1785', 'friday_tariff': '1785', 'saturday_tariff': '1785'}, {'hotel': 'PAKHALA HARITHA HOTEL', 'city': 'PAKAL', 'address': 'Haritha Hotel Pakhala, Pakhala, Warangal Rural District, Telangana', 'contact': '9848644969', 'room_type': 'TENTED COTTAGES', 'total_rooms': '2', 'sunday_tariff': '1160', 'monday_tariff': '999', 'tuesday_tariff': '999', 'wednesday_tariff': '999', 'thursday_tariff': '999', 'friday_tariff': '1160', 'saturday_tariff': '1160'}, {'hotel': 'PAKHALA HARITHA HOTEL', 'city': 'PAKAL', 'address': 'Haritha Hotel Pakhala, Pakhala, Warangal Rural District, Telangana', 'contact': '9848644969', 'room_type': 'GLASS COTTAGES', 'total_rooms': '2', 'sunday_tariff': '1340', 'monday_tariff': '1200', 'tuesday_tariff': '1200', 'wednesday_tariff': '1200', 'thursday_tariff': '1200', 'friday_tariff': '1340', 'saturday_tariff': '1340'}, {'hotel': 'POCHAMPALLY HARITHA HOTEL', 'city': 'POCHAMPALLY', 'address': 'Haritha Hotel Pochampally, Pochampally, Yadadri Bhuvanagiri District, Telangana', 'contact': '9010264700', 'room_type': 'NON A/C DORMITORY 4 BEDDED', 'total_rooms': '2', 'sunday_tariff': '750', 'monday_tariff': '750', 'tuesday_tariff': '750', 'wednesday_tariff': '750', 'thursday_tariff': '750', 'friday_tariff': '750', 'saturday_tariff': '750'}, {'hotel': 'POCHAMPALLY HARITHA HOTEL', 'city': 'POCHAMPALLY', 'address': 'Haritha Hotel Pochampally, Pochampally, Yadadri Bhuvanagiri District, Telangana', 'contact': '9010264700', 'room_type': 'CONFERENCE HALL', 'total_rooms': '1', 'sunday_tariff': '1000', 'monday_tariff': '1000', 'tuesday_tariff': '1000', 'wednesday_tariff': '1000', 'thursday_tariff': '1000', 'friday_tariff': '1000', 'saturday_tariff': '1000'}, {'hotel': 'POCHAMPALLY HARITHA HOTEL', 'city': 'POCHAMPALLY', 'address': 'Haritha Hotel Pochampally, Pochampally, Yadadri Bhuvanagiri District, Telangana', 'contact': '9010264700', 'room_type': 'A/C ROOM', 'total_rooms': '1', 'sunday_tariff': '950', 'monday_tariff': '950', 'tuesday_tariff': '950', 'wednesday_tariff': '950', 'thursday_tariff': '950', 'friday_tariff': '950', 'saturday_tariff': '950'}, {'hotel': 'POCHAMPALLY HARITHA HOTEL', 'city': 'POCHAMPALLY', 'address': 'Haritha Hotel Pochampally, Pochampally, Yadadri Bhuvanagiri District, Telangana', 'contact': '9010264700', 'room_type': 'NON A/C DELUXE', 'total_rooms': '2', 'sunday_tariff': '700', 'monday_tariff': '700', 'tuesday_tariff': '700', 'wednesday_tariff': '700', 'thursday_tariff': '700', 'friday_tariff': '700', 'saturday_tariff': '700'}, {'hotel': 'RAMAPPA', 'city': 'RAMMAPPA', 'address': 'Haritha Hotel Ramappa, Ramappa, Warangal Rural District, Telangana', 'contact': '8686949515', 'room_type': 'NON A/C ROOM  (OLD)', 'total_rooms': '4', 'sunday_tariff': '1050', 'monday_tariff': '900', 'tuesday_tariff': '900', 'wednesday_tariff': '900', 'thursday_tariff': '900', 'friday_tariff': '1050', 'saturday_tariff': '1050'}, {'hotel': 'RAMAPPA', 'city': 'RAMMAPPA', 'address': 'Haritha Hotel Ramappa, Ramappa, Warangal Rural District, Telangana', 'contact': '8686949515', 'room_type': 'A/C DELUXE (NEW)', 'total_rooms': '6', 'sunday_tariff': '1800', 'monday_tariff': '1500', 'tuesday_tariff': '1500', 'wednesday_tariff': '1500', 'thursday_tariff': '1500', 'friday_tariff': '1800', 'saturday_tariff': '1800'}, {'hotel': 'RAMAPPA', 'city': 'RAMMAPPA', 'address': 'Haritha Hotel Ramappa, Ramappa, Warangal Rural District, Telangana', 'contact': '8686949515', 'room_type': 'A/C ROOM (OLD)', 'total_rooms': '2', 'sunday_tariff': '1500', 'monday_tariff': '1300', 'tuesday_tariff': '1300', 'wednesday_tariff': '1300', 'thursday_tariff': '1300', 'friday_tariff': '1500', 'saturday_tariff': '1500'}, {'hotel': 'SHAMIRPET LAKE RESORT', 'city': 'SHAMIRPET', 'address': 'Haritha Hotel Shamirpet, Shamirpet, Medchal Malkajgiri District, Telangana', 'contact': '9553586349', 'room_type': 'A/C Lake View', 'total_rooms': '5', 'sunday_tariff': '2000', 'monday_tariff': '2000', 'tuesday_tariff': '2000', 'wednesday_tariff': '2000', 'thursday_tariff': '2000', 'friday_tariff': '2000', 'saturday_tariff': '2000'}, {'hotel': 'SHAMIRPET LAKE RESORT', 'city': 'SHAMIRPET', 'address': 'Haritha Hotel Shamirpet, Shamirpet, Medchal Malkajgiri District, Telangana', 'contact': '9553586349', 'room_type': 'A/C ROOM', 'total_rooms': '6', 'sunday_tariff': '1800', 'monday_tariff': '1800', 'tuesday_tariff': '1800', 'wednesday_tariff': '1800', 'thursday_tariff': '1800', 'friday_tariff': '1800', 'saturday_tariff': '1800'}, {'hotel': 'SHAMIRPET LAKE RESORT', 'city': 'SHAMIRPET', 'address': 'Haritha Hotel Shamirpet, Shamirpet, Medchal Malkajgiri District, Telangana', 'contact': '9553586349', 'room_type': 'NON A/C ROOM', 'total_rooms': '2', 'sunday_tariff': '1399', 'monday_tariff': '1399', 'tuesday_tariff': '1399', 'wednesday_tariff': '1399', 'thursday_tariff': '1399', 'friday_tariff': '1399', 'saturday_tariff': '1399'}, {'hotel': 'SINGOOR', 'city': 'SINGOOR', 'address': 'Haritha Hotel Singoor, Singoor, Sanga Reddy District, Telangana', 'contact': '9951968300', 'room_type': 'A/C ROOM', 'total_rooms': '3', 'sunday_tariff': '1350', 'monday_tariff': '1350', 'tuesday_tariff': '1350', 'wednesday_tariff': '1350', 'thursday_tariff': '1350', 'friday_tariff': '1350', 'saturday_tariff': '1350'}, {'hotel': 'SINGOOR', 'city': 'SINGOOR', 'address': 'Haritha Hotel Singoor, Singoor, Sanga Reddy District, Telangana', 'contact': '9951968300', 'room_type': 'NON A/C ROOM', 'total_rooms': '4', 'sunday_tariff': '999', 'monday_tariff': '999', 'tuesday_tariff': '999', 'wednesday_tariff': '999', 'thursday_tariff': '999', 'friday_tariff': '999', 'saturday_tariff': '999'}, {'hotel': 'SINGOTAM HARITHA HOTEL', 'city': 'SINGOTAM', 'address': 'Singotam, Mahbubnagar', 'contact': '9133322542', 'room_type': 'NON A/C DORMITORY', 'total_rooms': '3', 'sunday_tariff': '999', 'monday_tariff': '999', 'tuesday_tariff': '999', 'wednesday_tariff': '999', 'thursday_tariff': '999', 'friday_tariff': '999', 'saturday_tariff': '999'}, {'hotel': 'SOMASILA HARITHA HOTEL', 'city': 'SOMASILA', 'address': 'Haritha Hotel Somasila, Somasila, Mahabubnagar District, Telangana', 'contact': '9133322542', 'room_type': 'DORMITORY TWO BEDDED (OLD)', 'total_rooms': '1', 'sunday_tariff': '500', 'monday_tariff': '500', 'tuesday_tariff': '500', 'wednesday_tariff': '500', 'thursday_tariff': '500', 'friday_tariff': '500', 'saturday_tariff': '500'}, {'hotel': 'SOMASILA HARITHA HOTEL', 'city': 'SOMASILA', 'address': 'Haritha Hotel Somasila, Somasila, Mahabubnagar District, Telangana', 'contact': '9133322542', 'room_type': 'NEW COTTAGES A/C ROOMS', 'total_rooms': '7', 'sunday_tariff': '2000', 'monday_tariff': '1800', 'tuesday_tariff': '1800', 'wednesday_tariff': '1800', 'thursday_tariff': '1800', 'friday_tariff': '2000', 'saturday_tariff': '2000'}, {'hotel': 'SOMASILA HARITHA HOTEL', 'city': 'SOMASILA', 'address': 'Haritha Hotel Somasila, Somasila, Mahabubnagar District, Telangana', 'contact': '9133322542', 'room_type': 'NEW NON A/C ROOMS', 'total_rooms': '2', 'sunday_tariff': '1200', 'monday_tariff': '999', 'tuesday_tariff': '999', 'wednesday_tariff': '999', 'thursday_tariff': '999', 'friday_tariff': '1200', 'saturday_tariff': '1200'}, {'hotel': 'SOMASILA HARITHA HOTEL', 'city': 'SOMASILA', 'address': 'Haritha Hotel Somasila, Somasila, Mahabubnagar District, Telangana', 'contact': '9133322542', 'room_type': 'NEW NON A/C DORMITORY(4 BEDDED) ROOM', 'total_rooms': '5', 'sunday_tariff': '2016', 'monday_tariff': '2016', 'tuesday_tariff': '2016', 'wednesday_tariff': '2016', 'thursday_tariff': '2016', 'friday_tariff': '2016', 'saturday_tariff': '2016'}, {'hotel': 'SOMASILA HARITHA HOTEL', 'city': 'SOMASILA', 'address': 'Haritha Hotel Somasila, Somasila, Mahabubnagar District, Telangana', 'contact': '9133322542', 'room_type': 'A/C ROOM (OLD)', 'total_rooms': '1', 'sunday_tariff': '900', 'monday_tariff': '900', 'tuesday_tariff': '900', 'wednesday_tariff': '900', 'thursday_tariff': '900', 'friday_tariff': '900', 'saturday_tariff': '900'}, {'hotel': 'SOMASILA HARITHA HOTEL', 'city': 'SOMASILA', 'address': 'Haritha Hotel Somasila, Somasila, Mahabubnagar District, Telangana', 'contact': '9133322542', 'room_type': 'NON A/C ROOM  (OLD)', 'total_rooms': '1', 'sunday_tariff': '599', 'monday_tariff': '599', 'tuesday_tariff': '599', 'wednesday_tariff': '599', 'thursday_tariff': '599', 'friday_tariff': '599', 'saturday_tariff': '599'}, {'hotel': 'TADVAI HARITHA HOTEL', 'city': 'TADVAI', 'address': 'Tadvai, Jayashankar District', 'contact': '9493549399', 'room_type': 'NON A/C ROOM', 'total_rooms': '26', 'sunday_tariff': '999', 'monday_tariff': '999', 'tuesday_tariff': '999', 'wednesday_tariff': '999', 'thursday_tariff': '999', 'friday_tariff': '999', 'saturday_tariff': '999'}, {'hotel': 'TADVAI HARITHA HOTEL', 'city': 'TADVAI', 'address': 'Tadvai, Jayashankar District', 'contact': '9493549399', 'room_type': 'A/C ROOM', 'total_rooms': '2', 'sunday_tariff': '1785', 'monday_tariff': '1785', 'tuesday_tariff': '1785', 'wednesday_tariff': '1785', 'thursday_tariff': '1785', 'friday_tariff': '1785', 'saturday_tariff': '1785'}, {'hotel': 'TARAMATI BARADARI,HARITHA,IBHRAHIMBAGH,HYDERABAD', 'city': 'HYDERABAD', 'address': 'Haritha Taramati Baradari, Ibrahimbagh, Gandipet, Hyderabad', 'contact': '9848827102', 'room_type': 'A/C SUITE', 'total_rooms': '5', 'sunday_tariff': '2680', 'monday_tariff': '2680', 'tuesday_tariff': '2680', 'wednesday_tariff': '2680', 'thursday_tariff': '2680', 'friday_tariff': '2680', 'saturday_tariff': '2680'}, {'hotel': 'TARAMATI BARADARI,HARITHA,IBHRAHIMBAGH,HYDERABAD', 'city': 'HYDERABAD', 'address': 'Haritha Taramati Baradari, Ibrahimbagh, Gandipet, Hyderabad', 'contact': '9848827102', 'room_type': 'A/C STANDARD', 'total_rooms': '24', 'sunday_tariff': '2009', 'monday_tariff': '2009', 'tuesday_tariff': '2009', 'wednesday_tariff': '2009', 'thursday_tariff': '2009', 'friday_tariff': '2009', 'saturday_tariff': '2009'}, {'hotel': 'THE PLAZA', 'city': 'HYDERABAD', 'address': 'The Plaza, Begumpet, Hyderabad', 'contact': '9553833316', 'room_type': 'A/C STANDARD', 'total_rooms': '20', 'sunday_tariff': '3328', 'monday_tariff': '3328', 'tuesday_tariff': '3328', 'wednesday_tariff': '3328', 'thursday_tariff': '3328', 'friday_tariff': '3328', 'saturday_tariff': '3328'}, {'hotel': 'VEMULAWADA HARITHA HOTEL', 'city': 'VEMULAWADA', 'address': 'Haritha Hotel Vemulawada, Vemulawada, Rajanna Siricilla District, Telangana', 'contact': '8499830815', 'room_type': 'A/C ROOM', 'total_rooms': '3', 'sunday_tariff': '999', 'monday_tariff': '999', 'tuesday_tariff': '999', 'wednesday_tariff': '999', 'thursday_tariff': '999', 'friday_tariff': '999', 'saturday_tariff': '999'}, {'hotel': 'VEMULAWADA HARITHA HOTEL', 'city': 'VEMULAWADA', 'address': 'Haritha Hotel Vemulawada, Vemulawada, Rajanna Siricilla District, Telangana', 'contact': '8499830815', 'room_type': 'NON A/C ROOM', 'total_rooms': '4', 'sunday_tariff': '599', 'monday_tariff': '599', 'tuesday_tariff': '599', 'wednesday_tariff': '599', 'thursday_tariff': '599', 'friday_tariff': '599', 'saturday_tariff': '599'}, {'hotel': 'VEMULAWADA HARITHA HOTEL', 'city': 'VEMULAWADA', 'address': 'Haritha Hotel Vemulawada, Vemulawada, Rajanna Siricilla District, Telangana', 'contact': '8499830815', 'room_type': 'A/C DORMITORY 5 BEDDED', 'total_rooms': '1', 'sunday_tariff': '1680', 'monday_tariff': '1680', 'tuesday_tariff': '1680', 'wednesday_tariff': '1680', 'thursday_tariff': '1680', 'friday_tariff': '1680', 'saturday_tariff': '1680'}, {'hotel': 'VEMULAWADA HARITHA HOTEL', 'city': 'VEMULAWADA', 'address': 'Haritha Hotel Vemulawada, Vemulawada, Rajanna Siricilla District, Telangana', 'contact': '8499830815', 'room_type': 'NON A/C DORMITORY 5 BEDDED', 'total_rooms': '1', 'sunday_tariff': '1000', 'monday_tariff': '1000', 'tuesday_tariff': '1000', 'wednesday_tariff': '1000', 'thursday_tariff': '1000', 'friday_tariff': '1000', 'saturday_tariff': '1000'}, {'hotel': 'VIJAY VIHAR,NAGRJUNSAGAR', 'city': 'NAGARJUNA SAGAR', 'address': 'Haritha Hotel Vijay Vihar, Nagarjunasagar, Nalgonda District, Telangana', 'contact': '9705188336', 'room_type': 'A/C SUITE', 'total_rooms': '6', 'sunday_tariff': '3700', 'monday_tariff': '2500', 'tuesday_tariff': '2500', 'wednesday_tariff': '2500', 'thursday_tariff': '2500', 'friday_tariff': '3700', 'saturday_tariff': '3700'}, {'hotel': 'VIJAY VIHAR,NAGRJUNSAGAR', 'city': 'NAGARJUNA SAGAR', 'address': 'Haritha Hotel Vijay Vihar, Nagarjunasagar, Nalgonda District, Telangana', 'contact': '9705188336', 'room_type': 'A/C DELUXE', 'total_rooms': '8', 'sunday_tariff': '2970', 'monday_tariff': '1870', 'tuesday_tariff': '1870', 'wednesday_tariff': '1870', 'thursday_tariff': '1870', 'friday_tariff': '2970', 'saturday_tariff': '2970'}, {'hotel': 'VIJAY VIHAR,NAGRJUNSAGAR', 'city': 'NAGARJUNA SAGAR', 'address': 'Haritha Hotel Vijay Vihar, Nagarjunasagar, Nalgonda District, Telangana', 'contact': '9705188336', 'room_type': 'A/C STANDARD', 'total_rooms': '20', 'sunday_tariff': '2400', 'monday_tariff': '1400', 'tuesday_tariff': '1400', 'wednesday_tariff': '1400', 'thursday_tariff': '1400', 'friday_tariff': '2400', 'saturday_tariff': '2400'}, {'hotel': 'YADAGIRIGUTTA,NALGONDA,HARITHA HOTEL', 'city': 'YADAGIRIGUTTA', 'address': 'Haritha Hotel Yadagirigutta, Yadadri Bhuvanagiri District, Telangana', 'contact': '9848823074', 'room_type': 'A/C ROOM', 'total_rooms': '7', 'sunday_tariff': '1815', 'monday_tariff': '1650', 'tuesday_tariff': '1650', 'wednesday_tariff': '1650', 'thursday_tariff': '1650', 'friday_tariff': '1815', 'saturday_tariff': '1815'}, {'hotel': 'YADAGIRIGUTTA,NALGONDA,HARITHA HOTEL', 'city': 'YADAGIRIGUTTA', 'address': 'Haritha Hotel Yadagirigutta, Yadadri Bhuvanagiri District, Telangana', 'contact': '9848823074', 'room_type': 'A/C DELUXE', 'total_rooms': '3', 'sunday_tariff': '2300', 'monday_tariff': '1700', 'tuesday_tariff': '1700', 'wednesday_tariff': '1700', 'thursday_tariff': '1700', 'friday_tariff': '2300', 'saturday_tariff': '2300'}], 'count': 83, 'schema': {'91258cd8-1f59-5322-916c-7ea80378ec5e': {'fields': {'hotel': {'type': 'text', 'mysql_type': 'text', 'description': '\\ufeffHotel'}, 'city': {'type': 'text', 'mysql_type': 'text', 'description': 'City'}, 'address': {'type': 'text', 'mysql_type': 'text', 'description': 'Address'}, 'contact': {'type': 'text', 'mysql_type': 'text', 'description': 'Contact'}, 'room_type': {'type': 'text', 'mysql_type': 'text', 'description': 'Room Type'}, 'total_rooms': {'type': 'text', 'mysql_type': 'text', 'description': 'Total Rooms'}, 'sunday_tariff': {'type': 'text', 'mysql_type': 'text', 'description': 'Sunday_Tariff'}, 'monday_tariff': {'type': 'text', 'mysql_type': 'text', 'description': 'Monday_Tariff'}, 'tuesday_tariff': {'type': 'text', 'mysql_type': 'text', 'description': 'Tuesday_Tariff'}, 'wednesday_tariff': {'type': 'text', 'mysql_type': 'text', 'description': 'Wednesday_Tariff'}, 'thursday_tariff': {'type': 'text', 'mysql_type': 'text', 'description': 'Thursday_Tariff'}, 'friday_tariff': {'type': 'text', 'mysql_type': 'text', 'description': 'Friday_Tariff'}, 'saturday_tariff': {'type': 'text', 'mysql_type': 'text', 'description': 'Saturday_Tariff'}}}}, 'query': {'count': True, 'results': True, 'schema': True, 'keys': True, 'format': 'json', 'resources': [{'id': '91258cd8-1f59-5322-916c-7ea80378ec5e', 'alias': 't'}], 'limit': 500, 'offset': 0, 'rowIds': False, 'properties': ['hotel', 'city', 'address', 'contact', 'room_type', 'total_rooms', 'sunday_tariff', 'monday_tariff', 'tuesday_tariff', 'wednesday_tariff', 'thursday_tariff', 'friday_tariff', 'saturday_tariff']}}\n",
      "Keys in the JSON data: dict_keys(['results', 'count', 'schema', 'query'])\n",
      "                                   hotel                   city  \\\n",
      "0                                ALAMPUR                ALAMPUR   \n",
      "1                                ALAMPUR                ALAMPUR   \n",
      "2                               ALISAGAR               ALISAGAR   \n",
      "3                               ALISAGAR               ALISAGAR   \n",
      "4                  ANANTHAGIRI VIKARABAD  ANANTHAGIRI VIKARABAD   \n",
      "..                                   ...                    ...   \n",
      "78              VIJAY VIHAR,NAGRJUNSAGAR        NAGARJUNA SAGAR   \n",
      "79              VIJAY VIHAR,NAGRJUNSAGAR        NAGARJUNA SAGAR   \n",
      "80              VIJAY VIHAR,NAGRJUNSAGAR        NAGARJUNA SAGAR   \n",
      "81  YADAGIRIGUTTA,NALGONDA,HARITHA HOTEL          YADAGIRIGUTTA   \n",
      "82  YADAGIRIGUTTA,NALGONDA,HARITHA HOTEL          YADAGIRIGUTTA   \n",
      "\n",
      "                                              address     contact  \\\n",
      "0   Haritha Hotel Alampur,  Alampur, Jogulamba Gad...  9705392100   \n",
      "1   Haritha Hotel Alampur,  Alampur, Jogulamba Gad...  9705392100   \n",
      "2   Haritha Hotel Alisagar, Alisagar, Nizambad Dis...  7997253366   \n",
      "3   Haritha Hotel Alisagar, Alisagar, Nizambad Dis...  7997253366   \n",
      "4   Haritha Hotel Ananthagiri, Ananthagiri Hills, ...  9010911122   \n",
      "..                                                ...         ...   \n",
      "78  Haritha Hotel Vijay Vihar, Nagarjunasagar, Nal...  9705188336   \n",
      "79  Haritha Hotel Vijay Vihar, Nagarjunasagar, Nal...  9705188336   \n",
      "80  Haritha Hotel Vijay Vihar, Nagarjunasagar, Nal...  9705188336   \n",
      "81  Haritha Hotel Yadagirigutta, Yadadri Bhuvanagi...  9848823074   \n",
      "82  Haritha Hotel Yadagirigutta, Yadadri Bhuvanagi...  9848823074   \n",
      "\n",
      "       room_type total_rooms sunday_tariff monday_tariff tuesday_tariff  \\\n",
      "0       A/C ROOM          15          1500          1500           1500   \n",
      "1      A/C SUITE           1          3000          3000           3000   \n",
      "2       A/C ROOM           4          1500          1200           1200   \n",
      "3   NON A/C ROOM           3           999           750            750   \n",
      "4      A/C SUITE           1          3700          3100           3100   \n",
      "..           ...         ...           ...           ...            ...   \n",
      "78     A/C SUITE           6          3700          2500           2500   \n",
      "79    A/C DELUXE           8          2970          1870           1870   \n",
      "80  A/C STANDARD          20          2400          1400           1400   \n",
      "81      A/C ROOM           7          1815          1650           1650   \n",
      "82    A/C DELUXE           3          2300          1700           1700   \n",
      "\n",
      "   wednesday_tariff thursday_tariff friday_tariff saturday_tariff  \n",
      "0              1500            1500          1500            1500  \n",
      "1              3000            3000          3000            3000  \n",
      "2              1200            1200          1500            1500  \n",
      "3               750             750           999             999  \n",
      "4              3100            3100          3700            3700  \n",
      "..              ...             ...           ...             ...  \n",
      "78             2500            2500          3700            3700  \n",
      "79             1870            1870          2970            2970  \n",
      "80             1400            1400          2400            2400  \n",
      "81             1650            1650          1815            1815  \n",
      "82             1700            1700          2300            2300  \n",
      "\n",
      "[83 rows x 13 columns]\n",
      "Success!! Data has been exported to Telangana_Hotels_Tariff.csv\n"
     ]
    }
   ],
   "source": [
    "# Ignore the SSL warning using URL3 \n",
    "urllib3.disable_warnings()\n",
    "# Disable SSL certificate verification (not recommended for production use)\n",
    "\n",
    "# Get the API URL\n",
    "url = \"https://data.telangana.gov.in/api/1/datastore/query/91258cd8-1f59-5322-916c-7ea80378ec5e?count=true&results=true&schema=true&keys=true&format=json\"\n",
    "response = requests.get(url, verify=False)\n",
    "print(response)         # Response 200 means that the request was successful.\n",
    "\n",
    "if response.status_code == 200:\n",
    "    data = response.json()\n",
    "    print(data)  # Print the entire JSON response\n",
    "\n",
    "    # Print the keys present in the JSON data\n",
    "    if data:\n",
    "        keys = data.keys()\n",
    "        print(\"Keys in the JSON data:\", keys)\n",
    "\n",
    "        # Accessing the appropriate key containing the data\n",
    "        results = data.get('results', [])  \n",
    "\n",
    "        if results:\n",
    "            # Convert JSON data to a pandas DataFrame\n",
    "            df = pd.DataFrame(results)\n",
    "            print(df)\n",
    "            # Export the DataFrame to a CSV file\n",
    "            csv_filename = 'Telangana_Hotels_Tariff.csv'\n",
    "            #df.to_csv(csv_filename, index=False)\n",
    "\n",
    "            print(f\"Success!! Data has been exported to {csv_filename}\")\n",
    "        else:\n",
    "            print(\"UUps! No data found in the specified key.\")\n",
    "    else:\n",
    "        print(\"No JSON data found.\")\n",
    "else:\n",
    "    print(\" Uhh! Failed to retrieve data. Status code:\", response.status_code)\n"
   ]
  },
  {
   "cell_type": "markdown",
   "metadata": {},
   "source": [
    "# Hotels Latitude and Longitude"
   ]
  },
  {
   "cell_type": "code",
   "execution_count": 210,
   "metadata": {},
   "outputs": [
    {
     "name": "stdout",
     "output_type": "stream",
     "text": [
      "<Response [200]>\n",
      "{'results': [{'hotel': 'ALAMPUR', 'city': 'ALAMPUR', 'address': 'Haritha Hotel Alampur,  Alampur, Jogulamba Gadwal District, Telangana', 'contact': '9705392100', 'lat': '15.8798959', 'long': '78.126955'}, {'hotel': 'ALISAGAR', 'city': 'ALISAGAR', 'address': 'Haritha Hotel Alisagar, Alisagar, Nizambad District, Telangana', 'contact': '7997253366', 'lat': '18.6760051', 'long': '78.0111574'}, {'hotel': 'ANANTHAGIRI VIKARABAD', 'city': 'ANANTHAGIRI VIKARABAD', 'address': 'Haritha Hotel Ananthagiri, Ananthagiri Hills, Vikarabad, Telangana', 'contact': '9010911122', 'lat': '17.3117741', 'long': '77.875494'}, {'hotel': 'BASARA,HARITHA HOTEL', 'city': 'BASARA', 'address': 'Haritha Hotel Basar, Basar, Nirmal District, Telangana', 'contact': '9848074462', 'lat': '18.8795107', 'long': '77.9562862'}, {'hotel': 'BHADRACHALAM,HARITHA HOTEL', 'city': 'BHADRACHALAM', 'address': 'Haritha Hotel Bhadrachalam, Bhadrachalam, Bhadradri Kothagudem District, Telangana', 'contact': '9848823073', 'lat': '17.671396', 'long': '80.888053'}, {'hotel': 'DHARMAPURI HARITHA HOTEL', 'city': 'DHARMAPURI', 'address': 'Haritha Hotel Dharmapuri, Dharmapuri, Jagitial District, Telangana', 'contact': '8499830816', 'lat': '18.946652', 'long': '79.101702'}, {'hotel': 'EEGALAPENTA HARITHA HOTEL', 'city': 'EEGALAPENTA(Near Srisailam Dam West)', 'address': 'Near Srisailam Dam West', 'contact': '9912233234', 'lat': '16.09154704', 'long': '78.89260776'}, {'hotel': 'GADWAL', 'city': 'GADWAL', 'address': 'Haritha Hotel Gadwal, Gadwal, Jogulamba Gadwal District, Telangana', 'contact': '9705391200', 'lat': '16.2164079', 'long': '77.8192031'}, {'hotel': 'HARITHA HOTEL KADEM', 'city': 'KADEM', 'address': 'Haritha Hotel Kadem, Kadem, Nirmal District, Telangana', 'contact': '9133053007', 'lat': '19.100829', 'long': '78.778184'}, {'hotel': 'INDUR INN', 'city': 'NIZAMABAD', 'address': 'Haritha Hotel Indur Inn, Nizamabad, Nizamabad District, Telangana', 'contact': '9603667724', 'lat': '18.6770866', 'long': '78.102467'}, {'hotel': 'JANNARAM,HARITHA HOTEL', 'city': 'JANNARAM', 'address': 'Haritha Hotel Jannaram, Jannaram, Mancherial District, Telangana', 'contact': '9133051007', 'lat': '19.116908', 'long': '78.99899542'}, {'hotel': 'KAKATIYA', 'city': 'WARANGAL', 'address': 'Haritha Hotel Kakatiya, Nakkalagutta, Hanmakonda, Warangal District, Telangana', 'contact': '9951022203', 'lat': '17.9986665', 'long': '79.5552418'}, {'hotel': 'KALESHWARAM HARITHA HOTEL', 'city': 'KALESHWARAM', 'address': 'Haritha Hotel Kaleshwaram, Kaleshwaram, Bhupalpally District, Telangana', 'contact': '9951239018', 'lat': '18.80545417', 'long': '79.90502022'}, {'hotel': 'KEESARAGUTTA,HARITHA HOTEL', 'city': 'KEESARAGUTTA', 'address': 'Haritha Hotel Keesaragutta, Keesaragutta, Medchal - Malkajgiri District, Telangana', 'contact': '9010077395', 'lat': '17.5299982', 'long': '78.6880909'}, {'hotel': 'KONDAGATTU HARITHA HOTEL', 'city': 'KONDAGATTU', 'address': 'Haritha Hotel Kondagattu, Kondagattu, Jagitial District, Telangana', 'contact': '9493370431', 'lat': '18.6777447', 'long': '78.9220117'}, {'hotel': 'KOTHAKONDA HARITHA HOTEL', 'city': 'KOTHAKONDA', 'address': 'Kothakonda, Warangal Rural', 'contact': '9014709313', 'lat': '18.0390794', 'long': '79.3183189'}, {'hotel': 'LAKNAVARAM', 'city': 'LAKNAVARAM', 'address': 'Haritha Hotel Laknavaram, Govindarao Pet, Warangal Rural District, Telangana', 'contact': '9642454454', 'lat': '17.998667', 'long': '79.555242'}, {'hotel': 'MANNANUR HARITHA HOTEL', 'city': 'MANNANUR', 'address': 'Mannanur, Nagarkurnool Dist', 'contact': '9573758636', 'lat': '16.36119266', 'long': '78.74429269'}, {'hotel': 'MEDAK FORT,HARITHA HERITAGE HOTEL', 'city': 'MEDAK', 'address': 'Haritha Hotel Medak, Medak Fort, Medak District, Telangana', 'contact': '9133533917', 'lat': '18.044368', 'long': '78.254759'}, {'hotel': 'MEDARAM', 'city': 'MEDARAM', 'address': 'Haritha Hotel Medaram, Medaram, Warangal Rural District, Telangana', 'contact': '9989178402', 'lat': '18.32223978', 'long': '80.23524472'}, {'hotel': 'PAKHALA HARITHA HOTEL', 'city': 'PAKAL', 'address': 'Haritha Hotel Pakhala, Pakhala, Warangal Rural District, Telangana', 'contact': '9848644969', 'lat': '17.95102649', 'long': '79.97937152'}, {'hotel': 'POCHAMPALLY HARITHA HOTEL', 'city': 'POCHAMPALLY', 'address': 'Haritha Hotel Pochampally, Pochampally, Yadadri Bhuvanagiri District, Telangana', 'contact': '9010264700', 'lat': '16.9011059', 'long': '79.0501762'}, {'hotel': 'RAMAPPA', 'city': 'RAMMAPPA', 'address': 'Haritha Hotel Ramappa, Ramappa, Warangal Rural District, Telangana', 'contact': '8686949515', 'lat': '18.252698', 'long': '79.938946'}, {'hotel': 'SHAMIRPET LAKE RESORT', 'city': 'SHAMIRPET', 'address': 'Haritha Hotel Shamirpet, Shamirpet, Medchal Malkajgiri District, Telangana', 'contact': '9553586349', 'lat': '17.6008704', 'long': '78.5642346'}, {'hotel': 'SINGOOR', 'city': 'SINGOOR', 'address': 'Haritha Hotel Singoor, Singoor, Sanga Reddy District, Telangana', 'contact': '9951968300', 'lat': '17.733582', 'long': '77.91967'}, {'hotel': 'SINGOTAM HARITHA HOTEL', 'city': 'SINGOTAM', 'address': 'Singotam, Mahbubnagar', 'contact': '9133322542', 'lat': '16.0470392', 'long': '78.3267035'}, {'hotel': 'SOMASILA HARITHA HOTEL', 'city': 'SOMASILA', 'address': 'Haritha Hotel Somasila, Somasila, Mahabubnagar District, Telangana', 'contact': '9133322542', 'lat': '16.0470392', 'long': '78.3267035'}, {'hotel': 'TADVAI HARITHA HOTEL', 'city': 'TADVAI', 'address': 'Tadvai, Jayashankar District', 'contact': '9493549399', 'lat': '18.23819148', 'long': '80.31464922'}, {'hotel': 'TARAMATI BARADARI,HARITHA,IBHRAHIMBAGH,HYDERABAD', 'city': 'HYDERABAD', 'address': 'Haritha Taramati Baradari, Ibrahimbagh, Gandipet, Hyderabad', 'contact': '9848827102', 'lat': '17.375459', 'long': '78.379662'}, {'hotel': 'THE PLAZA', 'city': 'HYDERABAD', 'address': 'The Plaza, Begumpet, Hyderabad', 'contact': '9553833316', 'lat': '17.4451145', 'long': '78.4677545'}, {'hotel': 'VEMULAWADA HARITHA HOTEL', 'city': 'VEMULAWADA', 'address': 'Haritha Hotel Vemulawada, Vemulawada, Rajanna Siricilla District, Telangana', 'contact': '8499830815', 'lat': '18.4585121', 'long': '78.867124'}, {'hotel': 'VIJAY VIHAR,NAGRJUNSAGAR', 'city': 'NAGARJUNA SAGAR', 'address': 'Haritha Hotel Vijay Vihar, Nagarjunasagar, Nalgonda District, Telangana', 'contact': '9705188336', 'lat': '16.610465', 'long': '79.295754'}, {'hotel': 'YADAGIRIGUTTA,NALGONDA,HARITHA HOTEL', 'city': 'YADAGIRIGUTTA', 'address': 'Haritha Hotel Yadagirigutta, Yadadri Bhuvanagiri District, Telangana', 'contact': '9848823074', 'lat': '17.5924099', 'long': '78.9425352'}], 'count': 33, 'schema': {'35cb7b6a-fb69-5c41-8e24-efb79d342c3b': {'fields': {'hotel': {'type': 'text', 'mysql_type': 'text', 'description': '\\ufeffHotel'}, 'city': {'type': 'text', 'mysql_type': 'text', 'description': 'City'}, 'address': {'type': 'text', 'mysql_type': 'text', 'description': 'Address'}, 'contact': {'type': 'text', 'mysql_type': 'text', 'description': 'Contact'}, 'lat': {'type': 'text', 'mysql_type': 'text', 'description': 'Lat'}, 'long': {'type': 'text', 'mysql_type': 'text', 'description': 'Long'}}}}, 'query': {'count': True, 'results': True, 'schema': True, 'keys': True, 'format': 'json', 'resources': [{'id': '35cb7b6a-fb69-5c41-8e24-efb79d342c3b', 'alias': 't'}], 'limit': 500, 'offset': 0, 'rowIds': False, 'properties': ['hotel', 'city', 'address', 'contact', 'lat', 'long']}}\n",
      "Keys in the JSON data: dict_keys(['results', 'count', 'schema', 'query'])\n",
      "                                               hotel  \\\n",
      "0                                            ALAMPUR   \n",
      "1                                           ALISAGAR   \n",
      "2                              ANANTHAGIRI VIKARABAD   \n",
      "3                               BASARA,HARITHA HOTEL   \n",
      "4                         BHADRACHALAM,HARITHA HOTEL   \n",
      "5                           DHARMAPURI HARITHA HOTEL   \n",
      "6                          EEGALAPENTA HARITHA HOTEL   \n",
      "7                                             GADWAL   \n",
      "8                                HARITHA HOTEL KADEM   \n",
      "9                                          INDUR INN   \n",
      "10                            JANNARAM,HARITHA HOTEL   \n",
      "11                                          KAKATIYA   \n",
      "12                         KALESHWARAM HARITHA HOTEL   \n",
      "13                        KEESARAGUTTA,HARITHA HOTEL   \n",
      "14                          KONDAGATTU HARITHA HOTEL   \n",
      "15                          KOTHAKONDA HARITHA HOTEL   \n",
      "16                                        LAKNAVARAM   \n",
      "17                            MANNANUR HARITHA HOTEL   \n",
      "18                 MEDAK FORT,HARITHA HERITAGE HOTEL   \n",
      "19                                           MEDARAM   \n",
      "20                             PAKHALA HARITHA HOTEL   \n",
      "21                         POCHAMPALLY HARITHA HOTEL   \n",
      "22                                           RAMAPPA   \n",
      "23                             SHAMIRPET LAKE RESORT   \n",
      "24                                           SINGOOR   \n",
      "25                            SINGOTAM HARITHA HOTEL   \n",
      "26                            SOMASILA HARITHA HOTEL   \n",
      "27                              TADVAI HARITHA HOTEL   \n",
      "28  TARAMATI BARADARI,HARITHA,IBHRAHIMBAGH,HYDERABAD   \n",
      "29                                         THE PLAZA   \n",
      "30                          VEMULAWADA HARITHA HOTEL   \n",
      "31                          VIJAY VIHAR,NAGRJUNSAGAR   \n",
      "32              YADAGIRIGUTTA,NALGONDA,HARITHA HOTEL   \n",
      "\n",
      "                                    city  \\\n",
      "0                                ALAMPUR   \n",
      "1                               ALISAGAR   \n",
      "2                  ANANTHAGIRI VIKARABAD   \n",
      "3                                 BASARA   \n",
      "4                           BHADRACHALAM   \n",
      "5                             DHARMAPURI   \n",
      "6   EEGALAPENTA(Near Srisailam Dam West)   \n",
      "7                                 GADWAL   \n",
      "8                                  KADEM   \n",
      "9                              NIZAMABAD   \n",
      "10                              JANNARAM   \n",
      "11                              WARANGAL   \n",
      "12                           KALESHWARAM   \n",
      "13                          KEESARAGUTTA   \n",
      "14                            KONDAGATTU   \n",
      "15                            KOTHAKONDA   \n",
      "16                            LAKNAVARAM   \n",
      "17                              MANNANUR   \n",
      "18                                 MEDAK   \n",
      "19                               MEDARAM   \n",
      "20                                 PAKAL   \n",
      "21                           POCHAMPALLY   \n",
      "22                              RAMMAPPA   \n",
      "23                             SHAMIRPET   \n",
      "24                               SINGOOR   \n",
      "25                              SINGOTAM   \n",
      "26                              SOMASILA   \n",
      "27                                TADVAI   \n",
      "28                             HYDERABAD   \n",
      "29                             HYDERABAD   \n",
      "30                            VEMULAWADA   \n",
      "31                       NAGARJUNA SAGAR   \n",
      "32                         YADAGIRIGUTTA   \n",
      "\n",
      "                                              address     contact  \\\n",
      "0   Haritha Hotel Alampur,  Alampur, Jogulamba Gad...  9705392100   \n",
      "1   Haritha Hotel Alisagar, Alisagar, Nizambad Dis...  7997253366   \n",
      "2   Haritha Hotel Ananthagiri, Ananthagiri Hills, ...  9010911122   \n",
      "3   Haritha Hotel Basar, Basar, Nirmal District, T...  9848074462   \n",
      "4   Haritha Hotel Bhadrachalam, Bhadrachalam, Bhad...  9848823073   \n",
      "5   Haritha Hotel Dharmapuri, Dharmapuri, Jagitial...  8499830816   \n",
      "6                             Near Srisailam Dam West  9912233234   \n",
      "7   Haritha Hotel Gadwal, Gadwal, Jogulamba Gadwal...  9705391200   \n",
      "8   Haritha Hotel Kadem, Kadem, Nirmal District, T...  9133053007   \n",
      "9   Haritha Hotel Indur Inn, Nizamabad, Nizamabad ...  9603667724   \n",
      "10  Haritha Hotel Jannaram, Jannaram, Mancherial D...  9133051007   \n",
      "11  Haritha Hotel Kakatiya, Nakkalagutta, Hanmakon...  9951022203   \n",
      "12  Haritha Hotel Kaleshwaram, Kaleshwaram, Bhupal...  9951239018   \n",
      "13  Haritha Hotel Keesaragutta, Keesaragutta, Medc...  9010077395   \n",
      "14  Haritha Hotel Kondagattu, Kondagattu, Jagitial...  9493370431   \n",
      "15                         Kothakonda, Warangal Rural  9014709313   \n",
      "16  Haritha Hotel Laknavaram, Govindarao Pet, Wara...  9642454454   \n",
      "17                        Mannanur, Nagarkurnool Dist  9573758636   \n",
      "18  Haritha Hotel Medak, Medak Fort, Medak Distric...  9133533917   \n",
      "19  Haritha Hotel Medaram, Medaram, Warangal Rural...  9989178402   \n",
      "20  Haritha Hotel Pakhala, Pakhala, Warangal Rural...  9848644969   \n",
      "21  Haritha Hotel Pochampally, Pochampally, Yadadr...  9010264700   \n",
      "22  Haritha Hotel Ramappa, Ramappa, Warangal Rural...  8686949515   \n",
      "23  Haritha Hotel Shamirpet, Shamirpet, Medchal Ma...  9553586349   \n",
      "24  Haritha Hotel Singoor, Singoor, Sanga Reddy Di...  9951968300   \n",
      "25                              Singotam, Mahbubnagar  9133322542   \n",
      "26  Haritha Hotel Somasila, Somasila, Mahabubnagar...  9133322542   \n",
      "27                       Tadvai, Jayashankar District  9493549399   \n",
      "28  Haritha Taramati Baradari, Ibrahimbagh, Gandip...  9848827102   \n",
      "29                     The Plaza, Begumpet, Hyderabad  9553833316   \n",
      "30  Haritha Hotel Vemulawada, Vemulawada, Rajanna ...  8499830815   \n",
      "31  Haritha Hotel Vijay Vihar, Nagarjunasagar, Nal...  9705188336   \n",
      "32  Haritha Hotel Yadagirigutta, Yadadri Bhuvanagi...  9848823074   \n",
      "\n",
      "            lat         long  \n",
      "0    15.8798959    78.126955  \n",
      "1    18.6760051   78.0111574  \n",
      "2    17.3117741    77.875494  \n",
      "3    18.8795107   77.9562862  \n",
      "4     17.671396    80.888053  \n",
      "5     18.946652    79.101702  \n",
      "6   16.09154704  78.89260776  \n",
      "7    16.2164079   77.8192031  \n",
      "8     19.100829    78.778184  \n",
      "9    18.6770866    78.102467  \n",
      "10    19.116908  78.99899542  \n",
      "11   17.9986665   79.5552418  \n",
      "12  18.80545417  79.90502022  \n",
      "13   17.5299982   78.6880909  \n",
      "14   18.6777447   78.9220117  \n",
      "15   18.0390794   79.3183189  \n",
      "16    17.998667    79.555242  \n",
      "17  16.36119266  78.74429269  \n",
      "18    18.044368    78.254759  \n",
      "19  18.32223978  80.23524472  \n",
      "20  17.95102649  79.97937152  \n",
      "21   16.9011059   79.0501762  \n",
      "22    18.252698    79.938946  \n",
      "23   17.6008704   78.5642346  \n",
      "24    17.733582     77.91967  \n",
      "25   16.0470392   78.3267035  \n",
      "26   16.0470392   78.3267035  \n",
      "27  18.23819148  80.31464922  \n",
      "28    17.375459    78.379662  \n",
      "29   17.4451145   78.4677545  \n",
      "30   18.4585121    78.867124  \n",
      "31    16.610465    79.295754  \n",
      "32   17.5924099   78.9425352  \n",
      "Success!! Data has been exported to Telangana_Hotel_Location.csv\n"
     ]
    }
   ],
   "source": [
    "# Ignore the SSL warning using URL3 \n",
    "urllib3.disable_warnings()\n",
    "# Disable SSL certificate verification (not recommended for production use)\n",
    "\n",
    "# Get the API URL\n",
    "url = \"https://data.telangana.gov.in/api/1/datastore/query/35cb7b6a-fb69-5c41-8e24-efb79d342c3b?count=true&results=true&schema=true&keys=true&format=json\"\n",
    "response = requests.get(url, verify=False)\n",
    "print(response)    # Response 200 means that the request was successful.\n",
    "\n",
    "if response.status_code == 200:\n",
    "    data = response.json()\n",
    "    print(data)  # Print the entire JSON response\n",
    "\n",
    "    # Print the keys present in the JSON data\n",
    "    if data:\n",
    "        keys = data.keys()\n",
    "        print(\"Keys in the JSON data:\", keys)\n",
    "\n",
    "        # Accessing the appropriate key containing the data\n",
    "        results = data.get('results', [])  \n",
    "\n",
    "        if results:\n",
    "            # Convert JSON data to a pandas DataFrame\n",
    "            df = pd.DataFrame(results)\n",
    "            print(df)\n",
    "            # Export the DataFrame to a CSV file\n",
    "            csv_filename = 'Telangana_Hotel_Location.csv'\n",
    "            #df.to_csv(csv_filename, index=False)\n",
    "\n",
    "            print(f\"Success!! Data has been exported to {csv_filename}\")\n",
    "        else:\n",
    "            print(\"UUps! No data found in the specified key.\")\n",
    "    else:\n",
    "        print(\"No JSON data found.\")\n",
    "else:\n",
    "    print(\" Uhh! Failed to retrieve data. Status code:\", response.status_code)"
   ]
  },
  {
   "cell_type": "markdown",
   "metadata": {},
   "source": [
    "# Domestic Visitors"
   ]
  },
  {
   "cell_type": "code",
   "execution_count": 211,
   "metadata": {},
   "outputs": [
    {
     "name": "stdout",
     "output_type": "stream",
     "text": [
      "Data for 2014 has been exported to Domestic_Visitors\\Telangana_Domestic_Visitors_2014.csv\n",
      "Data for 2015 has been exported to Domestic_Visitors\\Telangana_Domestic_Visitors_2015.csv\n",
      "Data for 2016 has been exported to Domestic_Visitors\\Telangana_Domestic_Visitors_2016.csv\n",
      "Data for 2017 has been exported to Domestic_Visitors\\Telangana_Domestic_Visitors_2017.csv\n",
      "Data for 2018 has been exported to Domestic_Visitors\\Telangana_Domestic_Visitors_2018.csv\n",
      "Data for 2019 has been exported to Domestic_Visitors\\Telangana_Domestic_Visitors_2019.csv\n",
      "Data for 2020 has been exported to Domestic_Visitors\\Telangana_Domestic_Visitors_2020.csv\n"
     ]
    }
   ],
   "source": [
    "# Ignore the SSL warning using urllib3\n",
    "urllib3.disable_warnings()\n",
    "# # Disable SSL certificate verification (not recommended for production use)\n",
    "\n",
    "# Years range for which we want to fetch data\n",
    "years = range(2014, 2021)  # 2014 to 2020\n",
    "\n",
    "# Define the base API URL without the year-specific part\n",
    "base_api_url = \"https://data.telangana.gov.in/api/1/datastore/query/\"\n",
    "\n",
    "# Define the API endpoint for each year\n",
    "api_endpoints = {\n",
    "    2014: \"b024b7da-7ef4-5f01-adf5-9f6b6ba11bfd\",\n",
    "    2015: \"43f0d658-9180-5c6b-a27e-7d104d908b43\",\n",
    "    2016: \"4c7dbaf6-9b83-5798-9e40-f2a26bd81ed9\",\n",
    "    2017: \"dc9da873-bce0-5f61-a078-5e867791e788\",\n",
    "    2018: \"280456f0-73b7-55f4-be84-c8bc30f20bc1\",\n",
    "    2019: \"496db458-f2f3-5937-88fd-2b5cbddbc43c\",\n",
    "    2020: \"3d819be9-a055-5fba-8c13-c17779e59133\"\n",
    "}\n",
    "\n",
    "# Folder where we want to save the CSV files\n",
    "output_folder = \"Domestic_Visitors\"\n",
    "\n",
    "# Create the folder if it doesn't exist\n",
    "if not os.path.exists(output_folder):\n",
    "    os.makedirs(output_folder)\n",
    "\n",
    "# Iterate through each year and fetch data\n",
    "for year in years:\n",
    "    endpoint = api_endpoints.get(year)\n",
    "    url = f\"{base_api_url}{endpoint}?count=true&results=true&schema=true&keys=true&format=json\"\n",
    "\n",
    "    try:\n",
    "        # Send a GET request to the API\n",
    "        response = requests.get(url, verify=False)\n",
    "\n",
    "        # Check if the response status code is 200 (OK)\n",
    "        if response.status_code == 200:\n",
    "            data = response.json()\n",
    "\n",
    "            # Get the 'results' key from the data\n",
    "            results = data.get('results', [])\n",
    "\n",
    "            # Check if data exists for the year\n",
    "            if results:\n",
    "                # Convert data to a DataFrame\n",
    "                df = pd.DataFrame(results)\n",
    "\n",
    "                # Define the CSV filename using the year\n",
    "                csv_filename = os.path.join(output_folder, f'Telangana_Domestic_Visitors_{year}.csv')\n",
    "\n",
    "                # Export DataFrame to a CSV file\n",
    "                #df.to_csv(csv_filename, index=False)\n",
    "\n",
    "                print(f\"Data for {year} has been exported to {csv_filename}\")\n",
    "            else:\n",
    "                print(f\"No data found for {year}.\")\n",
    "        else:\n",
    "            print(f\"Failed to retrieve data for {year}. Status Code: {response.status_code}\")\n",
    "    except Exception as e:\n",
    "        print(f\"Uhh! An error occurred while fetching data for {year}: {e}\")\n",
    "\n"
   ]
  },
  {
   "cell_type": "markdown",
   "metadata": {},
   "source": [
    "# Foreign Visitors"
   ]
  },
  {
   "cell_type": "code",
   "execution_count": 212,
   "metadata": {},
   "outputs": [
    {
     "name": "stdout",
     "output_type": "stream",
     "text": [
      "{'results': [{'district': 'Adilabad', 'month': 'January', 'visitors': '5'}, {'district': 'Adilabad', 'month': 'February', 'visitors': '6'}, {'district': 'Adilabad', 'month': 'March', 'visitors': '5'}, {'district': 'Adilabad', 'month': 'April', 'visitors': '6'}, {'district': 'Adilabad', 'month': 'May', 'visitors': '6'}, {'district': 'Adilabad', 'month': 'June', 'visitors': '7'}, {'district': 'Adilabad', 'month': 'July', 'visitors': '7'}, {'district': 'Adilabad', 'month': 'August', 'visitors': '5'}, {'district': 'Adilabad', 'month': 'September', 'visitors': '8'}, {'district': 'Adilabad', 'month': 'October', 'visitors': '8'}, {'district': 'Adilabad', 'month': 'November', 'visitors': '8'}, {'district': 'Adilabad', 'month': 'December', 'visitors': '9'}, {'district': 'Hyd & R R Dist.', 'month': 'January', 'visitors': '7587'}, {'district': 'Hyd & R R Dist.', 'month': 'February', 'visitors': '7871'}, {'district': 'Hyd & R R Dist.', 'month': 'March', 'visitors': '7683'}, {'district': 'Hyd & R R Dist.', 'month': 'April', 'visitors': '3314'}, {'district': 'Hyd & R R Dist.', 'month': 'May', 'visitors': '1962'}, {'district': 'Hyd & R R Dist.', 'month': 'June', 'visitors': '2767'}, {'district': 'Hyd & R R Dist.', 'month': 'July', 'visitors': '5931'}, {'district': 'Hyd & R R Dist.', 'month': 'August', 'visitors': '3759'}, {'district': 'Hyd & R R Dist.', 'month': 'September', 'visitors': '4258'}, {'district': 'Hyd & R R Dist.', 'month': 'October', 'visitors': '7836'}, {'district': 'Hyd & R R Dist.', 'month': 'November', 'visitors': '4826'}, {'district': 'Hyd & R R Dist.', 'month': 'December', 'visitors': '12257'}, {'district': 'Karimnagar', 'month': 'January', 'visitors': '0'}, {'district': 'Karimnagar', 'month': 'February', 'visitors': '0'}, {'district': 'Karimnagar', 'month': 'March', 'visitors': '0'}, {'district': 'Karimnagar', 'month': 'April', 'visitors': '0'}, {'district': 'Karimnagar', 'month': 'May', 'visitors': '0'}, {'district': 'Karimnagar', 'month': 'June', 'visitors': '0'}, {'district': 'Karimnagar', 'month': 'July', 'visitors': '0'}, {'district': 'Karimnagar', 'month': 'August', 'visitors': '0'}, {'district': 'Karimnagar', 'month': 'September', 'visitors': '0'}, {'district': 'Karimnagar', 'month': 'October', 'visitors': '0'}, {'district': 'Karimnagar', 'month': 'November', 'visitors': '0'}, {'district': 'Karimnagar', 'month': 'December', 'visitors': '0'}, {'district': 'Khammam', 'month': 'January', 'visitors': '0'}, {'district': 'Khammam', 'month': 'February', 'visitors': '0'}, {'district': 'Khammam', 'month': 'March', 'visitors': '0'}, {'district': 'Khammam', 'month': 'April', 'visitors': '0'}, {'district': 'Khammam', 'month': 'May', 'visitors': '0'}, {'district': 'Khammam', 'month': 'June', 'visitors': '0'}, {'district': 'Khammam', 'month': 'July', 'visitors': '0'}, {'district': 'Khammam', 'month': 'August', 'visitors': '0'}, {'district': 'Khammam', 'month': 'September', 'visitors': '0'}, {'district': 'Khammam', 'month': 'October', 'visitors': '0'}, {'district': 'Khammam', 'month': 'November', 'visitors': '0'}, {'district': 'Khammam', 'month': 'December', 'visitors': '0'}, {'district': 'Mahbubnagar', 'month': 'January', 'visitors': '210'}, {'district': 'Mahbubnagar', 'month': 'February', 'visitors': '160'}, {'district': 'Mahbubnagar', 'month': 'March', 'visitors': '424'}, {'district': 'Mahbubnagar', 'month': 'April', 'visitors': '311'}, {'district': 'Mahbubnagar', 'month': 'May', 'visitors': '270'}, {'district': 'Mahbubnagar', 'month': 'June', 'visitors': '223'}, {'district': 'Mahbubnagar', 'month': 'July', 'visitors': '175'}, {'district': 'Mahbubnagar', 'month': 'August', 'visitors': '94'}, {'district': 'Mahbubnagar', 'month': 'September', 'visitors': '69'}, {'district': 'Mahbubnagar', 'month': 'October', 'visitors': '177'}, {'district': 'Mahbubnagar', 'month': 'November', 'visitors': '326'}, {'district': 'Mahbubnagar', 'month': 'December', 'visitors': '350'}, {'district': 'Medak', 'month': 'January', 'visitors': '0'}, {'district': 'Medak', 'month': 'February', 'visitors': '0'}, {'district': 'Medak', 'month': 'March', 'visitors': '0'}, {'district': 'Medak', 'month': 'April', 'visitors': '0'}, {'district': 'Medak', 'month': 'May', 'visitors': '0'}, {'district': 'Medak', 'month': 'June', 'visitors': '0'}, {'district': 'Medak', 'month': 'July', 'visitors': '0'}, {'district': 'Medak', 'month': 'August', 'visitors': '0'}, {'district': 'Medak', 'month': 'September', 'visitors': '0'}, {'district': 'Medak', 'month': 'October', 'visitors': '0'}, {'district': 'Medak', 'month': 'November', 'visitors': '0'}, {'district': 'Medak', 'month': 'December', 'visitors': '0'}, {'district': 'Nalgonda', 'month': 'January', 'visitors': '10'}, {'district': 'Nalgonda', 'month': 'February', 'visitors': '0'}, {'district': 'Nalgonda', 'month': 'March', 'visitors': '0'}, {'district': 'Nalgonda', 'month': 'April', 'visitors': '0'}, {'district': 'Nalgonda', 'month': 'May', 'visitors': '0'}, {'district': 'Nalgonda', 'month': 'June', 'visitors': '0'}, {'district': 'Nalgonda', 'month': 'July', 'visitors': '0'}, {'district': 'Nalgonda', 'month': 'August', 'visitors': '0'}, {'district': 'Nalgonda', 'month': 'September', 'visitors': '0'}, {'district': 'Nalgonda', 'month': 'October', 'visitors': '0'}, {'district': 'Nalgonda', 'month': 'November', 'visitors': '0'}, {'district': 'Nalgonda', 'month': 'December', 'visitors': '0'}, {'district': 'Nizamabad', 'month': 'January', 'visitors': '3'}, {'district': 'Nizamabad', 'month': 'February', 'visitors': '0'}, {'district': 'Nizamabad', 'month': 'March', 'visitors': '0'}, {'district': 'Nizamabad', 'month': 'April', 'visitors': '0'}, {'district': 'Nizamabad', 'month': 'May', 'visitors': '0'}, {'district': 'Nizamabad', 'month': 'June', 'visitors': '0'}, {'district': 'Nizamabad', 'month': 'July', 'visitors': '0'}, {'district': 'Nizamabad', 'month': 'August', 'visitors': '0'}, {'district': 'Nizamabad', 'month': 'September', 'visitors': '0'}, {'district': 'Nizamabad', 'month': 'October', 'visitors': '0'}, {'district': 'Nizamabad', 'month': 'November', 'visitors': '0'}, {'district': 'Nizamabad', 'month': 'December', 'visitors': '0'}, {'district': 'Warangal', 'month': 'January', 'visitors': '469'}, {'district': 'Warangal', 'month': 'February', 'visitors': '180'}, {'district': 'Warangal', 'month': 'March', 'visitors': '158'}, {'district': 'Warangal', 'month': 'April', 'visitors': '104'}, {'district': 'Warangal', 'month': 'May', 'visitors': '15'}, {'district': 'Warangal', 'month': 'June', 'visitors': '175'}, {'district': 'Warangal', 'month': 'July', 'visitors': '232'}, {'district': 'Warangal', 'month': 'August', 'visitors': '128'}, {'district': 'Warangal', 'month': 'September', 'visitors': '96'}, {'district': 'Warangal', 'month': 'October', 'visitors': '190'}, {'district': 'Warangal', 'month': 'November', 'visitors': '306'}, {'district': 'Warangal', 'month': 'December', 'visitors': '185'}], 'count': 108, 'schema': {'0ad02868-a90d-5a67-9665-87957d17e31b': {'fields': {'district': {'type': 'text', 'mysql_type': 'text', 'description': 'District'}, 'month': {'type': 'text', 'mysql_type': 'text', 'description': 'Month'}, 'visitors': {'type': 'text', 'mysql_type': 'text', 'description': 'Visitors'}}}}, 'query': {'count': True, 'results': True, 'schema': True, 'keys': True, 'format': 'json', 'resources': [{'id': '0ad02868-a90d-5a67-9665-87957d17e31b', 'alias': 't'}], 'limit': 500, 'offset': 0, 'rowIds': False, 'properties': ['district', 'month', 'visitors']}}\n",
      "Data for 2014 has been exported to Foreign_Visitors\\Telangana_Foreign_Visitors_2014.csv\n",
      "{'results': [{'district': 'Adilabad', 'month': 'January', 'visitors': '7'}, {'district': 'Adilabad', 'month': 'February', 'visitors': '2'}, {'district': 'Adilabad', 'month': 'March', 'visitors': '8'}, {'district': 'Adilabad', 'month': 'April', 'visitors': '9'}, {'district': 'Adilabad', 'month': 'May', 'visitors': '6'}, {'district': 'Adilabad', 'month': 'June', 'visitors': '9'}, {'district': 'Adilabad', 'month': 'July', 'visitors': '10'}, {'district': 'Adilabad', 'month': 'August', 'visitors': '0'}, {'district': 'Adilabad', 'month': 'September', 'visitors': '6'}, {'district': 'Adilabad', 'month': 'October', 'visitors': '8'}, {'district': 'Adilabad', 'month': 'November', 'visitors': '0'}, {'district': 'Adilabad', 'month': 'December', 'visitors': '2'}, {'district': 'Hyd & R R Dist.', 'month': 'January', 'visitors': '14454'}, {'district': 'Hyd & R R Dist.', 'month': 'February', 'visitors': '10947'}, {'district': 'Hyd & R R Dist.', 'month': 'March', 'visitors': '8750'}, {'district': 'Hyd & R R Dist.', 'month': 'April', 'visitors': '6560'}, {'district': 'Hyd & R R Dist.', 'month': 'May', 'visitors': '6959'}, {'district': 'Hyd & R R Dist.', 'month': 'June', 'visitors': '7813'}, {'district': 'Hyd & R R Dist.', 'month': 'July', 'visitors': '12274'}, {'district': 'Hyd & R R Dist.', 'month': 'August', 'visitors': '10604'}, {'district': 'Hyd & R R Dist.', 'month': 'September', 'visitors': '7292'}, {'district': 'Hyd & R R Dist.', 'month': 'October', 'visitors': '9758'}, {'district': 'Hyd & R R Dist.', 'month': 'November', 'visitors': '12034'}, {'district': 'Hyd & R R Dist.', 'month': 'December', 'visitors': '15393'}, {'district': 'Karimnagar', 'month': 'January', 'visitors': '0'}, {'district': 'Karimnagar', 'month': 'February', 'visitors': '0'}, {'district': 'Karimnagar', 'month': 'March', 'visitors': '0'}, {'district': 'Karimnagar', 'month': 'April', 'visitors': '0'}, {'district': 'Karimnagar', 'month': 'May', 'visitors': '0'}, {'district': 'Karimnagar', 'month': 'June', 'visitors': '0'}, {'district': 'Karimnagar', 'month': 'July', 'visitors': '0'}, {'district': 'Karimnagar', 'month': 'August', 'visitors': '0'}, {'district': 'Karimnagar', 'month': 'September', 'visitors': '0'}, {'district': 'Karimnagar', 'month': 'October', 'visitors': '0'}, {'district': 'Karimnagar', 'month': 'November', 'visitors': '0'}, {'district': 'Karimnagar', 'month': 'December', 'visitors': '0'}, {'district': 'Khammam', 'month': 'January', 'visitors': '0'}, {'district': 'Khammam', 'month': 'February', 'visitors': '0'}, {'district': 'Khammam', 'month': 'March', 'visitors': '0'}, {'district': 'Khammam', 'month': 'April', 'visitors': '0'}, {'district': 'Khammam', 'month': 'May', 'visitors': '0'}, {'district': 'Khammam', 'month': 'June', 'visitors': '0'}, {'district': 'Khammam', 'month': 'July', 'visitors': '7'}, {'district': 'Khammam', 'month': 'August', 'visitors': '0'}, {'district': 'Khammam', 'month': 'September', 'visitors': '2'}, {'district': 'Khammam', 'month': 'October', 'visitors': '0'}, {'district': 'Khammam', 'month': 'November', 'visitors': '0'}, {'district': 'Khammam', 'month': 'December', 'visitors': '0'}, {'district': 'Mahbubnagar', 'month': 'January', 'visitors': '240'}, {'district': 'Mahbubnagar', 'month': 'February', 'visitors': '76'}, {'district': 'Mahbubnagar', 'month': 'March', 'visitors': '59'}, {'district': 'Mahbubnagar', 'month': 'April', 'visitors': '72'}, {'district': 'Mahbubnagar', 'month': 'May', 'visitors': '132'}, {'district': 'Mahbubnagar', 'month': 'June', 'visitors': '126'}, {'district': 'Mahbubnagar', 'month': 'July', 'visitors': '111'}, {'district': 'Mahbubnagar', 'month': 'August', 'visitors': '112'}, {'district': 'Mahbubnagar', 'month': 'September', 'visitors': '115'}, {'district': 'Mahbubnagar', 'month': 'October', 'visitors': '115'}, {'district': 'Mahbubnagar', 'month': 'November', 'visitors': '152'}, {'district': 'Mahbubnagar', 'month': 'December', 'visitors': '160'}, {'district': 'Medak', 'month': 'January', 'visitors': '0'}, {'district': 'Medak', 'month': 'February', 'visitors': '0'}, {'district': 'Medak', 'month': 'March', 'visitors': '0'}, {'district': 'Medak', 'month': 'April', 'visitors': '0'}, {'district': 'Medak', 'month': 'May', 'visitors': '0'}, {'district': 'Medak', 'month': 'June', 'visitors': '0'}, {'district': 'Medak', 'month': 'July', 'visitors': '0'}, {'district': 'Medak', 'month': 'August', 'visitors': '0'}, {'district': 'Medak', 'month': 'September', 'visitors': '0'}, {'district': 'Medak', 'month': 'October', 'visitors': '0'}, {'district': 'Medak', 'month': 'November', 'visitors': '0'}, {'district': 'Medak', 'month': 'December', 'visitors': '0'}, {'district': 'Nalgonda', 'month': 'January', 'visitors': '0'}, {'district': 'Nalgonda', 'month': 'February', 'visitors': '0'}, {'district': 'Nalgonda', 'month': 'March', 'visitors': ''}, {'district': 'Nalgonda', 'month': 'April', 'visitors': '0'}, {'district': 'Nalgonda', 'month': 'May', 'visitors': '0'}, {'district': 'Nalgonda', 'month': 'June', 'visitors': '0'}, {'district': 'Nalgonda', 'month': 'July', 'visitors': '0'}, {'district': 'Nalgonda', 'month': 'August', 'visitors': '0'}, {'district': 'Nalgonda', 'month': 'September', 'visitors': '500'}, {'district': 'Nalgonda', 'month': 'October', 'visitors': '0'}, {'district': 'Nalgonda', 'month': 'November', 'visitors': '0'}, {'district': 'Nalgonda', 'month': 'December', 'visitors': '0'}, {'district': 'Nizamabad', 'month': 'January', 'visitors': '0'}, {'district': 'Nizamabad', 'month': 'February', 'visitors': '0'}, {'district': 'Nizamabad', 'month': 'March', 'visitors': '0'}, {'district': 'Nizamabad', 'month': 'April', 'visitors': '0'}, {'district': 'Nizamabad', 'month': 'May', 'visitors': '0'}, {'district': 'Nizamabad', 'month': 'June', 'visitors': '0'}, {'district': 'Nizamabad', 'month': 'July', 'visitors': '0'}, {'district': 'Nizamabad', 'month': 'August', 'visitors': '0'}, {'district': 'Nizamabad', 'month': 'September', 'visitors': '0'}, {'district': 'Nizamabad', 'month': 'October', 'visitors': '0'}, {'district': 'Nizamabad', 'month': 'November', 'visitors': '0'}, {'district': 'Nizamabad', 'month': 'December', 'visitors': '0'}, {'district': 'Warangal', 'month': 'January', 'visitors': '292'}, {'district': 'Warangal', 'month': 'February', 'visitors': '508'}, {'district': 'Warangal', 'month': 'March', 'visitors': '130'}, {'district': 'Warangal', 'month': 'April', 'visitors': '20'}, {'district': 'Warangal', 'month': 'May', 'visitors': '21'}, {'district': 'Warangal', 'month': 'June', 'visitors': '56'}, {'district': 'Warangal', 'month': 'July', 'visitors': '43'}, {'district': 'Warangal', 'month': 'August', 'visitors': '67'}, {'district': 'Warangal', 'month': 'September', 'visitors': '73'}, {'district': 'Warangal', 'month': 'October', 'visitors': '210'}, {'district': 'Warangal', 'month': 'November', 'visitors': '328'}, {'district': 'Warangal', 'month': 'December', 'visitors': '46'}], 'count': 108, 'schema': {'016b14b6-b8b7-574e-8a1b-8ac1117406d9': {'fields': {'district': {'type': 'text', 'mysql_type': 'text', 'description': 'District'}, 'month': {'type': 'text', 'mysql_type': 'text', 'description': 'Month'}, 'visitors': {'type': 'text', 'mysql_type': 'text', 'description': 'Visitors'}}}}, 'query': {'count': True, 'results': True, 'schema': True, 'keys': True, 'format': 'json', 'resources': [{'id': '016b14b6-b8b7-574e-8a1b-8ac1117406d9', 'alias': 't'}], 'limit': 500, 'offset': 0, 'rowIds': False, 'properties': ['district', 'month', 'visitors']}}\n",
      "Data for 2015 has been exported to Foreign_Visitors\\Telangana_Foreign_Visitors_2015.csv\n",
      "{'results': [{'district': 'Adilabad', 'month': 'January', 'visitors': '2'}, {'district': 'Adilabad', 'month': 'February', 'visitors': '0'}, {'district': 'Adilabad', 'month': 'March', 'visitors': '2'}, {'district': 'Adilabad', 'month': 'April', 'visitors': '0'}, {'district': 'Adilabad', 'month': 'May', 'visitors': '0'}, {'district': 'Adilabad', 'month': 'June', 'visitors': '0'}, {'district': 'Adilabad', 'month': 'July', 'visitors': '4'}, {'district': 'Adilabad', 'month': 'August', 'visitors': '2'}, {'district': 'Adilabad', 'month': 'September', 'visitors': '0'}, {'district': 'Adilabad', 'month': 'October', 'visitors': '0'}, {'district': 'Adilabad', 'month': 'November', 'visitors': '0'}, {'district': 'Adilabad', 'month': 'December', 'visitors': '0'}, {'district': 'Bhadradri Kothagudem', 'month': 'January', 'visitors': ''}, {'district': 'Bhadradri Kothagudem', 'month': 'February', 'visitors': ''}, {'district': 'Bhadradri Kothagudem', 'month': 'March', 'visitors': ''}, {'district': 'Bhadradri Kothagudem', 'month': 'April', 'visitors': ''}, {'district': 'Bhadradri Kothagudem', 'month': 'May', 'visitors': ''}, {'district': 'Bhadradri Kothagudem', 'month': 'June', 'visitors': ''}, {'district': 'Bhadradri Kothagudem', 'month': 'July', 'visitors': ''}, {'district': 'Bhadradri Kothagudem', 'month': 'August', 'visitors': ''}, {'district': 'Bhadradri Kothagudem', 'month': 'September', 'visitors': ''}, {'district': 'Bhadradri Kothagudem', 'month': 'October', 'visitors': '0'}, {'district': 'Bhadradri Kothagudem', 'month': 'November', 'visitors': '0'}, {'district': 'Bhadradri Kothagudem', 'month': 'December', 'visitors': '0'}, {'district': 'Hyderabad', 'month': 'January', 'visitors': '15865'}, {'district': 'Hyderabad', 'month': 'February', 'visitors': '29646'}, {'district': 'Hyderabad', 'month': 'March', 'visitors': '13019'}, {'district': 'Hyderabad', 'month': 'April', 'visitors': '8402'}, {'district': 'Hyderabad', 'month': 'May', 'visitors': '8522'}, {'district': 'Hyderabad', 'month': 'June', 'visitors': '10284'}, {'district': 'Hyderabad', 'month': 'July', 'visitors': '17142'}, {'district': 'Hyderabad', 'month': 'August', 'visitors': '12842'}, {'district': 'Hyderabad', 'month': 'September', 'visitors': '9397'}, {'district': 'Hyderabad', 'month': 'October', 'visitors': '12808'}, {'district': 'Hyderabad', 'month': 'November', 'visitors': '8084'}, {'district': 'Hyderabad', 'month': 'December', 'visitors': '17620'}, {'district': 'Jagtial', 'month': 'January', 'visitors': ''}, {'district': 'Jagtial', 'month': 'February', 'visitors': ''}, {'district': 'Jagtial', 'month': 'March', 'visitors': ''}, {'district': 'Jagtial', 'month': 'April', 'visitors': ''}, {'district': 'Jagtial', 'month': 'May', 'visitors': ''}, {'district': 'Jagtial', 'month': 'June', 'visitors': ''}, {'district': 'Jagtial', 'month': 'July', 'visitors': ''}, {'district': 'Jagtial', 'month': 'August', 'visitors': ''}, {'district': 'Jagtial', 'month': 'September', 'visitors': ''}, {'district': 'Jagtial', 'month': 'October', 'visitors': '0'}, {'district': 'Jagtial', 'month': 'November', 'visitors': '0'}, {'district': 'Jagtial', 'month': 'December', 'visitors': '0'}, {'district': 'Jangaon', 'month': 'January', 'visitors': ''}, {'district': 'Jangaon', 'month': 'February', 'visitors': ''}, {'district': 'Jangaon', 'month': 'March', 'visitors': ''}, {'district': 'Jangaon', 'month': 'April', 'visitors': ''}, {'district': 'Jangaon', 'month': 'May', 'visitors': ''}, {'district': 'Jangaon', 'month': 'June', 'visitors': ''}, {'district': 'Jangaon', 'month': 'July', 'visitors': ''}, {'district': 'Jangaon', 'month': 'August', 'visitors': ''}, {'district': 'Jangaon', 'month': 'September', 'visitors': ''}, {'district': 'Jangaon', 'month': 'October', 'visitors': '0'}, {'district': 'Jangaon', 'month': 'November', 'visitors': '2'}, {'district': 'Jangaon', 'month': 'December', 'visitors': '0'}, {'district': 'Jayashankar Bhoopalpally', 'month': 'January', 'visitors': ''}, {'district': 'Jayashankar Bhoopalpally', 'month': 'February', 'visitors': ''}, {'district': 'Jayashankar Bhoopalpally', 'month': 'March', 'visitors': ''}, {'district': 'Jayashankar Bhoopalpally', 'month': 'April', 'visitors': ''}, {'district': 'Jayashankar Bhoopalpally', 'month': 'May', 'visitors': ''}, {'district': 'Jayashankar Bhoopalpally', 'month': 'June', 'visitors': ''}, {'district': 'Jayashankar Bhoopalpally', 'month': 'July', 'visitors': ''}, {'district': 'Jayashankar Bhoopalpally', 'month': 'August', 'visitors': ''}, {'district': 'Jayashankar Bhoopalpally', 'month': 'September', 'visitors': ''}, {'district': 'Jayashankar Bhoopalpally', 'month': 'October', 'visitors': '24'}, {'district': 'Jayashankar Bhoopalpally', 'month': 'November', 'visitors': '22'}, {'district': 'Jayashankar Bhoopalpally', 'month': 'December', 'visitors': '40'}, {'district': 'Jogulamba Gadwal', 'month': 'January', 'visitors': ''}, {'district': 'Jogulamba Gadwal', 'month': 'February', 'visitors': ''}, {'district': 'Jogulamba Gadwal', 'month': 'March', 'visitors': ''}, {'district': 'Jogulamba Gadwal', 'month': 'April', 'visitors': ''}, {'district': 'Jogulamba Gadwal', 'month': 'May', 'visitors': ''}, {'district': 'Jogulamba Gadwal', 'month': 'June', 'visitors': ''}, {'district': 'Jogulamba Gadwal', 'month': 'July', 'visitors': ''}, {'district': 'Jogulamba Gadwal', 'month': 'August', 'visitors': ''}, {'district': 'Jogulamba Gadwal', 'month': 'September', 'visitors': ''}, {'district': 'Jogulamba Gadwal', 'month': 'October', 'visitors': '13'}, {'district': 'Jogulamba Gadwal', 'month': 'November', 'visitors': '21'}, {'district': 'Jogulamba Gadwal', 'month': 'December', 'visitors': '11'}, {'district': 'Kamareddy', 'month': 'January', 'visitors': ''}, {'district': 'Kamareddy', 'month': 'February', 'visitors': ''}, {'district': 'Kamareddy', 'month': 'March', 'visitors': ''}, {'district': 'Kamareddy', 'month': 'April', 'visitors': ''}, {'district': 'Kamareddy', 'month': 'May', 'visitors': ''}, {'district': 'Kamareddy', 'month': 'June', 'visitors': ''}, {'district': 'Kamareddy', 'month': 'July', 'visitors': ''}, {'district': 'Kamareddy', 'month': 'August', 'visitors': ''}, {'district': 'Kamareddy', 'month': 'September', 'visitors': ''}, {'district': 'Kamareddy', 'month': 'October', 'visitors': '0'}, {'district': 'Kamareddy', 'month': 'November', 'visitors': '0'}, {'district': 'Kamareddy', 'month': 'December', 'visitors': '0'}, {'district': 'Karimnagar', 'month': 'January', 'visitors': '0'}, {'district': 'Karimnagar', 'month': 'February', 'visitors': '0'}, {'district': 'Karimnagar', 'month': 'March', 'visitors': '0'}, {'district': 'Karimnagar', 'month': 'April', 'visitors': '0'}, {'district': 'Karimnagar', 'month': 'May', 'visitors': '0'}, {'district': 'Karimnagar', 'month': 'June', 'visitors': '0'}, {'district': 'Karimnagar', 'month': 'July', 'visitors': '0'}, {'district': 'Karimnagar', 'month': 'August', 'visitors': '0'}, {'district': 'Karimnagar', 'month': 'September', 'visitors': '0'}, {'district': 'Karimnagar', 'month': 'October', 'visitors': '0'}, {'district': 'Karimnagar', 'month': 'November', 'visitors': '0'}, {'district': 'Karimnagar', 'month': 'December', 'visitors': '0'}, {'district': 'Khammam', 'month': 'January', 'visitors': '0'}, {'district': 'Khammam', 'month': 'February', 'visitors': '0'}, {'district': 'Khammam', 'month': 'March', 'visitors': '0'}, {'district': 'Khammam', 'month': 'April', 'visitors': '0'}, {'district': 'Khammam', 'month': 'May', 'visitors': '0'}, {'district': 'Khammam', 'month': 'June', 'visitors': '0'}, {'district': 'Khammam', 'month': 'July', 'visitors': '0'}, {'district': 'Khammam', 'month': 'August', 'visitors': '0'}, {'district': 'Khammam', 'month': 'September', 'visitors': '0'}, {'district': 'Khammam', 'month': 'October', 'visitors': '0'}, {'district': 'Khammam', 'month': 'November', 'visitors': '0'}, {'district': 'Khammam', 'month': 'December', 'visitors': '0'}, {'district': 'Komaram Bheem Asifabad', 'month': 'January', 'visitors': ''}, {'district': 'Komaram Bheem Asifabad', 'month': 'February', 'visitors': ''}, {'district': 'Komaram Bheem Asifabad', 'month': 'March', 'visitors': ''}, {'district': 'Komaram Bheem Asifabad', 'month': 'April', 'visitors': ''}, {'district': 'Komaram Bheem Asifabad', 'month': 'May', 'visitors': ''}, {'district': 'Komaram Bheem Asifabad', 'month': 'June', 'visitors': ''}, {'district': 'Komaram Bheem Asifabad', 'month': 'July', 'visitors': ''}, {'district': 'Komaram Bheem Asifabad', 'month': 'August', 'visitors': ''}, {'district': 'Komaram Bheem Asifabad', 'month': 'September', 'visitors': ''}, {'district': 'Komaram Bheem Asifabad', 'month': 'October', 'visitors': '0'}, {'district': 'Komaram Bheem Asifabad', 'month': 'November', 'visitors': '0'}, {'district': 'Komaram Bheem Asifabad', 'month': 'December', 'visitors': '0'}, {'district': 'Mahabubabad', 'month': 'January', 'visitors': ''}, {'district': 'Mahabubabad', 'month': 'February', 'visitors': ''}, {'district': 'Mahabubabad', 'month': 'March', 'visitors': ''}, {'district': 'Mahabubabad', 'month': 'April', 'visitors': ''}, {'district': 'Mahabubabad', 'month': 'May', 'visitors': ''}, {'district': 'Mahabubabad', 'month': 'June', 'visitors': ''}, {'district': 'Mahabubabad', 'month': 'July', 'visitors': ''}, {'district': 'Mahabubabad', 'month': 'August', 'visitors': ''}, {'district': 'Mahabubabad', 'month': 'September', 'visitors': ''}, {'district': 'Mahabubabad', 'month': 'October', 'visitors': '0'}, {'district': 'Mahabubabad', 'month': 'November', 'visitors': '0'}, {'district': 'Mahabubabad', 'month': 'December', 'visitors': '0'}, {'district': 'Mahbubnagar', 'month': 'January', 'visitors': '123'}, {'district': 'Mahbubnagar', 'month': 'February', 'visitors': '126'}, {'district': 'Mahbubnagar', 'month': 'March', 'visitors': '103'}, {'district': 'Mahbubnagar', 'month': 'April', 'visitors': '75'}, {'district': 'Mahbubnagar', 'month': 'May', 'visitors': '58'}, {'district': 'Mahbubnagar', 'month': 'June', 'visitors': '68'}, {'district': 'Mahbubnagar', 'month': 'July', 'visitors': '63'}, {'district': 'Mahbubnagar', 'month': 'August', 'visitors': '86'}, {'district': 'Mahbubnagar', 'month': 'September', 'visitors': '74'}, {'district': 'Mahbubnagar', 'month': 'October', 'visitors': '37'}, {'district': 'Mahbubnagar', 'month': 'November', 'visitors': '29'}, {'district': 'Mahbubnagar', 'month': 'December', 'visitors': '26'}, {'district': 'Mancherial', 'month': 'January', 'visitors': ''}, {'district': 'Mancherial', 'month': 'February', 'visitors': ''}, {'district': 'Mancherial', 'month': 'March', 'visitors': ''}, {'district': 'Mancherial', 'month': 'April', 'visitors': ''}, {'district': 'Mancherial', 'month': 'May', 'visitors': ''}, {'district': 'Mancherial', 'month': 'June', 'visitors': ''}, {'district': 'Mancherial', 'month': 'July', 'visitors': ''}, {'district': 'Mancherial', 'month': 'August', 'visitors': ''}, {'district': 'Mancherial', 'month': 'September', 'visitors': ''}, {'district': 'Mancherial', 'month': 'October', 'visitors': '0'}, {'district': 'Mancherial', 'month': 'November', 'visitors': '0'}, {'district': 'Mancherial', 'month': 'December', 'visitors': '0'}, {'district': 'Medak', 'month': 'January', 'visitors': '0'}, {'district': 'Medak', 'month': 'February', 'visitors': '0'}, {'district': 'Medak', 'month': 'March', 'visitors': '0'}, {'district': 'Medak', 'month': 'April', 'visitors': '0'}, {'district': 'Medak', 'month': 'May', 'visitors': '0'}, {'district': 'Medak', 'month': 'June', 'visitors': '0'}, {'district': 'Medak', 'month': 'July', 'visitors': '0'}, {'district': 'Medak', 'month': 'August', 'visitors': '0'}, {'district': 'Medak', 'month': 'September', 'visitors': '0'}, {'district': 'Medak', 'month': 'October', 'visitors': '0'}, {'district': 'Medak', 'month': 'November', 'visitors': '0'}, {'district': 'Medak', 'month': 'December', 'visitors': '0'}, {'district': 'Medchal', 'month': 'January', 'visitors': ''}, {'district': 'Medchal', 'month': 'February', 'visitors': ''}, {'district': 'Medchal', 'month': 'March', 'visitors': ''}, {'district': 'Medchal', 'month': 'April', 'visitors': ''}, {'district': 'Medchal', 'month': 'May', 'visitors': ''}, {'district': 'Medchal', 'month': 'June', 'visitors': ''}, {'district': 'Medchal', 'month': 'July', 'visitors': ''}, {'district': 'Medchal', 'month': 'August', 'visitors': ''}, {'district': 'Medchal', 'month': 'September', 'visitors': ''}, {'district': 'Medchal', 'month': 'October', 'visitors': ''}, {'district': 'Medchal', 'month': 'November', 'visitors': ''}, {'district': 'Medchal', 'month': 'December', 'visitors': ''}, {'district': 'Nagarkurnool', 'month': 'January', 'visitors': ''}, {'district': 'Nagarkurnool', 'month': 'February', 'visitors': ''}, {'district': 'Nagarkurnool', 'month': 'March', 'visitors': ''}, {'district': 'Nagarkurnool', 'month': 'April', 'visitors': ''}, {'district': 'Nagarkurnool', 'month': 'May', 'visitors': ''}, {'district': 'Nagarkurnool', 'month': 'June', 'visitors': ''}, {'district': 'Nagarkurnool', 'month': 'July', 'visitors': ''}, {'district': 'Nagarkurnool', 'month': 'August', 'visitors': ''}, {'district': 'Nagarkurnool', 'month': 'September', 'visitors': ''}, {'district': 'Nagarkurnool', 'month': 'October', 'visitors': '8'}, {'district': 'Nagarkurnool', 'month': 'November', 'visitors': '11'}, {'district': 'Nagarkurnool', 'month': 'December', 'visitors': '10'}, {'district': 'Nalgonda', 'month': 'January', 'visitors': '0'}, {'district': 'Nalgonda', 'month': 'February', 'visitors': '0'}, {'district': 'Nalgonda', 'month': 'March', 'visitors': '0'}, {'district': 'Nalgonda', 'month': 'April', 'visitors': '0'}, {'district': 'Nalgonda', 'month': 'May', 'visitors': '0'}, {'district': 'Nalgonda', 'month': 'June', 'visitors': '0'}, {'district': 'Nalgonda', 'month': 'July', 'visitors': '0'}, {'district': 'Nalgonda', 'month': 'August', 'visitors': '0'}, {'district': 'Nalgonda', 'month': 'September', 'visitors': '0'}, {'district': 'Nalgonda', 'month': 'October', 'visitors': '0'}, {'district': 'Nalgonda', 'month': 'November', 'visitors': '0'}, {'district': 'Nalgonda', 'month': 'December', 'visitors': '0'}, {'district': 'Nirmal', 'month': 'January', 'visitors': ''}, {'district': 'Nirmal', 'month': 'February', 'visitors': ''}, {'district': 'Nirmal', 'month': 'March', 'visitors': ''}, {'district': 'Nirmal', 'month': 'April', 'visitors': ''}, {'district': 'Nirmal', 'month': 'May', 'visitors': ''}, {'district': 'Nirmal', 'month': 'June', 'visitors': ''}, {'district': 'Nirmal', 'month': 'July', 'visitors': ''}, {'district': 'Nirmal', 'month': 'August', 'visitors': ''}, {'district': 'Nirmal', 'month': 'September', 'visitors': ''}, {'district': 'Nirmal', 'month': 'October', 'visitors': '0'}, {'district': 'Nirmal', 'month': 'November', 'visitors': '0'}, {'district': 'Nirmal', 'month': 'December', 'visitors': '0'}, {'district': 'Nizamabad', 'month': 'January', 'visitors': '0'}, {'district': 'Nizamabad', 'month': 'February', 'visitors': '0'}, {'district': 'Nizamabad', 'month': 'March', 'visitors': '0'}, {'district': 'Nizamabad', 'month': 'April', 'visitors': '0'}, {'district': 'Nizamabad', 'month': 'May', 'visitors': '0'}, {'district': 'Nizamabad', 'month': 'June', 'visitors': '0'}, {'district': 'Nizamabad', 'month': 'July', 'visitors': '0'}, {'district': 'Nizamabad', 'month': 'August', 'visitors': '0'}, {'district': 'Nizamabad', 'month': 'September', 'visitors': '0'}, {'district': 'Nizamabad', 'month': 'October', 'visitors': '0'}, {'district': 'Nizamabad', 'month': 'November', 'visitors': '0'}, {'district': 'Nizamabad', 'month': 'December', 'visitors': '0'}, {'district': 'Peddapalli', 'month': 'January', 'visitors': ''}, {'district': 'Peddapalli', 'month': 'February', 'visitors': ''}, {'district': 'Peddapalli', 'month': 'March', 'visitors': ''}, {'district': 'Peddapalli', 'month': 'April', 'visitors': ''}, {'district': 'Peddapalli', 'month': 'May', 'visitors': ''}, {'district': 'Peddapalli', 'month': 'June', 'visitors': ''}, {'district': 'Peddapalli', 'month': 'July', 'visitors': ''}, {'district': 'Peddapalli', 'month': 'August', 'visitors': ''}, {'district': 'Peddapalli', 'month': 'September', 'visitors': ''}, {'district': 'Peddapalli', 'month': 'October', 'visitors': '0'}, {'district': 'Peddapalli', 'month': 'November', 'visitors': '0'}, {'district': 'Peddapalli', 'month': 'December', 'visitors': '0'}, {'district': 'Rajanna Sircilla', 'month': 'January', 'visitors': ''}, {'district': 'Rajanna Sircilla', 'month': 'February', 'visitors': ''}, {'district': 'Rajanna Sircilla', 'month': 'March', 'visitors': ''}, {'district': 'Rajanna Sircilla', 'month': 'April', 'visitors': ''}, {'district': 'Rajanna Sircilla', 'month': 'May', 'visitors': ''}, {'district': 'Rajanna Sircilla', 'month': 'June', 'visitors': ''}, {'district': 'Rajanna Sircilla', 'month': 'July', 'visitors': ''}, {'district': 'Rajanna Sircilla', 'month': 'August', 'visitors': ''}, {'district': 'Rajanna Sircilla', 'month': 'September', 'visitors': ''}, {'district': 'Rajanna Sircilla', 'month': 'October', 'visitors': '0'}, {'district': 'Rajanna Sircilla', 'month': 'November', 'visitors': '0'}, {'district': 'Rajanna Sircilla', 'month': 'December', 'visitors': '0'}, {'district': 'Ranga Reddy', 'month': 'January', 'visitors': ''}, {'district': 'Ranga Reddy', 'month': 'February', 'visitors': ''}, {'district': 'Ranga Reddy', 'month': 'March', 'visitors': ''}, {'district': 'Ranga Reddy', 'month': 'April', 'visitors': ''}, {'district': 'Ranga Reddy', 'month': 'May', 'visitors': ''}, {'district': 'Ranga Reddy', 'month': 'June', 'visitors': ''}, {'district': 'Ranga Reddy', 'month': 'July', 'visitors': ''}, {'district': 'Ranga Reddy', 'month': 'August', 'visitors': ''}, {'district': 'Ranga Reddy', 'month': 'September', 'visitors': ''}, {'district': 'Ranga Reddy', 'month': 'October', 'visitors': ''}, {'district': 'Ranga Reddy', 'month': 'November', 'visitors': ''}, {'district': 'Ranga Reddy', 'month': 'December', 'visitors': ''}, {'district': 'Sangareddy', 'month': 'January', 'visitors': ''}, {'district': 'Sangareddy', 'month': 'February', 'visitors': ''}, {'district': 'Sangareddy', 'month': 'March', 'visitors': ''}, {'district': 'Sangareddy', 'month': 'April', 'visitors': ''}, {'district': 'Sangareddy', 'month': 'May', 'visitors': ''}, {'district': 'Sangareddy', 'month': 'June', 'visitors': ''}, {'district': 'Sangareddy', 'month': 'July', 'visitors': ''}, {'district': 'Sangareddy', 'month': 'August', 'visitors': ''}, {'district': 'Sangareddy', 'month': 'September', 'visitors': ''}, {'district': 'Sangareddy', 'month': 'October', 'visitors': '0'}, {'district': 'Sangareddy', 'month': 'November', 'visitors': '0'}, {'district': 'Sangareddy', 'month': 'December', 'visitors': '0'}, {'district': 'Siddipet', 'month': 'January', 'visitors': ''}, {'district': 'Siddipet', 'month': 'February', 'visitors': ''}, {'district': 'Siddipet', 'month': 'March', 'visitors': ''}, {'district': 'Siddipet', 'month': 'April', 'visitors': ''}, {'district': 'Siddipet', 'month': 'May', 'visitors': ''}, {'district': 'Siddipet', 'month': 'June', 'visitors': ''}, {'district': 'Siddipet', 'month': 'July', 'visitors': ''}, {'district': 'Siddipet', 'month': 'August', 'visitors': ''}, {'district': 'Siddipet', 'month': 'September', 'visitors': ''}, {'district': 'Siddipet', 'month': 'October', 'visitors': '0'}, {'district': 'Siddipet', 'month': 'November', 'visitors': '0'}, {'district': 'Siddipet', 'month': 'December', 'visitors': '0'}, {'district': 'Suryapet', 'month': 'January', 'visitors': ''}, {'district': 'Suryapet', 'month': 'February', 'visitors': ''}, {'district': 'Suryapet', 'month': 'March', 'visitors': ''}, {'district': 'Suryapet', 'month': 'April', 'visitors': ''}, {'district': 'Suryapet', 'month': 'May', 'visitors': ''}, {'district': 'Suryapet', 'month': 'June', 'visitors': ''}, {'district': 'Suryapet', 'month': 'July', 'visitors': ''}, {'district': 'Suryapet', 'month': 'August', 'visitors': ''}, {'district': 'Suryapet', 'month': 'September', 'visitors': ''}, {'district': 'Suryapet', 'month': 'October', 'visitors': '0'}, {'district': 'Suryapet', 'month': 'November', 'visitors': '0'}, {'district': 'Suryapet', 'month': 'December', 'visitors': '0'}, {'district': 'Vikarabad', 'month': 'January', 'visitors': ''}, {'district': 'Vikarabad', 'month': 'February', 'visitors': ''}, {'district': 'Vikarabad', 'month': 'March', 'visitors': ''}, {'district': 'Vikarabad', 'month': 'April', 'visitors': ''}, {'district': 'Vikarabad', 'month': 'May', 'visitors': ''}, {'district': 'Vikarabad', 'month': 'June', 'visitors': ''}, {'district': 'Vikarabad', 'month': 'July', 'visitors': ''}, {'district': 'Vikarabad', 'month': 'August', 'visitors': ''}, {'district': 'Vikarabad', 'month': 'September', 'visitors': ''}, {'district': 'Vikarabad', 'month': 'October', 'visitors': ''}, {'district': 'Vikarabad', 'month': 'November', 'visitors': ''}, {'district': 'Vikarabad', 'month': 'December', 'visitors': ''}, {'district': 'Wanaparthy', 'month': 'January', 'visitors': ''}, {'district': 'Wanaparthy', 'month': 'February', 'visitors': ''}, {'district': 'Wanaparthy', 'month': 'March', 'visitors': ''}, {'district': 'Wanaparthy', 'month': 'April', 'visitors': ''}, {'district': 'Wanaparthy', 'month': 'May', 'visitors': ''}, {'district': 'Wanaparthy', 'month': 'June', 'visitors': ''}, {'district': 'Wanaparthy', 'month': 'July', 'visitors': ''}, {'district': 'Wanaparthy', 'month': 'August', 'visitors': ''}, {'district': 'Wanaparthy', 'month': 'September', 'visitors': ''}, {'district': 'Wanaparthy', 'month': 'October', 'visitors': '0'}, {'district': 'Wanaparthy', 'month': 'November', 'visitors': '0'}, {'district': 'Wanaparthy', 'month': 'December', 'visitors': '0'}, {'district': 'Warangal (Rural)', 'month': 'January', 'visitors': ''}, {'district': 'Warangal (Rural)', 'month': 'February', 'visitors': ''}, {'district': 'Warangal (Rural)', 'month': 'March', 'visitors': ''}, {'district': 'Warangal (Rural)', 'month': 'April', 'visitors': ''}, {'district': 'Warangal (Rural)', 'month': 'May', 'visitors': ''}, {'district': 'Warangal (Rural)', 'month': 'June', 'visitors': ''}, {'district': 'Warangal (Rural)', 'month': 'July', 'visitors': ''}, {'district': 'Warangal (Rural)', 'month': 'August', 'visitors': ''}, {'district': 'Warangal (Rural)', 'month': 'September', 'visitors': ''}, {'district': 'Warangal (Rural)', 'month': 'October', 'visitors': '0'}, {'district': 'Warangal (Rural)', 'month': 'November', 'visitors': '0'}, {'district': 'Warangal (Rural)', 'month': 'December', 'visitors': '0'}, {'district': 'Warangal (Urban)', 'month': 'January', 'visitors': '459'}, {'district': 'Warangal (Urban)', 'month': 'February', 'visitors': '391'}, {'district': 'Warangal (Urban)', 'month': 'March', 'visitors': '230'}, {'district': 'Warangal (Urban)', 'month': 'April', 'visitors': '39'}, {'district': 'Warangal (Urban)', 'month': 'May', 'visitors': '82'}, {'district': 'Warangal (Urban)', 'month': 'June', 'visitors': '88'}, {'district': 'Warangal (Urban)', 'month': 'July', 'visitors': '53'}, {'district': 'Warangal (Urban)', 'month': 'August', 'visitors': '102'}, {'district': 'Warangal (Urban)', 'month': 'September', 'visitors': '118'}, {'district': 'Warangal (Urban)', 'month': 'October', 'visitors': '108'}, {'district': 'Warangal (Urban)', 'month': 'November', 'visitors': '97'}, {'district': 'Warangal (Urban)', 'month': 'December', 'visitors': '132'}, {'district': 'Yadadri Bhongir', 'month': 'January', 'visitors': ''}, {'district': 'Yadadri Bhongir', 'month': 'February', 'visitors': ''}, {'district': 'Yadadri Bhongir', 'month': 'March', 'visitors': ''}, {'district': 'Yadadri Bhongir', 'month': 'April', 'visitors': ''}, {'district': 'Yadadri Bhongir', 'month': 'May', 'visitors': ''}, {'district': 'Yadadri Bhongir', 'month': 'June', 'visitors': ''}, {'district': 'Yadadri Bhongir', 'month': 'July', 'visitors': ''}, {'district': 'Yadadri Bhongir', 'month': 'August', 'visitors': ''}, {'district': 'Yadadri Bhongir', 'month': 'September', 'visitors': ''}, {'district': 'Yadadri Bhongir', 'month': 'October', 'visitors': '0'}, {'district': 'Yadadri Bhongir', 'month': 'November', 'visitors': '0'}, {'district': 'Yadadri Bhongir', 'month': 'December', 'visitors': '0'}], 'count': 372, 'schema': {'656e948e-2714-5e0c-8951-c0a96b494905': {'fields': {'district': {'type': 'text', 'mysql_type': 'text', 'description': 'District'}, 'month': {'type': 'text', 'mysql_type': 'text', 'description': 'Month'}, 'visitors': {'type': 'text', 'mysql_type': 'text', 'description': 'Visitors'}}}}, 'query': {'count': True, 'results': True, 'schema': True, 'keys': True, 'format': 'json', 'resources': [{'id': '656e948e-2714-5e0c-8951-c0a96b494905', 'alias': 't'}], 'limit': 500, 'offset': 0, 'rowIds': False, 'properties': ['district', 'month', 'visitors']}}\n",
      "Data for 2016 has been exported to Foreign_Visitors\\Telangana_Foreign_Visitors_2016.csv\n",
      "{'results': [{'district': 'Adilabad', 'month': 'January', 'visitors': '5'}, {'district': 'Adilabad', 'month': 'February', 'visitors': '0'}, {'district': 'Adilabad', 'month': 'March', 'visitors': '0'}, {'district': 'Adilabad', 'month': 'April', 'visitors': '0'}, {'district': 'Adilabad', 'month': 'May', 'visitors': '0'}, {'district': 'Adilabad', 'month': 'June', 'visitors': '3'}, {'district': 'Adilabad', 'month': 'July', 'visitors': '0'}, {'district': 'Adilabad', 'month': 'August', 'visitors': '0'}, {'district': 'Adilabad', 'month': 'September', 'visitors': '3'}, {'district': 'Adilabad', 'month': 'October', 'visitors': '0'}, {'district': 'Adilabad', 'month': 'November', 'visitors': '0'}, {'district': 'Adilabad', 'month': 'December', 'visitors': '0'}, {'district': 'Bhadradri Kothagudem', 'month': 'January', 'visitors': '0'}, {'district': 'Bhadradri Kothagudem', 'month': 'February', 'visitors': '0'}, {'district': 'Bhadradri Kothagudem', 'month': 'March', 'visitors': '0'}, {'district': 'Bhadradri Kothagudem', 'month': 'April', 'visitors': '0'}, {'district': 'Bhadradri Kothagudem', 'month': 'May', 'visitors': '0'}, {'district': 'Bhadradri Kothagudem', 'month': 'June', 'visitors': '0'}, {'district': 'Bhadradri Kothagudem', 'month': 'July', 'visitors': '0'}, {'district': 'Bhadradri Kothagudem', 'month': 'August', 'visitors': '0'}, {'district': 'Bhadradri Kothagudem', 'month': 'September', 'visitors': '0'}, {'district': 'Bhadradri Kothagudem', 'month': 'October', 'visitors': '0'}, {'district': 'Bhadradri Kothagudem', 'month': 'November', 'visitors': '0'}, {'district': 'Bhadradri Kothagudem', 'month': 'December', 'visitors': '0'}, {'district': 'Hyderabad', 'month': 'January', 'visitors': '19286'}, {'district': 'Hyderabad', 'month': 'February', 'visitors': '18097'}, {'district': 'Hyderabad', 'month': 'March', 'visitors': '13875'}, {'district': 'Hyderabad', 'month': 'April', 'visitors': '12996'}, {'district': 'Hyderabad', 'month': 'May', 'visitors': '12983'}, {'district': 'Hyderabad', 'month': 'June', 'visitors': '12486'}, {'district': 'Hyderabad', 'month': 'July', 'visitors': '18144'}, {'district': 'Hyderabad', 'month': 'August', 'visitors': '16985'}, {'district': 'Hyderabad', 'month': 'September', 'visitors': '27856'}, {'district': 'Hyderabad', 'month': 'October', 'visitors': '26368'}, {'district': 'Hyderabad', 'month': 'November', 'visitors': '29170'}, {'district': 'Hyderabad', 'month': 'December', 'visitors': '38933'}, {'district': 'Jagtial', 'month': 'January', 'visitors': '0'}, {'district': 'Jagtial', 'month': 'February', 'visitors': '0'}, {'district': 'Jagtial', 'month': 'March', 'visitors': '0'}, {'district': 'Jagtial', 'month': 'April', 'visitors': '0'}, {'district': 'Jagtial', 'month': 'May', 'visitors': '0'}, {'district': 'Jagtial', 'month': 'June', 'visitors': '0'}, {'district': 'Jagtial', 'month': 'July', 'visitors': '0'}, {'district': 'Jagtial', 'month': 'August', 'visitors': '0'}, {'district': 'Jagtial', 'month': 'September', 'visitors': '0'}, {'district': 'Jagtial', 'month': 'October', 'visitors': '0'}, {'district': 'Jagtial', 'month': 'November', 'visitors': '0'}, {'district': 'Jagtial', 'month': 'December', 'visitors': '0'}, {'district': 'Jangaon', 'month': 'January', 'visitors': '0'}, {'district': 'Jangaon', 'month': 'February', 'visitors': '0'}, {'district': 'Jangaon', 'month': 'March', 'visitors': '0'}, {'district': 'Jangaon', 'month': 'April', 'visitors': '0'}, {'district': 'Jangaon', 'month': 'May', 'visitors': '0'}, {'district': 'Jangaon', 'month': 'June', 'visitors': '0'}, {'district': 'Jangaon', 'month': 'July', 'visitors': '0'}, {'district': 'Jangaon', 'month': 'August', 'visitors': '0'}, {'district': 'Jangaon', 'month': 'September', 'visitors': '0'}, {'district': 'Jangaon', 'month': 'October', 'visitors': '0'}, {'district': 'Jangaon', 'month': 'November', 'visitors': '0'}, {'district': 'Jangaon', 'month': 'December', 'visitors': '0'}, {'district': 'Jayashankar Bhoopalpally', 'month': 'January', 'visitors': '85'}, {'district': 'Jayashankar Bhoopalpally', 'month': 'February', 'visitors': '38'}, {'district': 'Jayashankar Bhoopalpally', 'month': 'March', 'visitors': '35'}, {'district': 'Jayashankar Bhoopalpally', 'month': 'April', 'visitors': '36'}, {'district': 'Jayashankar Bhoopalpally', 'month': 'May', 'visitors': '40'}, {'district': 'Jayashankar Bhoopalpally', 'month': 'June', 'visitors': '35'}, {'district': 'Jayashankar Bhoopalpally', 'month': 'July', 'visitors': '42'}, {'district': 'Jayashankar Bhoopalpally', 'month': 'August', 'visitors': '45'}, {'district': 'Jayashankar Bhoopalpally', 'month': 'September', 'visitors': '56'}, {'district': 'Jayashankar Bhoopalpally', 'month': 'October', 'visitors': '55'}, {'district': 'Jayashankar Bhoopalpally', 'month': 'November', 'visitors': '58'}, {'district': 'Jayashankar Bhoopalpally', 'month': 'December', 'visitors': '57'}, {'district': 'Jogulamba Gadwal', 'month': 'January', 'visitors': '20'}, {'district': 'Jogulamba Gadwal', 'month': 'February', 'visitors': '16'}, {'district': 'Jogulamba Gadwal', 'month': 'March', 'visitors': '32'}, {'district': 'Jogulamba Gadwal', 'month': 'April', 'visitors': '29'}, {'district': 'Jogulamba Gadwal', 'month': 'May', 'visitors': '31'}, {'district': 'Jogulamba Gadwal', 'month': 'June', 'visitors': '32'}, {'district': 'Jogulamba Gadwal', 'month': 'July', 'visitors': '34'}, {'district': 'Jogulamba Gadwal', 'month': 'August', 'visitors': '25'}, {'district': 'Jogulamba Gadwal', 'month': 'September', 'visitors': '42'}, {'district': 'Jogulamba Gadwal', 'month': 'October', 'visitors': '13'}, {'district': 'Jogulamba Gadwal', 'month': 'November', 'visitors': '21'}, {'district': 'Jogulamba Gadwal', 'month': 'December', 'visitors': '10'}, {'district': 'Kamareddy', 'month': 'January', 'visitors': '0'}, {'district': 'Kamareddy', 'month': 'February', 'visitors': '0'}, {'district': 'Kamareddy', 'month': 'March', 'visitors': '0'}, {'district': 'Kamareddy', 'month': 'April', 'visitors': '0'}, {'district': 'Kamareddy', 'month': 'May', 'visitors': '0'}, {'district': 'Kamareddy', 'month': 'June', 'visitors': '0'}, {'district': 'Kamareddy', 'month': 'July', 'visitors': '0'}, {'district': 'Kamareddy', 'month': 'August', 'visitors': '0'}, {'district': 'Kamareddy', 'month': 'September', 'visitors': '0'}, {'district': 'Kamareddy', 'month': 'October', 'visitors': '0'}, {'district': 'Kamareddy', 'month': 'November', 'visitors': '0'}, {'district': 'Kamareddy', 'month': 'December', 'visitors': '0'}, {'district': 'Karimnagar', 'month': 'January', 'visitors': '0'}, {'district': 'Karimnagar', 'month': 'February', 'visitors': '0'}, {'district': 'Karimnagar', 'month': 'March', 'visitors': '0'}, {'district': 'Karimnagar', 'month': 'April', 'visitors': '0'}, {'district': 'Karimnagar', 'month': 'May', 'visitors': '0'}, {'district': 'Karimnagar', 'month': 'June', 'visitors': '0'}, {'district': 'Karimnagar', 'month': 'July', 'visitors': '0'}, {'district': 'Karimnagar', 'month': 'August', 'visitors': '0'}, {'district': 'Karimnagar', 'month': 'September', 'visitors': '0'}, {'district': 'Karimnagar', 'month': 'October', 'visitors': '0'}, {'district': 'Karimnagar', 'month': 'November', 'visitors': '0'}, {'district': 'Karimnagar', 'month': 'December', 'visitors': '0'}, {'district': 'Khammam', 'month': 'January', 'visitors': '0'}, {'district': 'Khammam', 'month': 'February', 'visitors': '0'}, {'district': 'Khammam', 'month': 'March', 'visitors': '0'}, {'district': 'Khammam', 'month': 'April', 'visitors': '0'}, {'district': 'Khammam', 'month': 'May', 'visitors': '0'}, {'district': 'Khammam', 'month': 'June', 'visitors': '0'}, {'district': 'Khammam', 'month': 'July', 'visitors': '0'}, {'district': 'Khammam', 'month': 'August', 'visitors': '0'}, {'district': 'Khammam', 'month': 'September', 'visitors': '0'}, {'district': 'Khammam', 'month': 'October', 'visitors': '0'}, {'district': 'Khammam', 'month': 'November', 'visitors': '0'}, {'district': 'Khammam', 'month': 'December', 'visitors': '0'}, {'district': 'Komaram Bheem Asifabad', 'month': 'January', 'visitors': '0'}, {'district': 'Komaram Bheem Asifabad', 'month': 'February', 'visitors': '0'}, {'district': 'Komaram Bheem Asifabad', 'month': 'March', 'visitors': '0'}, {'district': 'Komaram Bheem Asifabad', 'month': 'April', 'visitors': '0'}, {'district': 'Komaram Bheem Asifabad', 'month': 'May', 'visitors': '0'}, {'district': 'Komaram Bheem Asifabad', 'month': 'June', 'visitors': ''}, {'district': 'Komaram Bheem Asifabad', 'month': 'July', 'visitors': '0'}, {'district': 'Komaram Bheem Asifabad', 'month': 'August', 'visitors': '0'}, {'district': 'Komaram Bheem Asifabad', 'month': 'September', 'visitors': '0'}, {'district': 'Komaram Bheem Asifabad', 'month': 'October', 'visitors': '0'}, {'district': 'Komaram Bheem Asifabad', 'month': 'November', 'visitors': '0'}, {'district': 'Komaram Bheem Asifabad', 'month': 'December', 'visitors': '0'}, {'district': 'Mahabubabad', 'month': 'January', 'visitors': '0'}, {'district': 'Mahabubabad', 'month': 'February', 'visitors': '0'}, {'district': 'Mahabubabad', 'month': 'March', 'visitors': '0'}, {'district': 'Mahabubabad', 'month': 'April', 'visitors': '0'}, {'district': 'Mahabubabad', 'month': 'May', 'visitors': '0'}, {'district': 'Mahabubabad', 'month': 'June', 'visitors': '0'}, {'district': 'Mahabubabad', 'month': 'July', 'visitors': '0'}, {'district': 'Mahabubabad', 'month': 'August', 'visitors': '0'}, {'district': 'Mahabubabad', 'month': 'September', 'visitors': '0'}, {'district': 'Mahabubabad', 'month': 'October', 'visitors': '0'}, {'district': 'Mahabubabad', 'month': 'November', 'visitors': '0'}, {'district': 'Mahabubabad', 'month': 'December', 'visitors': '0'}, {'district': 'Mahbubnagar', 'month': 'January', 'visitors': '42'}, {'district': 'Mahbubnagar', 'month': 'February', 'visitors': '39'}, {'district': 'Mahbubnagar', 'month': 'March', 'visitors': '38'}, {'district': 'Mahbubnagar', 'month': 'April', 'visitors': '39'}, {'district': 'Mahbubnagar', 'month': 'May', 'visitors': '41'}, {'district': 'Mahbubnagar', 'month': 'June', 'visitors': '43'}, {'district': 'Mahbubnagar', 'month': 'July', 'visitors': '42'}, {'district': 'Mahbubnagar', 'month': 'August', 'visitors': '44'}, {'district': 'Mahbubnagar', 'month': 'September', 'visitors': '54'}, {'district': 'Mahbubnagar', 'month': 'October', 'visitors': '47'}, {'district': 'Mahbubnagar', 'month': 'November', 'visitors': '49'}, {'district': 'Mahbubnagar', 'month': 'December', 'visitors': '42'}, {'district': 'Mancherial', 'month': 'January', 'visitors': '0'}, {'district': 'Mancherial', 'month': 'February', 'visitors': '0'}, {'district': 'Mancherial', 'month': 'March', 'visitors': '0'}, {'district': 'Mancherial', 'month': 'April', 'visitors': '0'}, {'district': 'Mancherial', 'month': 'May', 'visitors': '0'}, {'district': 'Mancherial', 'month': 'June', 'visitors': ''}, {'district': 'Mancherial', 'month': 'July', 'visitors': '0'}, {'district': 'Mancherial', 'month': 'August', 'visitors': '0'}, {'district': 'Mancherial', 'month': 'September', 'visitors': '0'}, {'district': 'Mancherial', 'month': 'October', 'visitors': '0'}, {'district': 'Mancherial', 'month': 'November', 'visitors': '0'}, {'district': 'Mancherial', 'month': 'December', 'visitors': '0'}, {'district': 'Medak', 'month': 'January', 'visitors': '0'}, {'district': 'Medak', 'month': 'February', 'visitors': '0'}, {'district': 'Medak', 'month': 'March', 'visitors': '0'}, {'district': 'Medak', 'month': 'April', 'visitors': '0'}, {'district': 'Medak', 'month': 'May', 'visitors': '0'}, {'district': 'Medak', 'month': 'June', 'visitors': '0'}, {'district': 'Medak', 'month': 'July', 'visitors': '0'}, {'district': 'Medak', 'month': 'August', 'visitors': '0'}, {'district': 'Medak', 'month': 'September', 'visitors': '0'}, {'district': 'Medak', 'month': 'October', 'visitors': '0'}, {'district': 'Medak', 'month': 'November', 'visitors': '0'}, {'district': 'Medak', 'month': 'December', 'visitors': '0'}, {'district': 'Medchal', 'month': 'January', 'visitors': ''}, {'district': 'Medchal', 'month': 'February', 'visitors': ''}, {'district': 'Medchal', 'month': 'March', 'visitors': ''}, {'district': 'Medchal', 'month': 'April', 'visitors': ''}, {'district': 'Medchal', 'month': 'May', 'visitors': ''}, {'district': 'Medchal', 'month': 'June', 'visitors': ''}, {'district': 'Medchal', 'month': 'July', 'visitors': ''}, {'district': 'Medchal', 'month': 'August', 'visitors': ''}, {'district': 'Medchal', 'month': 'September', 'visitors': ''}, {'district': 'Medchal', 'month': 'October', 'visitors': ''}, {'district': 'Medchal', 'month': 'November', 'visitors': ''}, {'district': 'Medchal', 'month': 'December', 'visitors': ''}, {'district': 'Nagarkurnool', 'month': 'January', 'visitors': '19'}, {'district': 'Nagarkurnool', 'month': 'February', 'visitors': '25'}, {'district': 'Nagarkurnool', 'month': 'March', 'visitors': '24'}, {'district': 'Nagarkurnool', 'month': 'April', 'visitors': '29'}, {'district': 'Nagarkurnool', 'month': 'May', 'visitors': '31'}, {'district': 'Nagarkurnool', 'month': 'June', 'visitors': '35'}, {'district': 'Nagarkurnool', 'month': 'July', 'visitors': '25'}, {'district': 'Nagarkurnool', 'month': 'August', 'visitors': '23'}, {'district': 'Nagarkurnool', 'month': 'September', 'visitors': '32'}, {'district': 'Nagarkurnool', 'month': 'October', 'visitors': '18'}, {'district': 'Nagarkurnool', 'month': 'November', 'visitors': '21'}, {'district': 'Nagarkurnool', 'month': 'December', 'visitors': '29'}, {'district': 'Nalgonda', 'month': 'January', 'visitors': '0'}, {'district': 'Nalgonda', 'month': 'February', 'visitors': '0'}, {'district': 'Nalgonda', 'month': 'March', 'visitors': '0'}, {'district': 'Nalgonda', 'month': 'April', 'visitors': '0'}, {'district': 'Nalgonda', 'month': 'May', 'visitors': '0'}, {'district': 'Nalgonda', 'month': 'June', 'visitors': '0'}, {'district': 'Nalgonda', 'month': 'July', 'visitors': '0'}, {'district': 'Nalgonda', 'month': 'August', 'visitors': '0'}, {'district': 'Nalgonda', 'month': 'September', 'visitors': '0'}, {'district': 'Nalgonda', 'month': 'October', 'visitors': '0'}, {'district': 'Nalgonda', 'month': 'November', 'visitors': '0'}, {'district': 'Nalgonda', 'month': 'December', 'visitors': '0'}, {'district': 'Nirmal', 'month': 'January', 'visitors': '0'}, {'district': 'Nirmal', 'month': 'February', 'visitors': '0'}, {'district': 'Nirmal', 'month': 'March', 'visitors': '0'}, {'district': 'Nirmal', 'month': 'April', 'visitors': '0'}, {'district': 'Nirmal', 'month': 'May', 'visitors': '0'}, {'district': 'Nirmal', 'month': 'June', 'visitors': ''}, {'district': 'Nirmal', 'month': 'July', 'visitors': '0'}, {'district': 'Nirmal', 'month': 'August', 'visitors': '0'}, {'district': 'Nirmal', 'month': 'September', 'visitors': '0'}, {'district': 'Nirmal', 'month': 'October', 'visitors': '0'}, {'district': 'Nirmal', 'month': 'November', 'visitors': '0'}, {'district': 'Nirmal', 'month': 'December', 'visitors': '0'}, {'district': 'Nizamabad', 'month': 'January', 'visitors': '0'}, {'district': 'Nizamabad', 'month': 'February', 'visitors': '0'}, {'district': 'Nizamabad', 'month': 'March', 'visitors': '0'}, {'district': 'Nizamabad', 'month': 'April', 'visitors': '2'}, {'district': 'Nizamabad', 'month': 'May', 'visitors': '0'}, {'district': 'Nizamabad', 'month': 'June', 'visitors': '0'}, {'district': 'Nizamabad', 'month': 'July', 'visitors': '0'}, {'district': 'Nizamabad', 'month': 'August', 'visitors': '0'}, {'district': 'Nizamabad', 'month': 'September', 'visitors': '0'}, {'district': 'Nizamabad', 'month': 'October', 'visitors': '0'}, {'district': 'Nizamabad', 'month': 'November', 'visitors': '0'}, {'district': 'Nizamabad', 'month': 'December', 'visitors': '0'}, {'district': 'Peddapalli', 'month': 'January', 'visitors': '0'}, {'district': 'Peddapalli', 'month': 'February', 'visitors': '0'}, {'district': 'Peddapalli', 'month': 'March', 'visitors': '0'}, {'district': 'Peddapalli', 'month': 'April', 'visitors': '0'}, {'district': 'Peddapalli', 'month': 'May', 'visitors': '0'}, {'district': 'Peddapalli', 'month': 'June', 'visitors': '0'}, {'district': 'Peddapalli', 'month': 'July', 'visitors': '0'}, {'district': 'Peddapalli', 'month': 'August', 'visitors': '0'}, {'district': 'Peddapalli', 'month': 'September', 'visitors': '0'}, {'district': 'Peddapalli', 'month': 'October', 'visitors': '0'}, {'district': 'Peddapalli', 'month': 'November', 'visitors': '0'}, {'district': 'Peddapalli', 'month': 'December', 'visitors': '0'}, {'district': 'Rajanna Sircilla', 'month': 'January', 'visitors': '0'}, {'district': 'Rajanna Sircilla', 'month': 'February', 'visitors': '0'}, {'district': 'Rajanna Sircilla', 'month': 'March', 'visitors': '0'}, {'district': 'Rajanna Sircilla', 'month': 'April', 'visitors': '0'}, {'district': 'Rajanna Sircilla', 'month': 'May', 'visitors': '0'}, {'district': 'Rajanna Sircilla', 'month': 'June', 'visitors': '0'}, {'district': 'Rajanna Sircilla', 'month': 'July', 'visitors': '0'}, {'district': 'Rajanna Sircilla', 'month': 'August', 'visitors': '0'}, {'district': 'Rajanna Sircilla', 'month': 'September', 'visitors': '0'}, {'district': 'Rajanna Sircilla', 'month': 'October', 'visitors': '0'}, {'district': 'Rajanna Sircilla', 'month': 'November', 'visitors': '0'}, {'district': 'Rajanna Sircilla', 'month': 'December', 'visitors': '0'}, {'district': 'Ranga Reddy', 'month': 'January', 'visitors': ''}, {'district': 'Ranga Reddy', 'month': 'February', 'visitors': ''}, {'district': 'Ranga Reddy', 'month': 'March', 'visitors': ''}, {'district': 'Ranga Reddy', 'month': 'April', 'visitors': ''}, {'district': 'Ranga Reddy', 'month': 'May', 'visitors': ''}, {'district': 'Ranga Reddy', 'month': 'June', 'visitors': ''}, {'district': 'Ranga Reddy', 'month': 'July', 'visitors': ''}, {'district': 'Ranga Reddy', 'month': 'August', 'visitors': ''}, {'district': 'Ranga Reddy', 'month': 'September', 'visitors': ''}, {'district': 'Ranga Reddy', 'month': 'October', 'visitors': ''}, {'district': 'Ranga Reddy', 'month': 'November', 'visitors': ''}, {'district': 'Ranga Reddy', 'month': 'December', 'visitors': ''}, {'district': 'Sangareddy', 'month': 'January', 'visitors': '0'}, {'district': 'Sangareddy', 'month': 'February', 'visitors': '0'}, {'district': 'Sangareddy', 'month': 'March', 'visitors': '0'}, {'district': 'Sangareddy', 'month': 'April', 'visitors': '0'}, {'district': 'Sangareddy', 'month': 'May', 'visitors': '0'}, {'district': 'Sangareddy', 'month': 'June', 'visitors': '0'}, {'district': 'Sangareddy', 'month': 'July', 'visitors': '0'}, {'district': 'Sangareddy', 'month': 'August', 'visitors': '0'}, {'district': 'Sangareddy', 'month': 'September', 'visitors': '0'}, {'district': 'Sangareddy', 'month': 'October', 'visitors': '0'}, {'district': 'Sangareddy', 'month': 'November', 'visitors': '0'}, {'district': 'Sangareddy', 'month': 'December', 'visitors': '0'}, {'district': 'Siddipet', 'month': 'January', 'visitors': '0'}, {'district': 'Siddipet', 'month': 'February', 'visitors': '0'}, {'district': 'Siddipet', 'month': 'March', 'visitors': '0'}, {'district': 'Siddipet', 'month': 'April', 'visitors': '0'}, {'district': 'Siddipet', 'month': 'May', 'visitors': '0'}, {'district': 'Siddipet', 'month': 'June', 'visitors': '0'}, {'district': 'Siddipet', 'month': 'July', 'visitors': '0'}, {'district': 'Siddipet', 'month': 'August', 'visitors': '0'}, {'district': 'Siddipet', 'month': 'September', 'visitors': '0'}, {'district': 'Siddipet', 'month': 'October', 'visitors': '0'}, {'district': 'Siddipet', 'month': 'November', 'visitors': '0'}, {'district': 'Siddipet', 'month': 'December', 'visitors': '0'}, {'district': 'Suryapet', 'month': 'January', 'visitors': '0'}, {'district': 'Suryapet', 'month': 'February', 'visitors': '0'}, {'district': 'Suryapet', 'month': 'March', 'visitors': '0'}, {'district': 'Suryapet', 'month': 'April', 'visitors': '0'}, {'district': 'Suryapet', 'month': 'May', 'visitors': '0'}, {'district': 'Suryapet', 'month': 'June', 'visitors': '0'}, {'district': 'Suryapet', 'month': 'July', 'visitors': '0'}, {'district': 'Suryapet', 'month': 'August', 'visitors': '0'}, {'district': 'Suryapet', 'month': 'September', 'visitors': '0'}, {'district': 'Suryapet', 'month': 'October', 'visitors': '0'}, {'district': 'Suryapet', 'month': 'November', 'visitors': '0'}, {'district': 'Suryapet', 'month': 'December', 'visitors': '0'}, {'district': 'Vikarabad', 'month': 'January', 'visitors': ''}, {'district': 'Vikarabad', 'month': 'February', 'visitors': ''}, {'district': 'Vikarabad', 'month': 'March', 'visitors': ''}, {'district': 'Vikarabad', 'month': 'April', 'visitors': ''}, {'district': 'Vikarabad', 'month': 'May', 'visitors': ''}, {'district': 'Vikarabad', 'month': 'June', 'visitors': ''}, {'district': 'Vikarabad', 'month': 'July', 'visitors': ''}, {'district': 'Vikarabad', 'month': 'August', 'visitors': ''}, {'district': 'Vikarabad', 'month': 'September', 'visitors': ''}, {'district': 'Vikarabad', 'month': 'October', 'visitors': ''}, {'district': 'Vikarabad', 'month': 'November', 'visitors': ''}, {'district': 'Vikarabad', 'month': 'December', 'visitors': ''}, {'district': 'Wanaparthy', 'month': 'January', 'visitors': '0'}, {'district': 'Wanaparthy', 'month': 'February', 'visitors': '0'}, {'district': 'Wanaparthy', 'month': 'March', 'visitors': '0'}, {'district': 'Wanaparthy', 'month': 'April', 'visitors': '0'}, {'district': 'Wanaparthy', 'month': 'May', 'visitors': '0'}, {'district': 'Wanaparthy', 'month': 'June', 'visitors': '0'}, {'district': 'Wanaparthy', 'month': 'July', 'visitors': '0'}, {'district': 'Wanaparthy', 'month': 'August', 'visitors': '0'}, {'district': 'Wanaparthy', 'month': 'September', 'visitors': '0'}, {'district': 'Wanaparthy', 'month': 'October', 'visitors': '0'}, {'district': 'Wanaparthy', 'month': 'November', 'visitors': '0'}, {'district': 'Wanaparthy', 'month': 'December', 'visitors': '0'}, {'district': 'Warangal (Rural)', 'month': 'January', 'visitors': '35'}, {'district': 'Warangal (Rural)', 'month': 'February', 'visitors': '25'}, {'district': 'Warangal (Rural)', 'month': 'March', 'visitors': '17'}, {'district': 'Warangal (Rural)', 'month': 'April', 'visitors': '19'}, {'district': 'Warangal (Rural)', 'month': 'May', 'visitors': '21'}, {'district': 'Warangal (Rural)', 'month': 'June', 'visitors': '24'}, {'district': 'Warangal (Rural)', 'month': 'July', 'visitors': '25'}, {'district': 'Warangal (Rural)', 'month': 'August', 'visitors': '28'}, {'district': 'Warangal (Rural)', 'month': 'September', 'visitors': '26'}, {'district': 'Warangal (Rural)', 'month': 'October', 'visitors': '25'}, {'district': 'Warangal (Rural)', 'month': 'November', 'visitors': '29'}, {'district': 'Warangal (Rural)', 'month': 'December', 'visitors': '32'}, {'district': 'Warangal (Urban)', 'month': 'January', 'visitors': '235'}, {'district': 'Warangal (Urban)', 'month': 'February', 'visitors': '242'}, {'district': 'Warangal (Urban)', 'month': 'March', 'visitors': '238'}, {'district': 'Warangal (Urban)', 'month': 'April', 'visitors': '209'}, {'district': 'Warangal (Urban)', 'month': 'May', 'visitors': '211'}, {'district': 'Warangal (Urban)', 'month': 'June', 'visitors': '194'}, {'district': 'Warangal (Urban)', 'month': 'July', 'visitors': '116'}, {'district': 'Warangal (Urban)', 'month': 'August', 'visitors': '219'}, {'district': 'Warangal (Urban)', 'month': 'September', 'visitors': '225'}, {'district': 'Warangal (Urban)', 'month': 'October', 'visitors': '236'}, {'district': 'Warangal (Urban)', 'month': 'November', 'visitors': '255'}, {'district': 'Warangal (Urban)', 'month': 'December', 'visitors': '250'}, {'district': 'Yadadri Bhongir', 'month': 'January', 'visitors': '0'}, {'district': 'Yadadri Bhongir', 'month': 'February', 'visitors': '0'}, {'district': 'Yadadri Bhongir', 'month': 'March', 'visitors': '0'}, {'district': 'Yadadri Bhongir', 'month': 'April', 'visitors': '0'}, {'district': 'Yadadri Bhongir', 'month': 'May', 'visitors': '0'}, {'district': 'Yadadri Bhongir', 'month': 'June', 'visitors': '0'}, {'district': 'Yadadri Bhongir', 'month': 'July', 'visitors': '0'}, {'district': 'Yadadri Bhongir', 'month': 'August', 'visitors': '0'}, {'district': 'Yadadri Bhongir', 'month': 'September', 'visitors': '0'}, {'district': 'Yadadri Bhongir', 'month': 'October', 'visitors': '0'}, {'district': 'Yadadri Bhongir', 'month': 'November', 'visitors': '0'}, {'district': 'Yadadri Bhongir', 'month': 'December', 'visitors': '0'}], 'count': 372, 'schema': {'a3d95bfa-cf37-5418-9609-a1c812e4b995': {'fields': {'district': {'type': 'text', 'mysql_type': 'text', 'description': 'District'}, 'month': {'type': 'text', 'mysql_type': 'text', 'description': 'Month'}, 'visitors': {'type': 'text', 'mysql_type': 'text', 'description': 'Visitors'}}}}, 'query': {'count': True, 'results': True, 'schema': True, 'keys': True, 'format': 'json', 'resources': [{'id': 'a3d95bfa-cf37-5418-9609-a1c812e4b995', 'alias': 't'}], 'limit': 500, 'offset': 0, 'rowIds': False, 'properties': ['district', 'month', 'visitors']}}\n",
      "Data for 2017 has been exported to Foreign_Visitors\\Telangana_Foreign_Visitors_2017.csv\n",
      "{'results': [{'district': 'Adilabad', 'month': 'January', 'visitors': '0'}, {'district': 'Adilabad', 'month': 'February', 'visitors': '0'}, {'district': 'Adilabad', 'month': 'March', 'visitors': '0'}, {'district': 'Adilabad', 'month': 'April', 'visitors': '0'}, {'district': 'Adilabad', 'month': 'May', 'visitors': '0'}, {'district': 'Adilabad', 'month': 'June', 'visitors': '0'}, {'district': 'Adilabad', 'month': 'July', 'visitors': '2'}, {'district': 'Adilabad', 'month': 'August', 'visitors': '3'}, {'district': 'Adilabad', 'month': 'September', 'visitors': '0'}, {'district': 'Adilabad', 'month': 'October', 'visitors': '0'}, {'district': 'Adilabad', 'month': 'November', 'visitors': '0'}, {'district': 'Adilabad', 'month': 'December', 'visitors': '0'}, {'district': 'Bhadradri Kothagudem', 'month': 'January', 'visitors': '0'}, {'district': 'Bhadradri Kothagudem', 'month': 'February', 'visitors': '0'}, {'district': 'Bhadradri Kothagudem', 'month': 'March', 'visitors': '0'}, {'district': 'Bhadradri Kothagudem', 'month': 'April', 'visitors': '0'}, {'district': 'Bhadradri Kothagudem', 'month': 'May', 'visitors': '0'}, {'district': 'Bhadradri Kothagudem', 'month': 'June', 'visitors': '0'}, {'district': 'Bhadradri Kothagudem', 'month': 'July', 'visitors': '0'}, {'district': 'Bhadradri Kothagudem', 'month': 'August', 'visitors': '0'}, {'district': 'Bhadradri Kothagudem', 'month': 'September', 'visitors': '0'}, {'district': 'Bhadradri Kothagudem', 'month': 'October', 'visitors': '0'}, {'district': 'Bhadradri Kothagudem', 'month': 'November', 'visitors': '0'}, {'district': 'Bhadradri Kothagudem', 'month': 'December', 'visitors': '0'}, {'district': 'Hyderabad', 'month': 'January', 'visitors': '35379'}, {'district': 'Hyderabad', 'month': 'February', 'visitors': '30414'}, {'district': 'Hyderabad', 'month': 'March', 'visitors': '27535'}, {'district': 'Hyderabad', 'month': 'April', 'visitors': '20830'}, {'district': 'Hyderabad', 'month': 'May', 'visitors': '21554'}, {'district': 'Hyderabad', 'month': 'June', 'visitors': '24677'}, {'district': 'Hyderabad', 'month': 'July', 'visitors': '17456'}, {'district': 'Hyderabad', 'month': 'August', 'visitors': '31217'}, {'district': 'Hyderabad', 'month': 'September', 'visitors': '22809'}, {'district': 'Hyderabad', 'month': 'October', 'visitors': '30072'}, {'district': 'Hyderabad', 'month': 'November', 'visitors': '23487'}, {'district': 'Hyderabad', 'month': 'December', 'visitors': '29358'}, {'district': 'Jagtial', 'month': 'January', 'visitors': '0'}, {'district': 'Jagtial', 'month': 'February', 'visitors': '0'}, {'district': 'Jagtial', 'month': 'March', 'visitors': '0'}, {'district': 'Jagtial', 'month': 'April', 'visitors': '0'}, {'district': 'Jagtial', 'month': 'May', 'visitors': '0'}, {'district': 'Jagtial', 'month': 'June', 'visitors': '0'}, {'district': 'Jagtial', 'month': 'July', 'visitors': '0'}, {'district': 'Jagtial', 'month': 'August', 'visitors': '0'}, {'district': 'Jagtial', 'month': 'September', 'visitors': '0'}, {'district': 'Jagtial', 'month': 'October', 'visitors': '0'}, {'district': 'Jagtial', 'month': 'November', 'visitors': '0'}, {'district': 'Jagtial', 'month': 'December', 'visitors': '0'}, {'district': 'Jangaon', 'month': 'January', 'visitors': '0'}, {'district': 'Jangaon', 'month': 'February', 'visitors': '0'}, {'district': 'Jangaon', 'month': 'March', 'visitors': '0'}, {'district': 'Jangaon', 'month': 'April', 'visitors': '0'}, {'district': 'Jangaon', 'month': 'May', 'visitors': '0'}, {'district': 'Jangaon', 'month': 'June', 'visitors': '0'}, {'district': 'Jangaon', 'month': 'July', 'visitors': '0'}, {'district': 'Jangaon', 'month': 'August', 'visitors': '0'}, {'district': 'Jangaon', 'month': 'September', 'visitors': '0'}, {'district': 'Jangaon', 'month': 'October', 'visitors': '0'}, {'district': 'Jangaon', 'month': 'November', 'visitors': '0'}, {'district': 'Jangaon', 'month': 'December', 'visitors': '0'}, {'district': 'Jayashankar Bhoopalpally', 'month': 'January', 'visitors': '50'}, {'district': 'Jayashankar Bhoopalpally', 'month': 'February', 'visitors': '60'}, {'district': 'Jayashankar Bhoopalpally', 'month': 'March', 'visitors': '70'}, {'district': 'Jayashankar Bhoopalpally', 'month': 'April', 'visitors': '45'}, {'district': 'Jayashankar Bhoopalpally', 'month': 'May', 'visitors': '40'}, {'district': 'Jayashankar Bhoopalpally', 'month': 'June', 'visitors': '35'}, {'district': 'Jayashankar Bhoopalpally', 'month': 'July', 'visitors': '40'}, {'district': 'Jayashankar Bhoopalpally', 'month': 'August', 'visitors': '35'}, {'district': 'Jayashankar Bhoopalpally', 'month': 'September', 'visitors': '40'}, {'district': 'Jayashankar Bhoopalpally', 'month': 'October', 'visitors': '40'}, {'district': 'Jayashankar Bhoopalpally', 'month': 'November', 'visitors': '40'}, {'district': 'Jayashankar Bhoopalpally', 'month': 'December', 'visitors': '44'}, {'district': 'Jogulamba Gadwal', 'month': 'January', 'visitors': '36'}, {'district': 'Jogulamba Gadwal', 'month': 'February', 'visitors': '6'}, {'district': 'Jogulamba Gadwal', 'month': 'March', 'visitors': '22'}, {'district': 'Jogulamba Gadwal', 'month': 'April', 'visitors': '15'}, {'district': 'Jogulamba Gadwal', 'month': 'May', 'visitors': '19'}, {'district': 'Jogulamba Gadwal', 'month': 'June', 'visitors': '19'}, {'district': 'Jogulamba Gadwal', 'month': 'July', 'visitors': '37'}, {'district': 'Jogulamba Gadwal', 'month': 'August', 'visitors': '42'}, {'district': 'Jogulamba Gadwal', 'month': 'September', 'visitors': '35'}, {'district': 'Jogulamba Gadwal', 'month': 'October', 'visitors': '13'}, {'district': 'Jogulamba Gadwal', 'month': 'November', 'visitors': '45'}, {'district': 'Jogulamba Gadwal', 'month': 'December', 'visitors': '11'}, {'district': 'Kamareddy', 'month': 'January', 'visitors': '0'}, {'district': 'Kamareddy', 'month': 'February', 'visitors': '0'}, {'district': 'Kamareddy', 'month': 'March', 'visitors': '0'}, {'district': 'Kamareddy', 'month': 'April', 'visitors': '0'}, {'district': 'Kamareddy', 'month': 'May', 'visitors': '0'}, {'district': 'Kamareddy', 'month': 'June', 'visitors': '0'}, {'district': 'Kamareddy', 'month': 'July', 'visitors': '0'}, {'district': 'Kamareddy', 'month': 'August', 'visitors': ''}, {'district': 'Kamareddy', 'month': 'September', 'visitors': ''}, {'district': 'Kamareddy', 'month': 'October', 'visitors': '0'}, {'district': 'Kamareddy', 'month': 'November', 'visitors': '0'}, {'district': 'Kamareddy', 'month': 'December', 'visitors': '0'}, {'district': 'Karimnagar', 'month': 'January', 'visitors': '0'}, {'district': 'Karimnagar', 'month': 'February', 'visitors': '0'}, {'district': 'Karimnagar', 'month': 'March', 'visitors': '0'}, {'district': 'Karimnagar', 'month': 'April', 'visitors': '0'}, {'district': 'Karimnagar', 'month': 'May', 'visitors': '0'}, {'district': 'Karimnagar', 'month': 'June', 'visitors': '0'}, {'district': 'Karimnagar', 'month': 'July', 'visitors': '0'}, {'district': 'Karimnagar', 'month': 'August', 'visitors': '0'}, {'district': 'Karimnagar', 'month': 'September', 'visitors': '0'}, {'district': 'Karimnagar', 'month': 'October', 'visitors': '0'}, {'district': 'Karimnagar', 'month': 'November', 'visitors': '0'}, {'district': 'Karimnagar', 'month': 'December', 'visitors': '0'}, {'district': 'Khammam', 'month': 'January', 'visitors': '0'}, {'district': 'Khammam', 'month': 'February', 'visitors': '0'}, {'district': 'Khammam', 'month': 'March', 'visitors': '0'}, {'district': 'Khammam', 'month': 'April', 'visitors': '0'}, {'district': 'Khammam', 'month': 'May', 'visitors': '0'}, {'district': 'Khammam', 'month': 'June', 'visitors': '0'}, {'district': 'Khammam', 'month': 'July', 'visitors': '0'}, {'district': 'Khammam', 'month': 'August', 'visitors': '0'}, {'district': 'Khammam', 'month': 'September', 'visitors': '0'}, {'district': 'Khammam', 'month': 'October', 'visitors': '0'}, {'district': 'Khammam', 'month': 'November', 'visitors': '0'}, {'district': 'Khammam', 'month': 'December', 'visitors': '0'}, {'district': 'Komaram Bheem Asifabad', 'month': 'January', 'visitors': '0'}, {'district': 'Komaram Bheem Asifabad', 'month': 'February', 'visitors': '0'}, {'district': 'Komaram Bheem Asifabad', 'month': 'March', 'visitors': '0'}, {'district': 'Komaram Bheem Asifabad', 'month': 'April', 'visitors': '0'}, {'district': 'Komaram Bheem Asifabad', 'month': 'May', 'visitors': '0'}, {'district': 'Komaram Bheem Asifabad', 'month': 'June', 'visitors': '0'}, {'district': 'Komaram Bheem Asifabad', 'month': 'July', 'visitors': '0'}, {'district': 'Komaram Bheem Asifabad', 'month': 'August', 'visitors': '0'}, {'district': 'Komaram Bheem Asifabad', 'month': 'September', 'visitors': '0'}, {'district': 'Komaram Bheem Asifabad', 'month': 'October', 'visitors': '0'}, {'district': 'Komaram Bheem Asifabad', 'month': 'November', 'visitors': '0'}, {'district': 'Komaram Bheem Asifabad', 'month': 'December', 'visitors': '0'}, {'district': 'Mahabubabad', 'month': 'January', 'visitors': '0'}, {'district': 'Mahabubabad', 'month': 'February', 'visitors': '0'}, {'district': 'Mahabubabad', 'month': 'March', 'visitors': '0'}, {'district': 'Mahabubabad', 'month': 'April', 'visitors': '0'}, {'district': 'Mahabubabad', 'month': 'May', 'visitors': '0'}, {'district': 'Mahabubabad', 'month': 'June', 'visitors': '0'}, {'district': 'Mahabubabad', 'month': 'July', 'visitors': '0'}, {'district': 'Mahabubabad', 'month': 'August', 'visitors': '0'}, {'district': 'Mahabubabad', 'month': 'September', 'visitors': '0'}, {'district': 'Mahabubabad', 'month': 'October', 'visitors': '0'}, {'district': 'Mahabubabad', 'month': 'November', 'visitors': '0'}, {'district': 'Mahabubabad', 'month': 'December', 'visitors': '0'}, {'district': 'Mahbubnagar', 'month': 'January', 'visitors': '45'}, {'district': 'Mahbubnagar', 'month': 'February', 'visitors': '29'}, {'district': 'Mahbubnagar', 'month': 'March', 'visitors': '28'}, {'district': 'Mahbubnagar', 'month': 'April', 'visitors': '26'}, {'district': 'Mahbubnagar', 'month': 'May', 'visitors': '26'}, {'district': 'Mahbubnagar', 'month': 'June', 'visitors': '26'}, {'district': 'Mahbubnagar', 'month': 'July', 'visitors': '47'}, {'district': 'Mahbubnagar', 'month': 'August', 'visitors': '44'}, {'district': 'Mahbubnagar', 'month': 'September', 'visitors': '52'}, {'district': 'Mahbubnagar', 'month': 'October', 'visitors': '37'}, {'district': 'Mahbubnagar', 'month': 'November', 'visitors': '68'}, {'district': 'Mahbubnagar', 'month': 'December', 'visitors': '26'}, {'district': 'Mancherial', 'month': 'January', 'visitors': '0'}, {'district': 'Mancherial', 'month': 'February', 'visitors': '0'}, {'district': 'Mancherial', 'month': 'March', 'visitors': '0'}, {'district': 'Mancherial', 'month': 'April', 'visitors': '0'}, {'district': 'Mancherial', 'month': 'May', 'visitors': '0'}, {'district': 'Mancherial', 'month': 'June', 'visitors': '0'}, {'district': 'Mancherial', 'month': 'July', 'visitors': '0'}, {'district': 'Mancherial', 'month': 'August', 'visitors': '0'}, {'district': 'Mancherial', 'month': 'September', 'visitors': '0'}, {'district': 'Mancherial', 'month': 'October', 'visitors': '0'}, {'district': 'Mancherial', 'month': 'November', 'visitors': '0'}, {'district': 'Mancherial', 'month': 'December', 'visitors': '0'}, {'district': 'Medak', 'month': 'January', 'visitors': '0'}, {'district': 'Medak', 'month': 'February', 'visitors': '0'}, {'district': 'Medak', 'month': 'March', 'visitors': '0'}, {'district': 'Medak', 'month': 'April', 'visitors': '0'}, {'district': 'Medak', 'month': 'May', 'visitors': '0'}, {'district': 'Medak', 'month': 'June', 'visitors': '0'}, {'district': 'Medak', 'month': 'July', 'visitors': '0'}, {'district': 'Medak', 'month': 'August', 'visitors': '0'}, {'district': 'Medak', 'month': 'September', 'visitors': '0'}, {'district': 'Medak', 'month': 'October', 'visitors': '0'}, {'district': 'Medak', 'month': 'November', 'visitors': '0'}, {'district': 'Medak', 'month': 'December', 'visitors': '0'}, {'district': 'Medchal', 'month': 'January', 'visitors': ''}, {'district': 'Medchal', 'month': 'February', 'visitors': ''}, {'district': 'Medchal', 'month': 'March', 'visitors': ''}, {'district': 'Medchal', 'month': 'April', 'visitors': ''}, {'district': 'Medchal', 'month': 'May', 'visitors': ''}, {'district': 'Medchal', 'month': 'June', 'visitors': ''}, {'district': 'Medchal', 'month': 'July', 'visitors': ''}, {'district': 'Medchal', 'month': 'August', 'visitors': ''}, {'district': 'Medchal', 'month': 'September', 'visitors': ''}, {'district': 'Medchal', 'month': 'October', 'visitors': ''}, {'district': 'Medchal', 'month': 'November', 'visitors': ''}, {'district': 'Medchal', 'month': 'December', 'visitors': ''}, {'district': 'Nagarkurnool', 'month': 'January', 'visitors': '35'}, {'district': 'Nagarkurnool', 'month': 'February', 'visitors': '15'}, {'district': 'Nagarkurnool', 'month': 'March', 'visitors': '14'}, {'district': 'Nagarkurnool', 'month': 'April', 'visitors': '15'}, {'district': 'Nagarkurnool', 'month': 'May', 'visitors': '19'}, {'district': 'Nagarkurnool', 'month': 'June', 'visitors': '15'}, {'district': 'Nagarkurnool', 'month': 'July', 'visitors': '17'}, {'district': 'Nagarkurnool', 'month': 'August', 'visitors': '22'}, {'district': 'Nagarkurnool', 'month': 'September', 'visitors': '22'}, {'district': 'Nagarkurnool', 'month': 'October', 'visitors': '8'}, {'district': 'Nagarkurnool', 'month': 'November', 'visitors': '30'}, {'district': 'Nagarkurnool', 'month': 'December', 'visitors': '10'}, {'district': 'Nalgonda', 'month': 'January', 'visitors': '0'}, {'district': 'Nalgonda', 'month': 'February', 'visitors': '0'}, {'district': 'Nalgonda', 'month': 'March', 'visitors': '0'}, {'district': 'Nalgonda', 'month': 'April', 'visitors': '0'}, {'district': 'Nalgonda', 'month': 'May', 'visitors': '0'}, {'district': 'Nalgonda', 'month': 'June', 'visitors': '0'}, {'district': 'Nalgonda', 'month': 'July', 'visitors': '0'}, {'district': 'Nalgonda', 'month': 'August', 'visitors': '0'}, {'district': 'Nalgonda', 'month': 'September', 'visitors': '0'}, {'district': 'Nalgonda', 'month': 'October', 'visitors': '0'}, {'district': 'Nalgonda', 'month': 'November', 'visitors': '0'}, {'district': 'Nalgonda', 'month': 'December', 'visitors': '0'}, {'district': 'Nirmal', 'month': 'January', 'visitors': '0'}, {'district': 'Nirmal', 'month': 'February', 'visitors': '0'}, {'district': 'Nirmal', 'month': 'March', 'visitors': '0'}, {'district': 'Nirmal', 'month': 'April', 'visitors': '0'}, {'district': 'Nirmal', 'month': 'May', 'visitors': '0'}, {'district': 'Nirmal', 'month': 'June', 'visitors': '0'}, {'district': 'Nirmal', 'month': 'July', 'visitors': '0'}, {'district': 'Nirmal', 'month': 'August', 'visitors': '2'}, {'district': 'Nirmal', 'month': 'September', 'visitors': '0'}, {'district': 'Nirmal', 'month': 'October', 'visitors': '0'}, {'district': 'Nirmal', 'month': 'November', 'visitors': '0'}, {'district': 'Nirmal', 'month': 'December', 'visitors': '0'}, {'district': 'Nizamabad', 'month': 'January', 'visitors': '1'}, {'district': 'Nizamabad', 'month': 'February', 'visitors': '0'}, {'district': 'Nizamabad', 'month': 'March', 'visitors': '0'}, {'district': 'Nizamabad', 'month': 'April', 'visitors': '0'}, {'district': 'Nizamabad', 'month': 'May', 'visitors': '0'}, {'district': 'Nizamabad', 'month': 'June', 'visitors': '0'}, {'district': 'Nizamabad', 'month': 'July', 'visitors': '1'}, {'district': 'Nizamabad', 'month': 'August', 'visitors': '0'}, {'district': 'Nizamabad', 'month': 'September', 'visitors': '0'}, {'district': 'Nizamabad', 'month': 'October', 'visitors': '0'}, {'district': 'Nizamabad', 'month': 'November', 'visitors': '0'}, {'district': 'Nizamabad', 'month': 'December', 'visitors': '0'}, {'district': 'Peddapalli', 'month': 'January', 'visitors': '0'}, {'district': 'Peddapalli', 'month': 'February', 'visitors': '0'}, {'district': 'Peddapalli', 'month': 'March', 'visitors': '0'}, {'district': 'Peddapalli', 'month': 'April', 'visitors': '0'}, {'district': 'Peddapalli', 'month': 'May', 'visitors': '0'}, {'district': 'Peddapalli', 'month': 'June', 'visitors': '0'}, {'district': 'Peddapalli', 'month': 'July', 'visitors': '0'}, {'district': 'Peddapalli', 'month': 'August', 'visitors': '0'}, {'district': 'Peddapalli', 'month': 'September', 'visitors': '0'}, {'district': 'Peddapalli', 'month': 'October', 'visitors': '0'}, {'district': 'Peddapalli', 'month': 'November', 'visitors': '0'}, {'district': 'Peddapalli', 'month': 'December', 'visitors': '0'}, {'district': 'Rajanna Sircilla', 'month': 'January', 'visitors': '0'}, {'district': 'Rajanna Sircilla', 'month': 'February', 'visitors': '0'}, {'district': 'Rajanna Sircilla', 'month': 'March', 'visitors': '0'}, {'district': 'Rajanna Sircilla', 'month': 'April', 'visitors': '0'}, {'district': 'Rajanna Sircilla', 'month': 'May', 'visitors': '0'}, {'district': 'Rajanna Sircilla', 'month': 'June', 'visitors': '0'}, {'district': 'Rajanna Sircilla', 'month': 'July', 'visitors': '0'}, {'district': 'Rajanna Sircilla', 'month': 'August', 'visitors': '0'}, {'district': 'Rajanna Sircilla', 'month': 'September', 'visitors': '0'}, {'district': 'Rajanna Sircilla', 'month': 'October', 'visitors': '0'}, {'district': 'Rajanna Sircilla', 'month': 'November', 'visitors': '0'}, {'district': 'Rajanna Sircilla', 'month': 'December', 'visitors': '0'}, {'district': 'Ranga Reddy', 'month': 'January', 'visitors': ''}, {'district': 'Ranga Reddy', 'month': 'February', 'visitors': ''}, {'district': 'Ranga Reddy', 'month': 'March', 'visitors': ''}, {'district': 'Ranga Reddy', 'month': 'April', 'visitors': ''}, {'district': 'Ranga Reddy', 'month': 'May', 'visitors': ''}, {'district': 'Ranga Reddy', 'month': 'June', 'visitors': ''}, {'district': 'Ranga Reddy', 'month': 'July', 'visitors': ''}, {'district': 'Ranga Reddy', 'month': 'August', 'visitors': ''}, {'district': 'Ranga Reddy', 'month': 'September', 'visitors': ''}, {'district': 'Ranga Reddy', 'month': 'October', 'visitors': ''}, {'district': 'Ranga Reddy', 'month': 'November', 'visitors': ''}, {'district': 'Ranga Reddy', 'month': 'December', 'visitors': ''}, {'district': 'Sangareddy', 'month': 'January', 'visitors': '0'}, {'district': 'Sangareddy', 'month': 'February', 'visitors': '0'}, {'district': 'Sangareddy', 'month': 'March', 'visitors': '0'}, {'district': 'Sangareddy', 'month': 'April', 'visitors': '0'}, {'district': 'Sangareddy', 'month': 'May', 'visitors': '0'}, {'district': 'Sangareddy', 'month': 'June', 'visitors': '0'}, {'district': 'Sangareddy', 'month': 'July', 'visitors': '0'}, {'district': 'Sangareddy', 'month': 'August', 'visitors': '0'}, {'district': 'Sangareddy', 'month': 'September', 'visitors': '0'}, {'district': 'Sangareddy', 'month': 'October', 'visitors': '0'}, {'district': 'Sangareddy', 'month': 'November', 'visitors': '0'}, {'district': 'Sangareddy', 'month': 'December', 'visitors': '0'}, {'district': 'Siddipet', 'month': 'January', 'visitors': '0'}, {'district': 'Siddipet', 'month': 'February', 'visitors': '0'}, {'district': 'Siddipet', 'month': 'March', 'visitors': '0'}, {'district': 'Siddipet', 'month': 'April', 'visitors': '0'}, {'district': 'Siddipet', 'month': 'May', 'visitors': '0'}, {'district': 'Siddipet', 'month': 'June', 'visitors': '0'}, {'district': 'Siddipet', 'month': 'July', 'visitors': '0'}, {'district': 'Siddipet', 'month': 'August', 'visitors': '0'}, {'district': 'Siddipet', 'month': 'September', 'visitors': '0'}, {'district': 'Siddipet', 'month': 'October', 'visitors': '0'}, {'district': 'Siddipet', 'month': 'November', 'visitors': '0'}, {'district': 'Siddipet', 'month': 'December', 'visitors': '0'}, {'district': 'Suryapet', 'month': 'January', 'visitors': '0'}, {'district': 'Suryapet', 'month': 'February', 'visitors': '0'}, {'district': 'Suryapet', 'month': 'March', 'visitors': '0'}, {'district': 'Suryapet', 'month': 'April', 'visitors': '0'}, {'district': 'Suryapet', 'month': 'May', 'visitors': '0'}, {'district': 'Suryapet', 'month': 'June', 'visitors': '0'}, {'district': 'Suryapet', 'month': 'July', 'visitors': '0'}, {'district': 'Suryapet', 'month': 'August', 'visitors': '0'}, {'district': 'Suryapet', 'month': 'September', 'visitors': '0'}, {'district': 'Suryapet', 'month': 'October', 'visitors': '0'}, {'district': 'Suryapet', 'month': 'November', 'visitors': '0'}, {'district': 'Suryapet', 'month': 'December', 'visitors': '0'}, {'district': 'Vikarabad', 'month': 'January', 'visitors': ''}, {'district': 'Vikarabad', 'month': 'February', 'visitors': ''}, {'district': 'Vikarabad', 'month': 'March', 'visitors': ''}, {'district': 'Vikarabad', 'month': 'April', 'visitors': ''}, {'district': 'Vikarabad', 'month': 'May', 'visitors': ''}, {'district': 'Vikarabad', 'month': 'June', 'visitors': ''}, {'district': 'Vikarabad', 'month': 'July', 'visitors': ''}, {'district': 'Vikarabad', 'month': 'August', 'visitors': ''}, {'district': 'Vikarabad', 'month': 'September', 'visitors': ''}, {'district': 'Vikarabad', 'month': 'October', 'visitors': ''}, {'district': 'Vikarabad', 'month': 'November', 'visitors': ''}, {'district': 'Vikarabad', 'month': 'December', 'visitors': ''}, {'district': 'Wanaparthy', 'month': 'January', 'visitors': '0'}, {'district': 'Wanaparthy', 'month': 'February', 'visitors': '0'}, {'district': 'Wanaparthy', 'month': 'March', 'visitors': '0'}, {'district': 'Wanaparthy', 'month': 'April', 'visitors': '0'}, {'district': 'Wanaparthy', 'month': 'May', 'visitors': '0'}, {'district': 'Wanaparthy', 'month': 'June', 'visitors': '0'}, {'district': 'Wanaparthy', 'month': 'July', 'visitors': '0'}, {'district': 'Wanaparthy', 'month': 'August', 'visitors': '0'}, {'district': 'Wanaparthy', 'month': 'September', 'visitors': '0'}, {'district': 'Wanaparthy', 'month': 'October', 'visitors': '0'}, {'district': 'Wanaparthy', 'month': 'November', 'visitors': '0'}, {'district': 'Wanaparthy', 'month': 'December', 'visitors': '0'}, {'district': 'Warangal (Rural)', 'month': 'January', 'visitors': '0'}, {'district': 'Warangal (Rural)', 'month': 'February', 'visitors': '0'}, {'district': 'Warangal (Rural)', 'month': 'March', 'visitors': '0'}, {'district': 'Warangal (Rural)', 'month': 'April', 'visitors': '0'}, {'district': 'Warangal (Rural)', 'month': 'May', 'visitors': '0'}, {'district': 'Warangal (Rural)', 'month': 'June', 'visitors': '0'}, {'district': 'Warangal (Rural)', 'month': 'July', 'visitors': '0'}, {'district': 'Warangal (Rural)', 'month': 'August', 'visitors': '0'}, {'district': 'Warangal (Rural)', 'month': 'September', 'visitors': '0'}, {'district': 'Warangal (Rural)', 'month': 'October', 'visitors': '0'}, {'district': 'Warangal (Rural)', 'month': 'November', 'visitors': '0'}, {'district': 'Warangal (Rural)', 'month': 'December', 'visitors': '0'}, {'district': 'Warangal (Urban)', 'month': 'January', 'visitors': '150'}, {'district': 'Warangal (Urban)', 'month': 'February', 'visitors': '185'}, {'district': 'Warangal (Urban)', 'month': 'March', 'visitors': '160'}, {'district': 'Warangal (Urban)', 'month': 'April', 'visitors': '150'}, {'district': 'Warangal (Urban)', 'month': 'May', 'visitors': '140'}, {'district': 'Warangal (Urban)', 'month': 'June', 'visitors': '130'}, {'district': 'Warangal (Urban)', 'month': 'July', 'visitors': '130'}, {'district': 'Warangal (Urban)', 'month': 'August', 'visitors': '135'}, {'district': 'Warangal (Urban)', 'month': 'September', 'visitors': '145'}, {'district': 'Warangal (Urban)', 'month': 'October', 'visitors': '160'}, {'district': 'Warangal (Urban)', 'month': 'November', 'visitors': '170'}, {'district': 'Warangal (Urban)', 'month': 'December', 'visitors': '187'}, {'district': 'Yadadri Bhongir', 'month': 'January', 'visitors': '0'}, {'district': 'Yadadri Bhongir', 'month': 'February', 'visitors': '0'}, {'district': 'Yadadri Bhongir', 'month': 'March', 'visitors': '0'}, {'district': 'Yadadri Bhongir', 'month': 'April', 'visitors': '0'}, {'district': 'Yadadri Bhongir', 'month': 'May', 'visitors': '0'}, {'district': 'Yadadri Bhongir', 'month': 'June', 'visitors': '0'}, {'district': 'Yadadri Bhongir', 'month': 'July', 'visitors': '0'}, {'district': 'Yadadri Bhongir', 'month': 'August', 'visitors': '0'}, {'district': 'Yadadri Bhongir', 'month': 'September', 'visitors': '0'}, {'district': 'Yadadri Bhongir', 'month': 'October', 'visitors': '0'}, {'district': 'Yadadri Bhongir', 'month': 'November', 'visitors': '0'}, {'district': 'Yadadri Bhongir', 'month': 'December', 'visitors': '0'}], 'count': 372, 'schema': {'37eea480-c7fa-5eed-a574-d2d25bb68d1e': {'fields': {'district': {'type': 'text', 'mysql_type': 'text', 'description': 'District'}, 'month': {'type': 'text', 'mysql_type': 'text', 'description': 'Month'}, 'visitors': {'type': 'text', 'mysql_type': 'text', 'description': 'Visitors'}}}}, 'query': {'count': True, 'results': True, 'schema': True, 'keys': True, 'format': 'json', 'resources': [{'id': '37eea480-c7fa-5eed-a574-d2d25bb68d1e', 'alias': 't'}], 'limit': 500, 'offset': 0, 'rowIds': False, 'properties': ['district', 'month', 'visitors']}}\n",
      "Data for 2018 has been exported to Foreign_Visitors\\Telangana_Foreign_Visitors_2018.csv\n",
      "{'results': [{'district': 'Adilabad', 'month': 'January', 'visitors': '0'}, {'district': 'Adilabad', 'month': 'February', 'visitors': '2'}, {'district': 'Adilabad', 'month': 'March', 'visitors': '0'}, {'district': 'Adilabad', 'month': 'April', 'visitors': '0'}, {'district': 'Adilabad', 'month': 'May', 'visitors': '0'}, {'district': 'Adilabad', 'month': 'June', 'visitors': '0'}, {'district': 'Adilabad', 'month': 'July', 'visitors': '0'}, {'district': 'Adilabad', 'month': 'August', 'visitors': '2'}, {'district': 'Adilabad', 'month': 'September', 'visitors': '0'}, {'district': 'Adilabad', 'month': 'October', 'visitors': '0'}, {'district': 'Adilabad', 'month': 'November', 'visitors': '2'}, {'district': 'Adilabad', 'month': 'December', 'visitors': '0'}, {'district': 'Bhadradri Kothagudem', 'month': 'January', 'visitors': '0'}, {'district': 'Bhadradri Kothagudem', 'month': 'February', 'visitors': '0'}, {'district': 'Bhadradri Kothagudem', 'month': 'March', 'visitors': '0'}, {'district': 'Bhadradri Kothagudem', 'month': 'April', 'visitors': '0'}, {'district': 'Bhadradri Kothagudem', 'month': 'May', 'visitors': '0'}, {'district': 'Bhadradri Kothagudem', 'month': 'June', 'visitors': '0'}, {'district': 'Bhadradri Kothagudem', 'month': 'July', 'visitors': '0'}, {'district': 'Bhadradri Kothagudem', 'month': 'August', 'visitors': '0'}, {'district': 'Bhadradri Kothagudem', 'month': 'September', 'visitors': '0'}, {'district': 'Bhadradri Kothagudem', 'month': 'October', 'visitors': '0'}, {'district': 'Bhadradri Kothagudem', 'month': 'November', 'visitors': '0'}, {'district': 'Bhadradri Kothagudem', 'month': 'December', 'visitors': '0'}, {'district': 'Hyderabad', 'month': 'January', 'visitors': '35920'}, {'district': 'Hyderabad', 'month': 'February', 'visitors': '25621'}, {'district': 'Hyderabad', 'month': 'March', 'visitors': '21929'}, {'district': 'Hyderabad', 'month': 'April', 'visitors': '18267'}, {'district': 'Hyderabad', 'month': 'May', 'visitors': '17317'}, {'district': 'Hyderabad', 'month': 'June', 'visitors': '20077'}, {'district': 'Hyderabad', 'month': 'July', 'visitors': '27874'}, {'district': 'Hyderabad', 'month': 'August', 'visitors': '22725'}, {'district': 'Hyderabad', 'month': 'September', 'visitors': '34018'}, {'district': 'Hyderabad', 'month': 'October', 'visitors': '28706'}, {'district': 'Hyderabad', 'month': 'November', 'visitors': '32762'}, {'district': 'Hyderabad', 'month': 'December', 'visitors': '34084'}, {'district': 'Jagtial', 'month': 'January', 'visitors': '0'}, {'district': 'Jagtial', 'month': 'February', 'visitors': '0'}, {'district': 'Jagtial', 'month': 'March', 'visitors': '0'}, {'district': 'Jagtial', 'month': 'April', 'visitors': '0'}, {'district': 'Jagtial', 'month': 'May', 'visitors': '0'}, {'district': 'Jagtial', 'month': 'June', 'visitors': '0'}, {'district': 'Jagtial', 'month': 'July', 'visitors': '0'}, {'district': 'Jagtial', 'month': 'August', 'visitors': '0'}, {'district': 'Jagtial', 'month': 'September', 'visitors': '0'}, {'district': 'Jagtial', 'month': 'October', 'visitors': '0'}, {'district': 'Jagtial', 'month': 'November', 'visitors': '0'}, {'district': 'Jagtial', 'month': 'December', 'visitors': '0'}, {'district': 'Jangaon', 'month': 'January', 'visitors': '0'}, {'district': 'Jangaon', 'month': 'February', 'visitors': '0'}, {'district': 'Jangaon', 'month': 'March', 'visitors': '0'}, {'district': 'Jangaon', 'month': 'April', 'visitors': '0'}, {'district': 'Jangaon', 'month': 'May', 'visitors': '0'}, {'district': 'Jangaon', 'month': 'June', 'visitors': '0'}, {'district': 'Jangaon', 'month': 'July', 'visitors': '0'}, {'district': 'Jangaon', 'month': 'August', 'visitors': '0'}, {'district': 'Jangaon', 'month': 'September', 'visitors': '0'}, {'district': 'Jangaon', 'month': 'October', 'visitors': '0'}, {'district': 'Jangaon', 'month': 'November', 'visitors': '0'}, {'district': 'Jangaon', 'month': 'December', 'visitors': '0'}, {'district': 'Jayashankar Bhoopalpally', 'month': 'January', 'visitors': '45'}, {'district': 'Jayashankar Bhoopalpally', 'month': 'February', 'visitors': '0'}, {'district': 'Jayashankar Bhoopalpally', 'month': 'March', 'visitors': '0'}, {'district': 'Jayashankar Bhoopalpally', 'month': 'April', 'visitors': '0'}, {'district': 'Jayashankar Bhoopalpally', 'month': 'May', 'visitors': '0'}, {'district': 'Jayashankar Bhoopalpally', 'month': 'June', 'visitors': '0'}, {'district': 'Jayashankar Bhoopalpally', 'month': 'July', 'visitors': '0'}, {'district': 'Jayashankar Bhoopalpally', 'month': 'August', 'visitors': '0'}, {'district': 'Jayashankar Bhoopalpally', 'month': 'September', 'visitors': '0'}, {'district': 'Jayashankar Bhoopalpally', 'month': 'October', 'visitors': '0'}, {'district': 'Jayashankar Bhoopalpally', 'month': 'November', 'visitors': '0'}, {'district': 'Jayashankar Bhoopalpally', 'month': 'December', 'visitors': '0'}, {'district': 'Jogulamba Gadwal', 'month': 'January', 'visitors': '36'}, {'district': 'Jogulamba Gadwal', 'month': 'February', 'visitors': '6'}, {'district': 'Jogulamba Gadwal', 'month': 'March', 'visitors': '22'}, {'district': 'Jogulamba Gadwal', 'month': 'April', 'visitors': '16'}, {'district': 'Jogulamba Gadwal', 'month': 'May', 'visitors': '20'}, {'district': 'Jogulamba Gadwal', 'month': 'June', 'visitors': '22'}, {'district': 'Jogulamba Gadwal', 'month': 'July', 'visitors': '37'}, {'district': 'Jogulamba Gadwal', 'month': 'August', 'visitors': '42'}, {'district': 'Jogulamba Gadwal', 'month': 'September', 'visitors': '25'}, {'district': 'Jogulamba Gadwal', 'month': 'October', 'visitors': '13'}, {'district': 'Jogulamba Gadwal', 'month': 'November', 'visitors': '45'}, {'district': 'Jogulamba Gadwal', 'month': 'December', 'visitors': '11'}, {'district': 'Kamareddy', 'month': 'January', 'visitors': '0'}, {'district': 'Kamareddy', 'month': 'February', 'visitors': '0'}, {'district': 'Kamareddy', 'month': 'March', 'visitors': '0'}, {'district': 'Kamareddy', 'month': 'April', 'visitors': '0'}, {'district': 'Kamareddy', 'month': 'May', 'visitors': '0'}, {'district': 'Kamareddy', 'month': 'June', 'visitors': '0'}, {'district': 'Kamareddy', 'month': 'July', 'visitors': '0'}, {'district': 'Kamareddy', 'month': 'August', 'visitors': '0'}, {'district': 'Kamareddy', 'month': 'September', 'visitors': '0'}, {'district': 'Kamareddy', 'month': 'October', 'visitors': '0'}, {'district': 'Kamareddy', 'month': 'November', 'visitors': '0'}, {'district': 'Kamareddy', 'month': 'December', 'visitors': '0'}, {'district': 'Karimnagar', 'month': 'January', 'visitors': '0'}, {'district': 'Karimnagar', 'month': 'February', 'visitors': '0'}, {'district': 'Karimnagar', 'month': 'March', 'visitors': '0'}, {'district': 'Karimnagar', 'month': 'April', 'visitors': '0'}, {'district': 'Karimnagar', 'month': 'May', 'visitors': '0'}, {'district': 'Karimnagar', 'month': 'June', 'visitors': '0'}, {'district': 'Karimnagar', 'month': 'July', 'visitors': '0'}, {'district': 'Karimnagar', 'month': 'August', 'visitors': '0'}, {'district': 'Karimnagar', 'month': 'September', 'visitors': '0'}, {'district': 'Karimnagar', 'month': 'October', 'visitors': '0'}, {'district': 'Karimnagar', 'month': 'November', 'visitors': '0'}, {'district': 'Karimnagar', 'month': 'December', 'visitors': '0'}, {'district': 'Khammam', 'month': 'January', 'visitors': '0'}, {'district': 'Khammam', 'month': 'February', 'visitors': '0'}, {'district': 'Khammam', 'month': 'March', 'visitors': '0'}, {'district': 'Khammam', 'month': 'April', 'visitors': '0'}, {'district': 'Khammam', 'month': 'May', 'visitors': '0'}, {'district': 'Khammam', 'month': 'June', 'visitors': '0'}, {'district': 'Khammam', 'month': 'July', 'visitors': '0'}, {'district': 'Khammam', 'month': 'August', 'visitors': '0'}, {'district': 'Khammam', 'month': 'September', 'visitors': '0'}, {'district': 'Khammam', 'month': 'October', 'visitors': '0'}, {'district': 'Khammam', 'month': 'November', 'visitors': '0'}, {'district': 'Khammam', 'month': 'December', 'visitors': '0'}, {'district': 'Komaram Bheem Asifabad', 'month': 'January', 'visitors': '0'}, {'district': 'Komaram Bheem Asifabad', 'month': 'February', 'visitors': '0'}, {'district': 'Komaram Bheem Asifabad', 'month': 'March', 'visitors': '0'}, {'district': 'Komaram Bheem Asifabad', 'month': 'April', 'visitors': '0'}, {'district': 'Komaram Bheem Asifabad', 'month': 'May', 'visitors': '0'}, {'district': 'Komaram Bheem Asifabad', 'month': 'June', 'visitors': '0'}, {'district': 'Komaram Bheem Asifabad', 'month': 'July', 'visitors': '0'}, {'district': 'Komaram Bheem Asifabad', 'month': 'August', 'visitors': '0'}, {'district': 'Komaram Bheem Asifabad', 'month': 'September', 'visitors': '0'}, {'district': 'Komaram Bheem Asifabad', 'month': 'October', 'visitors': '0'}, {'district': 'Komaram Bheem Asifabad', 'month': 'November', 'visitors': '0'}, {'district': 'Komaram Bheem Asifabad', 'month': 'December', 'visitors': '0'}, {'district': 'Mahabubabad', 'month': 'January', 'visitors': '0'}, {'district': 'Mahabubabad', 'month': 'February', 'visitors': '0'}, {'district': 'Mahabubabad', 'month': 'March', 'visitors': '0'}, {'district': 'Mahabubabad', 'month': 'April', 'visitors': '0'}, {'district': 'Mahabubabad', 'month': 'May', 'visitors': '0'}, {'district': 'Mahabubabad', 'month': 'June', 'visitors': '0'}, {'district': 'Mahabubabad', 'month': 'July', 'visitors': '0'}, {'district': 'Mahabubabad', 'month': 'August', 'visitors': '0'}, {'district': 'Mahabubabad', 'month': 'September', 'visitors': '0'}, {'district': 'Mahabubabad', 'month': 'October', 'visitors': '0'}, {'district': 'Mahabubabad', 'month': 'November', 'visitors': '0'}, {'district': 'Mahabubabad', 'month': 'December', 'visitors': '0'}, {'district': 'Mahbubnagar', 'month': 'January', 'visitors': '45'}, {'district': 'Mahbubnagar', 'month': 'February', 'visitors': '29'}, {'district': 'Mahbubnagar', 'month': 'March', 'visitors': '28'}, {'district': 'Mahbubnagar', 'month': 'April', 'visitors': '34'}, {'district': 'Mahbubnagar', 'month': 'May', 'visitors': '20'}, {'district': 'Mahbubnagar', 'month': 'June', 'visitors': '28'}, {'district': 'Mahbubnagar', 'month': 'July', 'visitors': '47'}, {'district': 'Mahbubnagar', 'month': 'August', 'visitors': '44'}, {'district': 'Mahbubnagar', 'month': 'September', 'visitors': '34'}, {'district': 'Mahbubnagar', 'month': 'October', 'visitors': '37'}, {'district': 'Mahbubnagar', 'month': 'November', 'visitors': '68'}, {'district': 'Mahbubnagar', 'month': 'December', 'visitors': '26'}, {'district': 'Mancherial', 'month': 'January', 'visitors': '0'}, {'district': 'Mancherial', 'month': 'February', 'visitors': '0'}, {'district': 'Mancherial', 'month': 'March', 'visitors': '0'}, {'district': 'Mancherial', 'month': 'April', 'visitors': '0'}, {'district': 'Mancherial', 'month': 'May', 'visitors': '0'}, {'district': 'Mancherial', 'month': 'June', 'visitors': '0'}, {'district': 'Mancherial', 'month': 'July', 'visitors': '0'}, {'district': 'Mancherial', 'month': 'August', 'visitors': '0'}, {'district': 'Mancherial', 'month': 'September', 'visitors': '0'}, {'district': 'Mancherial', 'month': 'October', 'visitors': '0'}, {'district': 'Mancherial', 'month': 'November', 'visitors': '10'}, {'district': 'Mancherial', 'month': 'December', 'visitors': '0'}, {'district': 'Medak', 'month': 'January', 'visitors': '0'}, {'district': 'Medak', 'month': 'February', 'visitors': '0'}, {'district': 'Medak', 'month': 'March', 'visitors': '0'}, {'district': 'Medak', 'month': 'April', 'visitors': '0'}, {'district': 'Medak', 'month': 'May', 'visitors': '0'}, {'district': 'Medak', 'month': 'June', 'visitors': '0'}, {'district': 'Medak', 'month': 'July', 'visitors': '0'}, {'district': 'Medak', 'month': 'August', 'visitors': '0'}, {'district': 'Medak', 'month': 'September', 'visitors': '0'}, {'district': 'Medak', 'month': 'October', 'visitors': '0'}, {'district': 'Medak', 'month': 'November', 'visitors': '0'}, {'district': 'Medak', 'month': 'December', 'visitors': '0'}, {'district': 'Medchal', 'month': 'January', 'visitors': ''}, {'district': 'Medchal', 'month': 'February', 'visitors': ''}, {'district': 'Medchal', 'month': 'March', 'visitors': ''}, {'district': 'Medchal', 'month': 'April', 'visitors': ''}, {'district': 'Medchal', 'month': 'May', 'visitors': ''}, {'district': 'Medchal', 'month': 'June', 'visitors': ''}, {'district': 'Medchal', 'month': 'July', 'visitors': ''}, {'district': 'Medchal', 'month': 'August', 'visitors': ''}, {'district': 'Medchal', 'month': 'September', 'visitors': ''}, {'district': 'Medchal', 'month': 'October', 'visitors': ''}, {'district': 'Medchal', 'month': 'November', 'visitors': ''}, {'district': 'Medchal', 'month': 'December', 'visitors': ''}, {'district': 'Mulugu', 'month': 'January', 'visitors': '0'}, {'district': 'Mulugu', 'month': 'February', 'visitors': '45'}, {'district': 'Mulugu', 'month': 'March', 'visitors': '40'}, {'district': 'Mulugu', 'month': 'April', 'visitors': '40'}, {'district': 'Mulugu', 'month': 'May', 'visitors': '40'}, {'district': 'Mulugu', 'month': 'June', 'visitors': '50'}, {'district': 'Mulugu', 'month': 'July', 'visitors': '55'}, {'district': 'Mulugu', 'month': 'August', 'visitors': '50'}, {'district': 'Mulugu', 'month': 'September', 'visitors': '60'}, {'district': 'Mulugu', 'month': 'October', 'visitors': '60'}, {'district': 'Mulugu', 'month': 'November', 'visitors': '70'}, {'district': 'Mulugu', 'month': 'December', 'visitors': '65'}, {'district': 'Nagarkurnool', 'month': 'January', 'visitors': '35'}, {'district': 'Nagarkurnool', 'month': 'February', 'visitors': '15'}, {'district': 'Nagarkurnool', 'month': 'March', 'visitors': '14'}, {'district': 'Nagarkurnool', 'month': 'April', 'visitors': '18'}, {'district': 'Nagarkurnool', 'month': 'May', 'visitors': '14'}, {'district': 'Nagarkurnool', 'month': 'June', 'visitors': '14'}, {'district': 'Nagarkurnool', 'month': 'July', 'visitors': '17'}, {'district': 'Nagarkurnool', 'month': 'August', 'visitors': '22'}, {'district': 'Nagarkurnool', 'month': 'September', 'visitors': '7'}, {'district': 'Nagarkurnool', 'month': 'October', 'visitors': '3'}, {'district': 'Nagarkurnool', 'month': 'November', 'visitors': '30'}, {'district': 'Nagarkurnool', 'month': 'December', 'visitors': '10'}, {'district': 'Nalgonda', 'month': 'January', 'visitors': '0'}, {'district': 'Nalgonda', 'month': 'February', 'visitors': '0'}, {'district': 'Nalgonda', 'month': 'March', 'visitors': '0'}, {'district': 'Nalgonda', 'month': 'April', 'visitors': '0'}, {'district': 'Nalgonda', 'month': 'May', 'visitors': '0'}, {'district': 'Nalgonda', 'month': 'June', 'visitors': '0'}, {'district': 'Nalgonda', 'month': 'July', 'visitors': '0'}, {'district': 'Nalgonda', 'month': 'August', 'visitors': '0'}, {'district': 'Nalgonda', 'month': 'September', 'visitors': '0'}, {'district': 'Nalgonda', 'month': 'October', 'visitors': '0'}, {'district': 'Nalgonda', 'month': 'November', 'visitors': '0'}, {'district': 'Nalgonda', 'month': 'December', 'visitors': '0'}, {'district': 'Narayanpet', 'month': 'January', 'visitors': '0'}, {'district': 'Narayanpet', 'month': 'February', 'visitors': '0'}, {'district': 'Narayanpet', 'month': 'March', 'visitors': '0'}, {'district': 'Narayanpet', 'month': 'April', 'visitors': '0'}, {'district': 'Narayanpet', 'month': 'May', 'visitors': '0'}, {'district': 'Narayanpet', 'month': 'June', 'visitors': '0'}, {'district': 'Narayanpet', 'month': 'July', 'visitors': '0'}, {'district': 'Narayanpet', 'month': 'August', 'visitors': '0'}, {'district': 'Narayanpet', 'month': 'September', 'visitors': '0'}, {'district': 'Narayanpet', 'month': 'October', 'visitors': '0'}, {'district': 'Narayanpet', 'month': 'November', 'visitors': '0'}, {'district': 'Narayanpet', 'month': 'December', 'visitors': '5'}, {'district': 'Nirmal', 'month': 'January', 'visitors': '0'}, {'district': 'Nirmal', 'month': 'February', 'visitors': '0'}, {'district': 'Nirmal', 'month': 'March', 'visitors': '0'}, {'district': 'Nirmal', 'month': 'April', 'visitors': '0'}, {'district': 'Nirmal', 'month': 'May', 'visitors': '0'}, {'district': 'Nirmal', 'month': 'June', 'visitors': '0'}, {'district': 'Nirmal', 'month': 'July', 'visitors': '0'}, {'district': 'Nirmal', 'month': 'August', 'visitors': '0'}, {'district': 'Nirmal', 'month': 'September', 'visitors': '0'}, {'district': 'Nirmal', 'month': 'October', 'visitors': '0'}, {'district': 'Nirmal', 'month': 'November', 'visitors': '0'}, {'district': 'Nirmal', 'month': 'December', 'visitors': '0'}, {'district': 'Nizamabad', 'month': 'January', 'visitors': '0'}, {'district': 'Nizamabad', 'month': 'February', 'visitors': '1'}, {'district': 'Nizamabad', 'month': 'March', 'visitors': '0'}, {'district': 'Nizamabad', 'month': 'April', 'visitors': '0'}, {'district': 'Nizamabad', 'month': 'May', 'visitors': '0'}, {'district': 'Nizamabad', 'month': 'June', 'visitors': '0'}, {'district': 'Nizamabad', 'month': 'July', 'visitors': '0'}, {'district': 'Nizamabad', 'month': 'August', 'visitors': '0'}, {'district': 'Nizamabad', 'month': 'September', 'visitors': '0'}, {'district': 'Nizamabad', 'month': 'October', 'visitors': '0'}, {'district': 'Nizamabad', 'month': 'November', 'visitors': '0'}, {'district': 'Nizamabad', 'month': 'December', 'visitors': '0'}, {'district': 'Peddapalli', 'month': 'January', 'visitors': '0'}, {'district': 'Peddapalli', 'month': 'February', 'visitors': '0'}, {'district': 'Peddapalli', 'month': 'March', 'visitors': '0'}, {'district': 'Peddapalli', 'month': 'April', 'visitors': '0'}, {'district': 'Peddapalli', 'month': 'May', 'visitors': '0'}, {'district': 'Peddapalli', 'month': 'June', 'visitors': '0'}, {'district': 'Peddapalli', 'month': 'July', 'visitors': '0'}, {'district': 'Peddapalli', 'month': 'August', 'visitors': '0'}, {'district': 'Peddapalli', 'month': 'September', 'visitors': '0'}, {'district': 'Peddapalli', 'month': 'October', 'visitors': '0'}, {'district': 'Peddapalli', 'month': 'November', 'visitors': '0'}, {'district': 'Peddapalli', 'month': 'December', 'visitors': '0'}, {'district': 'Rajanna Sircilla', 'month': 'January', 'visitors': '0'}, {'district': 'Rajanna Sircilla', 'month': 'February', 'visitors': '0'}, {'district': 'Rajanna Sircilla', 'month': 'March', 'visitors': '0'}, {'district': 'Rajanna Sircilla', 'month': 'April', 'visitors': '0'}, {'district': 'Rajanna Sircilla', 'month': 'May', 'visitors': '0'}, {'district': 'Rajanna Sircilla', 'month': 'June', 'visitors': '0'}, {'district': 'Rajanna Sircilla', 'month': 'July', 'visitors': '0'}, {'district': 'Rajanna Sircilla', 'month': 'August', 'visitors': '0'}, {'district': 'Rajanna Sircilla', 'month': 'September', 'visitors': '0'}, {'district': 'Rajanna Sircilla', 'month': 'October', 'visitors': '0'}, {'district': 'Rajanna Sircilla', 'month': 'November', 'visitors': '0'}, {'district': 'Rajanna Sircilla', 'month': 'December', 'visitors': '0'}, {'district': 'Ranga Reddy', 'month': 'January', 'visitors': ''}, {'district': 'Ranga Reddy', 'month': 'February', 'visitors': ''}, {'district': 'Ranga Reddy', 'month': 'March', 'visitors': ''}, {'district': 'Ranga Reddy', 'month': 'April', 'visitors': ''}, {'district': 'Ranga Reddy', 'month': 'May', 'visitors': ''}, {'district': 'Ranga Reddy', 'month': 'June', 'visitors': ''}, {'district': 'Ranga Reddy', 'month': 'July', 'visitors': ''}, {'district': 'Ranga Reddy', 'month': 'August', 'visitors': ''}, {'district': 'Ranga Reddy', 'month': 'September', 'visitors': ''}, {'district': 'Ranga Reddy', 'month': 'October', 'visitors': ''}, {'district': 'Ranga Reddy', 'month': 'November', 'visitors': ''}, {'district': 'Ranga Reddy', 'month': 'December', 'visitors': ''}, {'district': 'Sangareddy', 'month': 'January', 'visitors': '0'}, {'district': 'Sangareddy', 'month': 'February', 'visitors': '0'}, {'district': 'Sangareddy', 'month': 'March', 'visitors': '0'}, {'district': 'Sangareddy', 'month': 'April', 'visitors': '0'}, {'district': 'Sangareddy', 'month': 'May', 'visitors': '0'}, {'district': 'Sangareddy', 'month': 'June', 'visitors': '0'}, {'district': 'Sangareddy', 'month': 'July', 'visitors': '0'}, {'district': 'Sangareddy', 'month': 'August', 'visitors': '0'}, {'district': 'Sangareddy', 'month': 'September', 'visitors': '0'}, {'district': 'Sangareddy', 'month': 'October', 'visitors': '0'}, {'district': 'Sangareddy', 'month': 'November', 'visitors': '0'}, {'district': 'Sangareddy', 'month': 'December', 'visitors': '0'}, {'district': 'Siddipet', 'month': 'January', 'visitors': '0'}, {'district': 'Siddipet', 'month': 'February', 'visitors': '0'}, {'district': 'Siddipet', 'month': 'March', 'visitors': '0'}, {'district': 'Siddipet', 'month': 'April', 'visitors': '0'}, {'district': 'Siddipet', 'month': 'May', 'visitors': '0'}, {'district': 'Siddipet', 'month': 'June', 'visitors': '0'}, {'district': 'Siddipet', 'month': 'July', 'visitors': '0'}, {'district': 'Siddipet', 'month': 'August', 'visitors': '0'}, {'district': 'Siddipet', 'month': 'September', 'visitors': '0'}, {'district': 'Siddipet', 'month': 'October', 'visitors': '0'}, {'district': 'Siddipet', 'month': 'November', 'visitors': '0'}, {'district': 'Siddipet', 'month': 'December', 'visitors': '0'}, {'district': 'Suryapet', 'month': 'January', 'visitors': '0'}, {'district': 'Suryapet', 'month': 'February', 'visitors': '0'}, {'district': 'Suryapet', 'month': 'March', 'visitors': '0'}, {'district': 'Suryapet', 'month': 'April', 'visitors': '0'}, {'district': 'Suryapet', 'month': 'May', 'visitors': '0'}, {'district': 'Suryapet', 'month': 'June', 'visitors': '0'}, {'district': 'Suryapet', 'month': 'July', 'visitors': '0'}, {'district': 'Suryapet', 'month': 'August', 'visitors': '0'}, {'district': 'Suryapet', 'month': 'September', 'visitors': '0'}, {'district': 'Suryapet', 'month': 'October', 'visitors': '0'}, {'district': 'Suryapet', 'month': 'November', 'visitors': '0'}, {'district': 'Suryapet', 'month': 'December', 'visitors': '0'}, {'district': 'Vikarabad', 'month': 'January', 'visitors': ''}, {'district': 'Vikarabad', 'month': 'February', 'visitors': ''}, {'district': 'Vikarabad', 'month': 'March', 'visitors': ''}, {'district': 'Vikarabad', 'month': 'April', 'visitors': ''}, {'district': 'Vikarabad', 'month': 'May', 'visitors': ''}, {'district': 'Vikarabad', 'month': 'June', 'visitors': ''}, {'district': 'Vikarabad', 'month': 'July', 'visitors': ''}, {'district': 'Vikarabad', 'month': 'August', 'visitors': ''}, {'district': 'Vikarabad', 'month': 'September', 'visitors': ''}, {'district': 'Vikarabad', 'month': 'October', 'visitors': ''}, {'district': 'Vikarabad', 'month': 'November', 'visitors': ''}, {'district': 'Vikarabad', 'month': 'December', 'visitors': ''}, {'district': 'Wanaparthy', 'month': 'January', 'visitors': '0'}, {'district': 'Wanaparthy', 'month': 'February', 'visitors': '0'}, {'district': 'Wanaparthy', 'month': 'March', 'visitors': '0'}, {'district': 'Wanaparthy', 'month': 'April', 'visitors': '0'}, {'district': 'Wanaparthy', 'month': 'May', 'visitors': '0'}, {'district': 'Wanaparthy', 'month': 'June', 'visitors': '0'}, {'district': 'Wanaparthy', 'month': 'July', 'visitors': '0'}, {'district': 'Wanaparthy', 'month': 'August', 'visitors': '0'}, {'district': 'Wanaparthy', 'month': 'September', 'visitors': '0'}, {'district': 'Wanaparthy', 'month': 'October', 'visitors': '0'}, {'district': 'Wanaparthy', 'month': 'November', 'visitors': '0'}, {'district': 'Wanaparthy', 'month': 'December', 'visitors': '0'}, {'district': 'Warangal (Rural)', 'month': 'January', 'visitors': '0'}, {'district': 'Warangal (Rural)', 'month': 'February', 'visitors': '0'}, {'district': 'Warangal (Rural)', 'month': 'March', 'visitors': '0'}, {'district': 'Warangal (Rural)', 'month': 'April', 'visitors': '0'}, {'district': 'Warangal (Rural)', 'month': 'May', 'visitors': '0'}, {'district': 'Warangal (Rural)', 'month': 'June', 'visitors': '0'}, {'district': 'Warangal (Rural)', 'month': 'July', 'visitors': '0'}, {'district': 'Warangal (Rural)', 'month': 'August', 'visitors': '0'}, {'district': 'Warangal (Rural)', 'month': 'September', 'visitors': '0'}, {'district': 'Warangal (Rural)', 'month': 'October', 'visitors': '0'}, {'district': 'Warangal (Rural)', 'month': 'November', 'visitors': '0'}, {'district': 'Warangal (Rural)', 'month': 'December', 'visitors': '0'}, {'district': 'Warangal (Urban)', 'month': 'January', 'visitors': '175'}, {'district': 'Warangal (Urban)', 'month': 'February', 'visitors': '200'}, {'district': 'Warangal (Urban)', 'month': 'March', 'visitors': '200'}, {'district': 'Warangal (Urban)', 'month': 'April', 'visitors': '190'}, {'district': 'Warangal (Urban)', 'month': 'May', 'visitors': '175'}, {'district': 'Warangal (Urban)', 'month': 'June', 'visitors': '195'}, {'district': 'Warangal (Urban)', 'month': 'July', 'visitors': '185'}, {'district': 'Warangal (Urban)', 'month': 'August', 'visitors': '230'}, {'district': 'Warangal (Urban)', 'month': 'September', 'visitors': '240'}, {'district': 'Warangal (Urban)', 'month': 'October', 'visitors': '220'}, {'district': 'Warangal (Urban)', 'month': 'November', 'visitors': '230'}, {'district': 'Warangal (Urban)', 'month': 'December', 'visitors': '210'}, {'district': 'Yadadri Bhongir', 'month': 'January', 'visitors': '0'}, {'district': 'Yadadri Bhongir', 'month': 'February', 'visitors': '0'}, {'district': 'Yadadri Bhongir', 'month': 'March', 'visitors': '0'}, {'district': 'Yadadri Bhongir', 'month': 'April', 'visitors': '0'}, {'district': 'Yadadri Bhongir', 'month': 'May', 'visitors': '0'}, {'district': 'Yadadri Bhongir', 'month': 'June', 'visitors': '0'}, {'district': 'Yadadri Bhongir', 'month': 'July', 'visitors': '0'}, {'district': 'Yadadri Bhongir', 'month': 'August', 'visitors': '0'}, {'district': 'Yadadri Bhongir', 'month': 'September', 'visitors': '0'}, {'district': 'Yadadri Bhongir', 'month': 'October', 'visitors': '0'}, {'district': 'Yadadri Bhongir', 'month': 'November', 'visitors': '0'}, {'district': 'Yadadri Bhongir', 'month': 'December', 'visitors': '0'}], 'count': 396, 'schema': {'edf764f7-ad23-5442-8001-9d12f1692b0a': {'fields': {'district': {'type': 'text', 'mysql_type': 'text', 'description': 'District'}, 'month': {'type': 'text', 'mysql_type': 'text', 'description': 'Month'}, 'visitors': {'type': 'text', 'mysql_type': 'text', 'description': 'Visitors'}}}}, 'query': {'count': True, 'results': True, 'schema': True, 'keys': True, 'format': 'json', 'resources': [{'id': 'edf764f7-ad23-5442-8001-9d12f1692b0a', 'alias': 't'}], 'limit': 500, 'offset': 0, 'rowIds': False, 'properties': ['district', 'month', 'visitors']}}\n",
      "Data for 2019 has been exported to Foreign_Visitors\\Telangana_Foreign_Visitors_2019.csv\n",
      "{'results': [{'district': 'Adilabad', 'month': 'January', 'visitors': '0'}, {'district': 'Adilabad', 'month': 'February', 'visitors': '0'}, {'district': 'Adilabad', 'month': 'March', 'visitors': '0'}, {'district': 'Adilabad', 'month': 'April', 'visitors': '0'}, {'district': 'Adilabad', 'month': 'May', 'visitors': '0'}, {'district': 'Adilabad', 'month': 'June', 'visitors': '0'}, {'district': 'Adilabad', 'month': 'July', 'visitors': '0'}, {'district': 'Adilabad', 'month': 'August', 'visitors': '0'}, {'district': 'Adilabad', 'month': 'September', 'visitors': '0'}, {'district': 'Adilabad', 'month': 'October', 'visitors': '0'}, {'district': 'Adilabad', 'month': 'November', 'visitors': '0'}, {'district': 'Adilabad', 'month': 'December', 'visitors': '0'}, {'district': 'Bhadradri Kothagudem', 'month': 'January', 'visitors': '0'}, {'district': 'Bhadradri Kothagudem', 'month': 'February', 'visitors': '0'}, {'district': 'Bhadradri Kothagudem', 'month': 'March', 'visitors': '0'}, {'district': 'Bhadradri Kothagudem', 'month': 'April', 'visitors': '0'}, {'district': 'Bhadradri Kothagudem', 'month': 'May', 'visitors': '0'}, {'district': 'Bhadradri Kothagudem', 'month': 'June', 'visitors': '0'}, {'district': 'Bhadradri Kothagudem', 'month': 'July', 'visitors': '0'}, {'district': 'Bhadradri Kothagudem', 'month': 'August', 'visitors': '0'}, {'district': 'Bhadradri Kothagudem', 'month': 'September', 'visitors': '0'}, {'district': 'Bhadradri Kothagudem', 'month': 'October', 'visitors': '0'}, {'district': 'Bhadradri Kothagudem', 'month': 'November', 'visitors': '0'}, {'district': 'Bhadradri Kothagudem', 'month': 'December', 'visitors': '0'}, {'district': 'Hyderabad', 'month': 'January', 'visitors': '25174'}, {'district': 'Hyderabad', 'month': 'February', 'visitors': '16521'}, {'district': 'Hyderabad', 'month': 'March', 'visitors': '3724'}, {'district': 'Hyderabad', 'month': 'April', 'visitors': ''}, {'district': 'Hyderabad', 'month': 'May', 'visitors': ''}, {'district': 'Hyderabad', 'month': 'June', 'visitors': ''}, {'district': 'Hyderabad', 'month': 'July', 'visitors': ''}, {'district': 'Hyderabad', 'month': 'August', 'visitors': ''}, {'district': 'Hyderabad', 'month': 'September', 'visitors': '6'}, {'district': 'Hyderabad', 'month': 'October', 'visitors': '76'}, {'district': 'Hyderabad', 'month': 'November', 'visitors': '128'}, {'district': 'Hyderabad', 'month': 'December', 'visitors': '230'}, {'district': 'Jagtial', 'month': 'January', 'visitors': '0'}, {'district': 'Jagtial', 'month': 'February', 'visitors': '0'}, {'district': 'Jagtial', 'month': 'March', 'visitors': '0'}, {'district': 'Jagtial', 'month': 'April', 'visitors': '0'}, {'district': 'Jagtial', 'month': 'May', 'visitors': '0'}, {'district': 'Jagtial', 'month': 'June', 'visitors': '0'}, {'district': 'Jagtial', 'month': 'July', 'visitors': '0'}, {'district': 'Jagtial', 'month': 'August', 'visitors': '0'}, {'district': 'Jagtial', 'month': 'September', 'visitors': '0'}, {'district': 'Jagtial', 'month': 'October', 'visitors': '0'}, {'district': 'Jagtial', 'month': 'November', 'visitors': '0'}, {'district': 'Jagtial', 'month': 'December', 'visitors': '0'}, {'district': 'Jangaon', 'month': 'January', 'visitors': '0'}, {'district': 'Jangaon', 'month': 'February', 'visitors': '0'}, {'district': 'Jangaon', 'month': 'March', 'visitors': '0'}, {'district': 'Jangaon', 'month': 'April', 'visitors': '0'}, {'district': 'Jangaon', 'month': 'May', 'visitors': '0'}, {'district': 'Jangaon', 'month': 'June', 'visitors': '0'}, {'district': 'Jangaon', 'month': 'July', 'visitors': '0'}, {'district': 'Jangaon', 'month': 'August', 'visitors': '0'}, {'district': 'Jangaon', 'month': 'September', 'visitors': '0'}, {'district': 'Jangaon', 'month': 'October', 'visitors': '0'}, {'district': 'Jangaon', 'month': 'November', 'visitors': '0'}, {'district': 'Jangaon', 'month': 'December', 'visitors': '0'}, {'district': 'Jayashankar Bhoopalpally', 'month': 'January', 'visitors': '0'}, {'district': 'Jayashankar Bhoopalpally', 'month': 'February', 'visitors': '0'}, {'district': 'Jayashankar Bhoopalpally', 'month': 'March', 'visitors': '0'}, {'district': 'Jayashankar Bhoopalpally', 'month': 'April', 'visitors': '0'}, {'district': 'Jayashankar Bhoopalpally', 'month': 'May', 'visitors': '0'}, {'district': 'Jayashankar Bhoopalpally', 'month': 'June', 'visitors': '0'}, {'district': 'Jayashankar Bhoopalpally', 'month': 'July', 'visitors': '0'}, {'district': 'Jayashankar Bhoopalpally', 'month': 'August', 'visitors': '0'}, {'district': 'Jayashankar Bhoopalpally', 'month': 'September', 'visitors': '0'}, {'district': 'Jayashankar Bhoopalpally', 'month': 'October', 'visitors': '0'}, {'district': 'Jayashankar Bhoopalpally', 'month': 'November', 'visitors': '0'}, {'district': 'Jayashankar Bhoopalpally', 'month': 'December', 'visitors': '0'}, {'district': 'Jogulamba Gadwal', 'month': 'January', 'visitors': '36'}, {'district': 'Jogulamba Gadwal', 'month': 'February', 'visitors': '6'}, {'district': 'Jogulamba Gadwal', 'month': 'March', 'visitors': '0'}, {'district': 'Jogulamba Gadwal', 'month': 'April', 'visitors': '0'}, {'district': 'Jogulamba Gadwal', 'month': 'May', 'visitors': '0'}, {'district': 'Jogulamba Gadwal', 'month': 'June', 'visitors': '0'}, {'district': 'Jogulamba Gadwal', 'month': 'July', 'visitors': '0'}, {'district': 'Jogulamba Gadwal', 'month': 'August', 'visitors': '0'}, {'district': 'Jogulamba Gadwal', 'month': 'September', 'visitors': '0'}, {'district': 'Jogulamba Gadwal', 'month': 'October', 'visitors': '0'}, {'district': 'Jogulamba Gadwal', 'month': 'November', 'visitors': '0'}, {'district': 'Jogulamba Gadwal', 'month': 'December', 'visitors': '0'}, {'district': 'Kamareddy', 'month': 'January', 'visitors': '0'}, {'district': 'Kamareddy', 'month': 'February', 'visitors': '0'}, {'district': 'Kamareddy', 'month': 'March', 'visitors': '0'}, {'district': 'Kamareddy', 'month': 'April', 'visitors': '0'}, {'district': 'Kamareddy', 'month': 'May', 'visitors': '0'}, {'district': 'Kamareddy', 'month': 'June', 'visitors': ''}, {'district': 'Kamareddy', 'month': 'July', 'visitors': '0'}, {'district': 'Kamareddy', 'month': 'August', 'visitors': '0'}, {'district': 'Kamareddy', 'month': 'September', 'visitors': '0'}, {'district': 'Kamareddy', 'month': 'October', 'visitors': '0'}, {'district': 'Kamareddy', 'month': 'November', 'visitors': '0'}, {'district': 'Kamareddy', 'month': 'December', 'visitors': '0'}, {'district': 'Karimnagar', 'month': 'January', 'visitors': '0'}, {'district': 'Karimnagar', 'month': 'February', 'visitors': '0'}, {'district': 'Karimnagar', 'month': 'March', 'visitors': '0'}, {'district': 'Karimnagar', 'month': 'April', 'visitors': '0'}, {'district': 'Karimnagar', 'month': 'May', 'visitors': '0'}, {'district': 'Karimnagar', 'month': 'June', 'visitors': '0'}, {'district': 'Karimnagar', 'month': 'July', 'visitors': '0'}, {'district': 'Karimnagar', 'month': 'August', 'visitors': '0'}, {'district': 'Karimnagar', 'month': 'September', 'visitors': '0'}, {'district': 'Karimnagar', 'month': 'October', 'visitors': '0'}, {'district': 'Karimnagar', 'month': 'November', 'visitors': '0'}, {'district': 'Karimnagar', 'month': 'December', 'visitors': '0'}, {'district': 'Khammam', 'month': 'January', 'visitors': '0'}, {'district': 'Khammam', 'month': 'February', 'visitors': '0'}, {'district': 'Khammam', 'month': 'March', 'visitors': '0'}, {'district': 'Khammam', 'month': 'April', 'visitors': '0'}, {'district': 'Khammam', 'month': 'May', 'visitors': '0'}, {'district': 'Khammam', 'month': 'June', 'visitors': '0'}, {'district': 'Khammam', 'month': 'July', 'visitors': '0'}, {'district': 'Khammam', 'month': 'August', 'visitors': '0'}, {'district': 'Khammam', 'month': 'September', 'visitors': '0'}, {'district': 'Khammam', 'month': 'October', 'visitors': '0'}, {'district': 'Khammam', 'month': 'November', 'visitors': '0'}, {'district': 'Khammam', 'month': 'December', 'visitors': '0'}, {'district': 'Komaram Bheem Asifabad', 'month': 'January', 'visitors': '0'}, {'district': 'Komaram Bheem Asifabad', 'month': 'February', 'visitors': '0'}, {'district': 'Komaram Bheem Asifabad', 'month': 'March', 'visitors': '0'}, {'district': 'Komaram Bheem Asifabad', 'month': 'April', 'visitors': '0'}, {'district': 'Komaram Bheem Asifabad', 'month': 'May', 'visitors': '0'}, {'district': 'Komaram Bheem Asifabad', 'month': 'June', 'visitors': '0'}, {'district': 'Komaram Bheem Asifabad', 'month': 'July', 'visitors': '0'}, {'district': 'Komaram Bheem Asifabad', 'month': 'August', 'visitors': '0'}, {'district': 'Komaram Bheem Asifabad', 'month': 'September', 'visitors': '0'}, {'district': 'Komaram Bheem Asifabad', 'month': 'October', 'visitors': '0'}, {'district': 'Komaram Bheem Asifabad', 'month': 'November', 'visitors': '0'}, {'district': 'Komaram Bheem Asifabad', 'month': 'December', 'visitors': '0'}, {'district': 'Mahabubabad', 'month': 'January', 'visitors': '0'}, {'district': 'Mahabubabad', 'month': 'February', 'visitors': '0'}, {'district': 'Mahabubabad', 'month': 'March', 'visitors': '0'}, {'district': 'Mahabubabad', 'month': 'April', 'visitors': '0'}, {'district': 'Mahabubabad', 'month': 'May', 'visitors': '0'}, {'district': 'Mahabubabad', 'month': 'June', 'visitors': '0'}, {'district': 'Mahabubabad', 'month': 'July', 'visitors': '0'}, {'district': 'Mahabubabad', 'month': 'August', 'visitors': '0'}, {'district': 'Mahabubabad', 'month': 'September', 'visitors': '0'}, {'district': 'Mahabubabad', 'month': 'October', 'visitors': '0'}, {'district': 'Mahabubabad', 'month': 'November', 'visitors': '0'}, {'district': 'Mahabubabad', 'month': 'December', 'visitors': '0'}, {'district': 'Mahbubnagar', 'month': 'January', 'visitors': '45'}, {'district': 'Mahbubnagar', 'month': 'February', 'visitors': '29'}, {'district': 'Mahbubnagar', 'month': 'March', 'visitors': '0'}, {'district': 'Mahbubnagar', 'month': 'April', 'visitors': '0'}, {'district': 'Mahbubnagar', 'month': 'May', 'visitors': '0'}, {'district': 'Mahbubnagar', 'month': 'June', 'visitors': '0'}, {'district': 'Mahbubnagar', 'month': 'July', 'visitors': '0'}, {'district': 'Mahbubnagar', 'month': 'August', 'visitors': '0'}, {'district': 'Mahbubnagar', 'month': 'September', 'visitors': '0'}, {'district': 'Mahbubnagar', 'month': 'October', 'visitors': '0'}, {'district': 'Mahbubnagar', 'month': 'November', 'visitors': '0'}, {'district': 'Mahbubnagar', 'month': 'December', 'visitors': '0'}, {'district': 'Mancherial', 'month': 'January', 'visitors': '0'}, {'district': 'Mancherial', 'month': 'February', 'visitors': '0'}, {'district': 'Mancherial', 'month': 'March', 'visitors': '0'}, {'district': 'Mancherial', 'month': 'April', 'visitors': '0'}, {'district': 'Mancherial', 'month': 'May', 'visitors': '0'}, {'district': 'Mancherial', 'month': 'June', 'visitors': '0'}, {'district': 'Mancherial', 'month': 'July', 'visitors': '0'}, {'district': 'Mancherial', 'month': 'August', 'visitors': '0'}, {'district': 'Mancherial', 'month': 'September', 'visitors': '0'}, {'district': 'Mancherial', 'month': 'October', 'visitors': '0'}, {'district': 'Mancherial', 'month': 'November', 'visitors': '0'}, {'district': 'Mancherial', 'month': 'December', 'visitors': '0'}, {'district': 'Medak', 'month': 'January', 'visitors': '0'}, {'district': 'Medak', 'month': 'February', 'visitors': '0'}, {'district': 'Medak', 'month': 'March', 'visitors': '0'}, {'district': 'Medak', 'month': 'April', 'visitors': '0'}, {'district': 'Medak', 'month': 'May', 'visitors': '0'}, {'district': 'Medak', 'month': 'June', 'visitors': '0'}, {'district': 'Medak', 'month': 'July', 'visitors': '0'}, {'district': 'Medak', 'month': 'August', 'visitors': '0'}, {'district': 'Medak', 'month': 'September', 'visitors': '0'}, {'district': 'Medak', 'month': 'October', 'visitors': '0'}, {'district': 'Medak', 'month': 'November', 'visitors': '0'}, {'district': 'Medak', 'month': 'December', 'visitors': '0'}, {'district': 'Medchal', 'month': 'January', 'visitors': ''}, {'district': 'Medchal', 'month': 'February', 'visitors': ''}, {'district': 'Medchal', 'month': 'March', 'visitors': ''}, {'district': 'Medchal', 'month': 'April', 'visitors': ''}, {'district': 'Medchal', 'month': 'May', 'visitors': ''}, {'district': 'Medchal', 'month': 'June', 'visitors': ''}, {'district': 'Medchal', 'month': 'July', 'visitors': ''}, {'district': 'Medchal', 'month': 'August', 'visitors': ''}, {'district': 'Medchal', 'month': 'September', 'visitors': ''}, {'district': 'Medchal', 'month': 'October', 'visitors': ''}, {'district': 'Medchal', 'month': 'November', 'visitors': ''}, {'district': 'Medchal', 'month': 'December', 'visitors': ''}, {'district': 'Mulugu', 'month': 'January', 'visitors': '70'}, {'district': 'Mulugu', 'month': 'February', 'visitors': '60'}, {'district': 'Mulugu', 'month': 'March', 'visitors': '15'}, {'district': 'Mulugu', 'month': 'April', 'visitors': '0'}, {'district': 'Mulugu', 'month': 'May', 'visitors': '0'}, {'district': 'Mulugu', 'month': 'June', 'visitors': '0'}, {'district': 'Mulugu', 'month': 'July', 'visitors': '0'}, {'district': 'Mulugu', 'month': 'August', 'visitors': '0'}, {'district': 'Mulugu', 'month': 'September', 'visitors': '0'}, {'district': 'Mulugu', 'month': 'October', 'visitors': '0'}, {'district': 'Mulugu', 'month': 'November', 'visitors': '0'}, {'district': 'Mulugu', 'month': 'December', 'visitors': '0'}, {'district': 'Nagarkurnool', 'month': 'January', 'visitors': '35'}, {'district': 'Nagarkurnool', 'month': 'February', 'visitors': '15'}, {'district': 'Nagarkurnool', 'month': 'March', 'visitors': '0'}, {'district': 'Nagarkurnool', 'month': 'April', 'visitors': '0'}, {'district': 'Nagarkurnool', 'month': 'May', 'visitors': '0'}, {'district': 'Nagarkurnool', 'month': 'June', 'visitors': '0'}, {'district': 'Nagarkurnool', 'month': 'July', 'visitors': '0'}, {'district': 'Nagarkurnool', 'month': 'August', 'visitors': '0'}, {'district': 'Nagarkurnool', 'month': 'September', 'visitors': '0'}, {'district': 'Nagarkurnool', 'month': 'October', 'visitors': '0'}, {'district': 'Nagarkurnool', 'month': 'November', 'visitors': '0'}, {'district': 'Nagarkurnool', 'month': 'December', 'visitors': '0'}, {'district': 'Nalgonda', 'month': 'January', 'visitors': '0'}, {'district': 'Nalgonda', 'month': 'February', 'visitors': '0'}, {'district': 'Nalgonda', 'month': 'March', 'visitors': '0'}, {'district': 'Nalgonda', 'month': 'April', 'visitors': '0'}, {'district': 'Nalgonda', 'month': 'May', 'visitors': '0'}, {'district': 'Nalgonda', 'month': 'June', 'visitors': '0'}, {'district': 'Nalgonda', 'month': 'July', 'visitors': '0'}, {'district': 'Nalgonda', 'month': 'August', 'visitors': '0'}, {'district': 'Nalgonda', 'month': 'September', 'visitors': '0'}, {'district': 'Nalgonda', 'month': 'October', 'visitors': '0'}, {'district': 'Nalgonda', 'month': 'November', 'visitors': '0'}, {'district': 'Nalgonda', 'month': 'December', 'visitors': '0'}, {'district': 'Narayanpet', 'month': 'January', 'visitors': '0'}, {'district': 'Narayanpet', 'month': 'February', 'visitors': '0'}, {'district': 'Narayanpet', 'month': 'March', 'visitors': '0'}, {'district': 'Narayanpet', 'month': 'April', 'visitors': '0'}, {'district': 'Narayanpet', 'month': 'May', 'visitors': '0'}, {'district': 'Narayanpet', 'month': 'June', 'visitors': '0'}, {'district': 'Narayanpet', 'month': 'July', 'visitors': '0'}, {'district': 'Narayanpet', 'month': 'August', 'visitors': '0'}, {'district': 'Narayanpet', 'month': 'September', 'visitors': '0'}, {'district': 'Narayanpet', 'month': 'October', 'visitors': '0'}, {'district': 'Narayanpet', 'month': 'November', 'visitors': '0'}, {'district': 'Narayanpet', 'month': 'December', 'visitors': '0'}, {'district': 'Nirmal', 'month': 'January', 'visitors': '0'}, {'district': 'Nirmal', 'month': 'February', 'visitors': '0'}, {'district': 'Nirmal', 'month': 'March', 'visitors': '0'}, {'district': 'Nirmal', 'month': 'April', 'visitors': '0'}, {'district': 'Nirmal', 'month': 'May', 'visitors': '0'}, {'district': 'Nirmal', 'month': 'June', 'visitors': '0'}, {'district': 'Nirmal', 'month': 'July', 'visitors': '0'}, {'district': 'Nirmal', 'month': 'August', 'visitors': '0'}, {'district': 'Nirmal', 'month': 'September', 'visitors': '0'}, {'district': 'Nirmal', 'month': 'October', 'visitors': '0'}, {'district': 'Nirmal', 'month': 'November', 'visitors': '0'}, {'district': 'Nirmal', 'month': 'December', 'visitors': '0'}, {'district': 'Nizamabad', 'month': 'January', 'visitors': '0'}, {'district': 'Nizamabad', 'month': 'February', 'visitors': '0'}, {'district': 'Nizamabad', 'month': 'March', 'visitors': '0'}, {'district': 'Nizamabad', 'month': 'April', 'visitors': '0'}, {'district': 'Nizamabad', 'month': 'May', 'visitors': '0'}, {'district': 'Nizamabad', 'month': 'June', 'visitors': '0'}, {'district': 'Nizamabad', 'month': 'July', 'visitors': '0'}, {'district': 'Nizamabad', 'month': 'August', 'visitors': '0'}, {'district': 'Nizamabad', 'month': 'September', 'visitors': '0'}, {'district': 'Nizamabad', 'month': 'October', 'visitors': '0'}, {'district': 'Nizamabad', 'month': 'November', 'visitors': '0'}, {'district': 'Nizamabad', 'month': 'December', 'visitors': '0'}, {'district': 'Peddapalli', 'month': 'January', 'visitors': '0'}, {'district': 'Peddapalli', 'month': 'February', 'visitors': '0'}, {'district': 'Peddapalli', 'month': 'March', 'visitors': '0'}, {'district': 'Peddapalli', 'month': 'April', 'visitors': '0'}, {'district': 'Peddapalli', 'month': 'May', 'visitors': '0'}, {'district': 'Peddapalli', 'month': 'June', 'visitors': '0'}, {'district': 'Peddapalli', 'month': 'July', 'visitors': '0'}, {'district': 'Peddapalli', 'month': 'August', 'visitors': '0'}, {'district': 'Peddapalli', 'month': 'September', 'visitors': '0'}, {'district': 'Peddapalli', 'month': 'October', 'visitors': '0'}, {'district': 'Peddapalli', 'month': 'November', 'visitors': '0'}, {'district': 'Peddapalli', 'month': 'December', 'visitors': '0'}, {'district': 'Rajanna Sircilla', 'month': 'January', 'visitors': '0'}, {'district': 'Rajanna Sircilla', 'month': 'February', 'visitors': '0'}, {'district': 'Rajanna Sircilla', 'month': 'March', 'visitors': '0'}, {'district': 'Rajanna Sircilla', 'month': 'April', 'visitors': '0'}, {'district': 'Rajanna Sircilla', 'month': 'May', 'visitors': '0'}, {'district': 'Rajanna Sircilla', 'month': 'June', 'visitors': '0'}, {'district': 'Rajanna Sircilla', 'month': 'July', 'visitors': '0'}, {'district': 'Rajanna Sircilla', 'month': 'August', 'visitors': '0'}, {'district': 'Rajanna Sircilla', 'month': 'September', 'visitors': '0'}, {'district': 'Rajanna Sircilla', 'month': 'October', 'visitors': '0'}, {'district': 'Rajanna Sircilla', 'month': 'November', 'visitors': '0'}, {'district': 'Rajanna Sircilla', 'month': 'December', 'visitors': '0'}, {'district': 'Ranga Reddy', 'month': 'January', 'visitors': ''}, {'district': 'Ranga Reddy', 'month': 'February', 'visitors': ''}, {'district': 'Ranga Reddy', 'month': 'March', 'visitors': ''}, {'district': 'Ranga Reddy', 'month': 'April', 'visitors': ''}, {'district': 'Ranga Reddy', 'month': 'May', 'visitors': ''}, {'district': 'Ranga Reddy', 'month': 'June', 'visitors': ''}, {'district': 'Ranga Reddy', 'month': 'July', 'visitors': ''}, {'district': 'Ranga Reddy', 'month': 'August', 'visitors': ''}, {'district': 'Ranga Reddy', 'month': 'September', 'visitors': ''}, {'district': 'Ranga Reddy', 'month': 'October', 'visitors': ''}, {'district': 'Ranga Reddy', 'month': 'November', 'visitors': ''}, {'district': 'Ranga Reddy', 'month': 'December', 'visitors': ''}, {'district': 'Sangareddy', 'month': 'January', 'visitors': '0'}, {'district': 'Sangareddy', 'month': 'February', 'visitors': '0'}, {'district': 'Sangareddy', 'month': 'March', 'visitors': '0'}, {'district': 'Sangareddy', 'month': 'April', 'visitors': '0'}, {'district': 'Sangareddy', 'month': 'May', 'visitors': '0'}, {'district': 'Sangareddy', 'month': 'June', 'visitors': '0'}, {'district': 'Sangareddy', 'month': 'July', 'visitors': '0'}, {'district': 'Sangareddy', 'month': 'August', 'visitors': '0'}, {'district': 'Sangareddy', 'month': 'September', 'visitors': '0'}, {'district': 'Sangareddy', 'month': 'October', 'visitors': '0'}, {'district': 'Sangareddy', 'month': 'November', 'visitors': '0'}, {'district': 'Sangareddy', 'month': 'December', 'visitors': '0'}, {'district': 'Siddipet', 'month': 'January', 'visitors': '0'}, {'district': 'Siddipet', 'month': 'February', 'visitors': '0'}, {'district': 'Siddipet', 'month': 'March', 'visitors': '0'}, {'district': 'Siddipet', 'month': 'April', 'visitors': '0'}, {'district': 'Siddipet', 'month': 'May', 'visitors': '0'}, {'district': 'Siddipet', 'month': 'June', 'visitors': '0'}, {'district': 'Siddipet', 'month': 'July', 'visitors': '0'}, {'district': 'Siddipet', 'month': 'August', 'visitors': '0'}, {'district': 'Siddipet', 'month': 'September', 'visitors': '0'}, {'district': 'Siddipet', 'month': 'October', 'visitors': '0'}, {'district': 'Siddipet', 'month': 'November', 'visitors': '0'}, {'district': 'Siddipet', 'month': 'December', 'visitors': '0'}, {'district': 'Suryapet', 'month': 'January', 'visitors': '0'}, {'district': 'Suryapet', 'month': 'February', 'visitors': '0'}, {'district': 'Suryapet', 'month': 'March', 'visitors': '0'}, {'district': 'Suryapet', 'month': 'April', 'visitors': '0'}, {'district': 'Suryapet', 'month': 'May', 'visitors': '0'}, {'district': 'Suryapet', 'month': 'June', 'visitors': '0'}, {'district': 'Suryapet', 'month': 'July', 'visitors': '0'}, {'district': 'Suryapet', 'month': 'August', 'visitors': '0'}, {'district': 'Suryapet', 'month': 'September', 'visitors': '0'}, {'district': 'Suryapet', 'month': 'October', 'visitors': '0'}, {'district': 'Suryapet', 'month': 'November', 'visitors': '0'}, {'district': 'Suryapet', 'month': 'December', 'visitors': '0'}, {'district': 'Vikarabad', 'month': 'January', 'visitors': ''}, {'district': 'Vikarabad', 'month': 'February', 'visitors': ''}, {'district': 'Vikarabad', 'month': 'March', 'visitors': ''}, {'district': 'Vikarabad', 'month': 'April', 'visitors': ''}, {'district': 'Vikarabad', 'month': 'May', 'visitors': ''}, {'district': 'Vikarabad', 'month': 'June', 'visitors': ''}, {'district': 'Vikarabad', 'month': 'July', 'visitors': ''}, {'district': 'Vikarabad', 'month': 'August', 'visitors': ''}, {'district': 'Vikarabad', 'month': 'September', 'visitors': ''}, {'district': 'Vikarabad', 'month': 'October', 'visitors': ''}, {'district': 'Vikarabad', 'month': 'November', 'visitors': ''}, {'district': 'Vikarabad', 'month': 'December', 'visitors': ''}, {'district': 'Wanaparthy', 'month': 'January', 'visitors': '0'}, {'district': 'Wanaparthy', 'month': 'February', 'visitors': '0'}, {'district': 'Wanaparthy', 'month': 'March', 'visitors': '0'}, {'district': 'Wanaparthy', 'month': 'April', 'visitors': '0'}, {'district': 'Wanaparthy', 'month': 'May', 'visitors': '0'}, {'district': 'Wanaparthy', 'month': 'June', 'visitors': '0'}, {'district': 'Wanaparthy', 'month': 'July', 'visitors': '0'}, {'district': 'Wanaparthy', 'month': 'August', 'visitors': '0'}, {'district': 'Wanaparthy', 'month': 'September', 'visitors': '0'}, {'district': 'Wanaparthy', 'month': 'October', 'visitors': '0'}, {'district': 'Wanaparthy', 'month': 'November', 'visitors': '0'}, {'district': 'Wanaparthy', 'month': 'December', 'visitors': '0'}, {'district': 'Warangal (Rural)', 'month': 'January', 'visitors': '0'}, {'district': 'Warangal (Rural)', 'month': 'February', 'visitors': '0'}, {'district': 'Warangal (Rural)', 'month': 'March', 'visitors': '0'}, {'district': 'Warangal (Rural)', 'month': 'April', 'visitors': '0'}, {'district': 'Warangal (Rural)', 'month': 'May', 'visitors': '0'}, {'district': 'Warangal (Rural)', 'month': 'June', 'visitors': '0'}, {'district': 'Warangal (Rural)', 'month': 'July', 'visitors': '0'}, {'district': 'Warangal (Rural)', 'month': 'August', 'visitors': '0'}, {'district': 'Warangal (Rural)', 'month': 'September', 'visitors': '0'}, {'district': 'Warangal (Rural)', 'month': 'October', 'visitors': '0'}, {'district': 'Warangal (Rural)', 'month': 'November', 'visitors': '0'}, {'district': 'Warangal (Rural)', 'month': 'December', 'visitors': '0'}, {'district': 'Warangal (Urban)', 'month': 'January', 'visitors': '225'}, {'district': 'Warangal (Urban)', 'month': 'February', 'visitors': '225'}, {'district': 'Warangal (Urban)', 'month': 'March', 'visitors': '80'}, {'district': 'Warangal (Urban)', 'month': 'April', 'visitors': '0'}, {'district': 'Warangal (Urban)', 'month': 'May', 'visitors': '0'}, {'district': 'Warangal (Urban)', 'month': 'June', 'visitors': '0'}, {'district': 'Warangal (Urban)', 'month': 'July', 'visitors': '0'}, {'district': 'Warangal (Urban)', 'month': 'August', 'visitors': '0'}, {'district': 'Warangal (Urban)', 'month': 'September', 'visitors': '0'}, {'district': 'Warangal (Urban)', 'month': 'October', 'visitors': '0'}, {'district': 'Warangal (Urban)', 'month': 'November', 'visitors': '0'}, {'district': 'Warangal (Urban)', 'month': 'December', 'visitors': '0'}, {'district': 'Yadadri Bhongir', 'month': 'January', 'visitors': '0'}, {'district': 'Yadadri Bhongir', 'month': 'February', 'visitors': '0'}, {'district': 'Yadadri Bhongir', 'month': 'March', 'visitors': '0'}, {'district': 'Yadadri Bhongir', 'month': 'April', 'visitors': '0'}, {'district': 'Yadadri Bhongir', 'month': 'May', 'visitors': '0'}, {'district': 'Yadadri Bhongir', 'month': 'June', 'visitors': '0'}, {'district': 'Yadadri Bhongir', 'month': 'July', 'visitors': '0'}, {'district': 'Yadadri Bhongir', 'month': 'August', 'visitors': '0'}, {'district': 'Yadadri Bhongir', 'month': 'September', 'visitors': '0'}, {'district': 'Yadadri Bhongir', 'month': 'October', 'visitors': '0'}, {'district': 'Yadadri Bhongir', 'month': 'November', 'visitors': '0'}, {'district': 'Yadadri Bhongir', 'month': 'December', 'visitors': '0'}], 'count': 396, 'schema': {'bb154544-cc8d-5783-b768-3524454e2fde': {'fields': {'district': {'type': 'text', 'mysql_type': 'text', 'description': 'District'}, 'month': {'type': 'text', 'mysql_type': 'text', 'description': 'Month'}, 'visitors': {'type': 'text', 'mysql_type': 'text', 'description': 'Visitors'}}}}, 'query': {'count': True, 'results': True, 'schema': True, 'keys': True, 'format': 'json', 'resources': [{'id': 'bb154544-cc8d-5783-b768-3524454e2fde', 'alias': 't'}], 'limit': 500, 'offset': 0, 'rowIds': False, 'properties': ['district', 'month', 'visitors']}}\n",
      "Data for 2020 has been exported to Foreign_Visitors\\Telangana_Foreign_Visitors_2020.csv\n"
     ]
    }
   ],
   "source": [
    "\n",
    "# Ignore the SSL warning using urllib3\n",
    "urllib3.disable_warnings()\n",
    "# # Disable SSL certificate verification (not recommended for production use)\n",
    "\n",
    "# Years range for which we want to fetch data\n",
    "years = range(2014, 2021)  # 2014 to 2020\n",
    "\n",
    "# Define the base API URL without the year-specific part\n",
    "base_api_url = \"https://data.telangana.gov.in/api/1/datastore/query/\"\n",
    "\n",
    "# Define the API endpoint for each year\n",
    "api_endpoints = {\n",
    "    2014: \"0ad02868-a90d-5a67-9665-87957d17e31b\",\n",
    "    2015: \"016b14b6-b8b7-574e-8a1b-8ac1117406d9\",\n",
    "    2016: \"656e948e-2714-5e0c-8951-c0a96b494905\",\n",
    "    2017: \"a3d95bfa-cf37-5418-9609-a1c812e4b995\",\n",
    "    2018: \"37eea480-c7fa-5eed-a574-d2d25bb68d1e\",\n",
    "    2019: \"edf764f7-ad23-5442-8001-9d12f1692b0a\",\n",
    "    2020: \"bb154544-cc8d-5783-b768-3524454e2fde\"\n",
    "}\n",
    "\n",
    "# Folder where we want to save the CSV files\n",
    "output_folder = \"Foreign_Visitors\"\n",
    "\n",
    "# Create the folder if it doesn't exist\n",
    "if not os.path.exists(output_folder):\n",
    "    os.makedirs(output_folder)\n",
    "\n",
    "# Iterate through each year and fetch data\n",
    "for year in years:\n",
    "    endpoint = api_endpoints.get(year)\n",
    "    url = f\"{base_api_url}{endpoint}?count=true&results=true&schema=true&keys=true&format=json\"\n",
    "\n",
    "    try:\n",
    "        # Send a GET request to the API\n",
    "        response = requests.get(url, verify=False)\n",
    "\n",
    "        # Check if the response status code is 200 (OK)\n",
    "        if response.status_code == 200:\n",
    "            data = response.json()\n",
    "            print(data)\n",
    "            # Get the 'results' key from the data\n",
    "            results = data.get('results', [])\n",
    "\n",
    "            # Check if data exists for the year\n",
    "            if results:\n",
    "                # Convert data to a DataFrame\n",
    "                df = pd.DataFrame(results)\n",
    "\n",
    "                # Define the CSV filename using the year\n",
    "                csv_filename = os.path.join(output_folder, f'Telangana_Foreign_Visitors_{year}.csv')\n",
    "\n",
    "                # Export DataFrame to a CSV file\n",
    "                #df.to_csv(csv_filename, index=False)\n",
    "\n",
    "                print(f\"Data for {year} has been exported to {csv_filename}\")\n",
    "            else:\n",
    "                print(f\"No data found for {year}.\")\n",
    "        else:\n",
    "            print(f\"Failed to retrieve data for {year}. Status Code: {response.status_code}\")\n",
    "    except Exception as e:\n",
    "        print(f\" Uhh! An error occurred while fetching data for {year}: {e}\")\n"
   ]
  },
  {
   "cell_type": "markdown",
   "metadata": {},
   "source": [
    "## Let's Do Some Analysis"
   ]
  },
  {
   "cell_type": "markdown",
   "metadata": {},
   "source": [
    "###  Average Tariff Analysis by Room Type"
   ]
  },
  {
   "cell_type": "code",
   "execution_count": 213,
   "metadata": {},
   "outputs": [
    {
     "name": "stdout",
     "output_type": "stream",
     "text": [
      "                                      sunday_tariff  monday_tariff  \\\n",
      "room_type                                                            \n",
      "A/C 4 BEDDED ROOM                       1450.000000    1450.000000   \n",
      "A/C DELUXE                              2245.000000    1870.000000   \n",
      "A/C DELUXE (NEW)                        1800.000000    1500.000000   \n",
      "A/C DORMITORY 5 BEDDED                  1680.000000    1680.000000   \n",
      "A/C Glass Room (Island)                 3000.000000    3000.000000   \n",
      "A/C Lake View                           2000.000000    2000.000000   \n",
      "A/C ROOM                                1449.000000    1395.388889   \n",
      "A/C ROOM (OLD)                          1200.000000    1100.000000   \n",
      "A/C STANDARD                            2139.500000    1789.500000   \n",
      "A/C SUITE                               2764.444444    2506.666667   \n",
      "CONFERENCE HALL                         1000.000000    1000.000000   \n",
      "DORMITORY TWO BEDDED (OLD)               500.000000     500.000000   \n",
      "GLASS COTTAGES                          1340.000000    1200.000000   \n",
      "NEW COTTAGES A/C ROOMS                  2000.000000    1800.000000   \n",
      "NEW NON A/C DORMITORY(4 BEDDED) ROOM    2016.000000    2016.000000   \n",
      "NEW NON A/C ROOMS                       1200.000000     999.000000   \n",
      "NON A/C 3 BEDDED ROOM                    850.000000     850.000000   \n",
      "NON A/C 4 BEDDED ROOM                   1367.500000    1367.500000   \n",
      "NON A/C COTTAGES                        1050.000000     950.000000   \n",
      "NON A/C DELUXE                           700.000000     700.000000   \n",
      "NON A/C DORMITORY                       1024.500000    1024.500000   \n",
      "NON A/C DORMITORY 4 BEDDED               750.000000     750.000000   \n",
      "NON A/C DORMITORY 5 BEDDED              1000.000000    1000.000000   \n",
      "NON A/C DORMITORY 6 BEDDED              1800.000000    1600.000000   \n",
      "NON A/C DORMITORY(BASEMENT)             1600.000000    1600.000000   \n",
      "NON A/C ROOM                             982.666667     946.133333   \n",
      "NON A/C ROOM  (OLD)                      824.500000     749.500000   \n",
      "NON A/C ROOM 2 BEDDED                   1070.000000    1070.000000   \n",
      "NON AC DORMITORY 5 BEDDED(BASEMENT)     1000.000000    1000.000000   \n",
      "TENTED COTTAGES                         1160.000000     999.000000   \n",
      "\n",
      "                                      tuesday_tariff  wednesday_tariff  \\\n",
      "room_type                                                                \n",
      "A/C 4 BEDDED ROOM                        1450.000000       1450.000000   \n",
      "A/C DELUXE                               1870.000000       1870.000000   \n",
      "A/C DELUXE (NEW)                         1500.000000       1500.000000   \n",
      "A/C DORMITORY 5 BEDDED                   1680.000000       1680.000000   \n",
      "A/C Glass Room (Island)                  3000.000000       3000.000000   \n",
      "A/C Lake View                            2000.000000       2000.000000   \n",
      "A/C ROOM                                 1395.388889       1395.388889   \n",
      "A/C ROOM (OLD)                           1100.000000       1100.000000   \n",
      "A/C STANDARD                             1789.500000       1789.500000   \n",
      "A/C SUITE                                2506.666667       2506.666667   \n",
      "CONFERENCE HALL                          1000.000000       1000.000000   \n",
      "DORMITORY TWO BEDDED (OLD)                500.000000        500.000000   \n",
      "GLASS COTTAGES                           1200.000000       1200.000000   \n",
      "NEW COTTAGES A/C ROOMS                   1800.000000       1800.000000   \n",
      "NEW NON A/C DORMITORY(4 BEDDED) ROOM     2016.000000       2016.000000   \n",
      "NEW NON A/C ROOMS                         999.000000        999.000000   \n",
      "NON A/C 3 BEDDED ROOM                     850.000000        850.000000   \n",
      "NON A/C 4 BEDDED ROOM                    1367.500000       1367.500000   \n",
      "NON A/C COTTAGES                          950.000000        950.000000   \n",
      "NON A/C DELUXE                            700.000000        700.000000   \n",
      "NON A/C DORMITORY                        1024.500000       1024.500000   \n",
      "NON A/C DORMITORY 4 BEDDED                750.000000        750.000000   \n",
      "NON A/C DORMITORY 5 BEDDED               1000.000000       1000.000000   \n",
      "NON A/C DORMITORY 6 BEDDED               1600.000000       1600.000000   \n",
      "NON A/C DORMITORY(BASEMENT)              1600.000000       1600.000000   \n",
      "NON A/C ROOM                              946.133333        946.133333   \n",
      "NON A/C ROOM  (OLD)                       749.500000        749.500000   \n",
      "NON A/C ROOM 2 BEDDED                    1070.000000       1070.000000   \n",
      "NON AC DORMITORY 5 BEDDED(BASEMENT)      1000.000000       1000.000000   \n",
      "TENTED COTTAGES                           999.000000        999.000000   \n",
      "\n",
      "                                      thursday_tariff  friday_tariff  \\\n",
      "room_type                                                              \n",
      "A/C 4 BEDDED ROOM                         1450.000000    1450.000000   \n",
      "A/C DELUXE                                1870.000000    2245.000000   \n",
      "A/C DELUXE (NEW)                          1500.000000    1800.000000   \n",
      "A/C DORMITORY 5 BEDDED                    1680.000000    1680.000000   \n",
      "A/C Glass Room (Island)                   3000.000000    3000.000000   \n",
      "A/C Lake View                             2000.000000    2000.000000   \n",
      "A/C ROOM                                  1395.388889    1449.000000   \n",
      "A/C ROOM (OLD)                            1100.000000    1200.000000   \n",
      "A/C STANDARD                              1789.500000    2139.500000   \n",
      "A/C SUITE                                 2506.666667    2764.444444   \n",
      "CONFERENCE HALL                           1000.000000    1000.000000   \n",
      "DORMITORY TWO BEDDED (OLD)                 500.000000     500.000000   \n",
      "GLASS COTTAGES                            1200.000000    1340.000000   \n",
      "NEW COTTAGES A/C ROOMS                    1800.000000    2000.000000   \n",
      "NEW NON A/C DORMITORY(4 BEDDED) ROOM      2016.000000    2016.000000   \n",
      "NEW NON A/C ROOMS                          999.000000    1200.000000   \n",
      "NON A/C 3 BEDDED ROOM                      850.000000     850.000000   \n",
      "NON A/C 4 BEDDED ROOM                     1367.500000    1367.500000   \n",
      "NON A/C COTTAGES                           950.000000    1050.000000   \n",
      "NON A/C DELUXE                             700.000000     700.000000   \n",
      "NON A/C DORMITORY                         1024.500000    1024.500000   \n",
      "NON A/C DORMITORY 4 BEDDED                 750.000000     750.000000   \n",
      "NON A/C DORMITORY 5 BEDDED                1000.000000    1000.000000   \n",
      "NON A/C DORMITORY 6 BEDDED                1600.000000    1800.000000   \n",
      "NON A/C DORMITORY(BASEMENT)               1600.000000    1600.000000   \n",
      "NON A/C ROOM                               946.133333     982.666667   \n",
      "NON A/C ROOM  (OLD)                        749.500000     824.500000   \n",
      "NON A/C ROOM 2 BEDDED                     1070.000000    1070.000000   \n",
      "NON AC DORMITORY 5 BEDDED(BASEMENT)       1000.000000    1000.000000   \n",
      "TENTED COTTAGES                            999.000000    1160.000000   \n",
      "\n",
      "                                      saturday_tariff  \n",
      "room_type                                              \n",
      "A/C 4 BEDDED ROOM                         1450.000000  \n",
      "A/C DELUXE                                2245.000000  \n",
      "A/C DELUXE (NEW)                          1800.000000  \n",
      "A/C DORMITORY 5 BEDDED                    1680.000000  \n",
      "A/C Glass Room (Island)                   3000.000000  \n",
      "A/C Lake View                             2000.000000  \n",
      "A/C ROOM                                  1449.000000  \n",
      "A/C ROOM (OLD)                            1200.000000  \n",
      "A/C STANDARD                              2139.500000  \n",
      "A/C SUITE                                 2764.444444  \n",
      "CONFERENCE HALL                           1000.000000  \n",
      "DORMITORY TWO BEDDED (OLD)                 500.000000  \n",
      "GLASS COTTAGES                            1340.000000  \n",
      "NEW COTTAGES A/C ROOMS                    2000.000000  \n",
      "NEW NON A/C DORMITORY(4 BEDDED) ROOM      2016.000000  \n",
      "NEW NON A/C ROOMS                         1200.000000  \n",
      "NON A/C 3 BEDDED ROOM                      850.000000  \n",
      "NON A/C 4 BEDDED ROOM                     1367.500000  \n",
      "NON A/C COTTAGES                          1050.000000  \n",
      "NON A/C DELUXE                             700.000000  \n",
      "NON A/C DORMITORY                         1024.500000  \n",
      "NON A/C DORMITORY 4 BEDDED                 750.000000  \n",
      "NON A/C DORMITORY 5 BEDDED                1000.000000  \n",
      "NON A/C DORMITORY 6 BEDDED                1800.000000  \n",
      "NON A/C DORMITORY(BASEMENT)               1600.000000  \n",
      "NON A/C ROOM                               982.666667  \n",
      "NON A/C ROOM  (OLD)                        824.500000  \n",
      "NON A/C ROOM 2 BEDDED                     1070.000000  \n",
      "NON AC DORMITORY 5 BEDDED(BASEMENT)       1000.000000  \n",
      "TENTED COTTAGES                           1160.000000  \n"
     ]
    }
   ],
   "source": [
    "try: \n",
    "    # Load the CSV data into a DataFrame\n",
    "        data = pd.read_csv(\"Telangana_Hotels_Tariff.csv\")\n",
    "\n",
    "        # Display the first few rows of the DataFrame to verify the column names\n",
    "        #print(data.head())\n",
    "\n",
    "        # Check if the \"room_type\" column exists in the DataFrame\n",
    "        if \"room_type\" in data.columns:\n",
    "            # Calculate the average tariff for each room type\n",
    "            columns_to_average = [\"sunday_tariff\", \"monday_tariff\", \"tuesday_tariff\",\n",
    "                                \"wednesday_tariff\", \"thursday_tariff\", \"friday_tariff\", \"saturday_tariff\"]\n",
    "            \n",
    "            average_tariff_by_type = data.groupby(\"room_type\")[columns_to_average].mean()\n",
    "            \n",
    "            #print(average_tariff_by_type)\n",
    "        else:\n",
    "            print(\"Column 'room_type' not found in the dataset.\")\n",
    "\n",
    "        # Convert the data to a data frame\n",
    "        df = pd.DataFrame(average_tariff_by_type)\n",
    "        print(df)\n",
    "\n",
    "        # Export the data to a CSV file\n",
    "        #df.to_csv(\"Average_Tariff_By_Type.csv\")\n",
    "except Exception as e:\n",
    "        print(\"Uhh! An Error Occurred:\", e)"
   ]
  },
  {
   "cell_type": "markdown",
   "metadata": {},
   "source": [
    "#### We can gain some Insights from the above \n",
    "\n",
    "On Fridays and Saturdays, the rates for \"A/C DELUXE\" and \"A/C SUITE\" are higher. This could mean that these premium room categories are in high demand on weekends.<br />\n",
    "Room categories such as \"A/C DORMITORY 5 BEDDED\" and \"NON A/C DORMITORY 4 BEDDED,\" among others, have the same daily rate, implying that they are targeted towards group stays."
   ]
  },
  {
   "cell_type": "markdown",
   "metadata": {},
   "source": [
    "#### Let's Create Average Tariff Price csv file for analysis"
   ]
  },
  {
   "cell_type": "code",
   "execution_count": 214,
   "metadata": {},
   "outputs": [],
   "source": [
    "try: \n",
    "    # Load the dataset\n",
    "    data = pd.read_csv(\"Telangana_Hotels_Tariff.csv\")\n",
    "\n",
    "    # Calculate the average tariff for each room type\n",
    "    columns_to_average = [\"sunday_tariff\", \"monday_tariff\", \"tuesday_tariff\",\n",
    "                        \"wednesday_tariff\", \"thursday_tariff\", \"friday_tariff\", \"saturday_tariff\"]\n",
    "    average_tariff_by_type = data.groupby(\"room_type\")[columns_to_average].mean()\n",
    "\n",
    "    # Calculate the overall average tariff for each room type\n",
    "    average_tariff_by_type[\"Average_Tariff\"] = average_tariff_by_type.mean(axis=1)\n",
    "\n",
    "    # Sort room types by average tariff in descending order\n",
    "    average_tariff = average_tariff_by_type.sort_values(by=\"Average_Tariff\", ascending=False)\n",
    "\n",
    "    ## Display the inferred preferences based on higher average tariffs\n",
    "    #print(\"Inferred Room Type Preferences based on Average Tariffs:\")\n",
    "    #print(sorted_room_preferences[[\"Average_Tariff\"]])\n",
    "\n",
    "    # Convert the data to a data frame\n",
    "    df = pd.DataFrame(average_tariff)\n",
    "    #print(df)\n",
    "    ## Export the data to a CSV file\n",
    "    # df.to_csv(\"Average_Tariff.csv\")\n",
    "    \n",
    "except Exception as e:\n",
    "    print(\"Uhh! An Error Occurred:\", e)"
   ]
  },
  {
   "cell_type": "markdown",
   "metadata": {},
   "source": [
    "#### Create a bat chart for Average Tariff Price"
   ]
  },
  {
   "cell_type": "code",
   "execution_count": 215,
   "metadata": {},
   "outputs": [
    {
     "data": {
      "image/png": "[encoded data removed]",
      "text/plain": [
       "<Figure size 1500x1000 with 1 Axes>"
      ]
     },
     "metadata": {},
     "output_type": "display_data"
    },
    {
     "name": "stdout",
     "output_type": "stream",
     "text": [
      "Top Room Types based on Average Tariffs:\n",
      "                               room_type  Average_Tariff\n",
      "4                              A/C SUITE         3357.14\n",
      "73                          A/C STANDARD         3328.00\n",
      "40               A/C Glass Room (Island)         3000.00\n",
      "38                            A/C DELUXE         2800.00\n",
      "66  NEW NON A/C DORMITORY(4 BEDDED) ROOM         2016.00\n"
     ]
    }
   ],
   "source": [
    "try:\n",
    "    # Load data into a pandas DataFrame\n",
    "    data = pd.read_csv(\"Telangana_Hotels_Tariff.csv\")  \n",
    "\n",
    "    # Select columns containing tariff values\n",
    "    tariff_columns = [\"sunday_tariff\", \"monday_tariff\", \"tuesday_tariff\",\n",
    "                    \"wednesday_tariff\", \"thursday_tariff\", \"friday_tariff\", \"saturday_tariff\"]\n",
    "\n",
    "    # Calculate average tariffs for each room type\n",
    "    data[\"Average_Tariff\"] = data[tariff_columns].mean(axis=1)\n",
    "    # Calculating the mean(axis=1) helps find the average tariff for each room type across the days of the week\n",
    "\n",
    "    # Rank room types based on average tariffs\n",
    "    room_type_ranking = data.sort_values(by=\"Average_Tariff\", ascending=False)\n",
    "\n",
    "    # Data Visualization using Seaborn\n",
    "    plt.figure(figsize=(15, 10))     # ( Width, Height)\n",
    "    sns.barplot(x=\"room_type\", y=\"Average_Tariff\", data=room_type_ranking, palette=\"Oranges_r\")\n",
    "    plt.title('Room Type Preferences: Average Tariffs')\n",
    "    plt.xlabel('Room Types')\n",
    "    plt.ylabel('Average Tariffs')\n",
    "    plt.xticks(rotation=45, ha='right')  # Rotate x-axis labels for better visibility\n",
    "    #  'ha' adjusts the horizontal alignment of the tick labels on the x-axis to the right side of the ticks\n",
    "\n",
    "    #plt.tight_layout() \n",
    "    ## It ensure that they fit within the figure area nicely\n",
    "    plt.show()\n",
    "\n",
    "    # Display the top 5 room types with highest average tariffs rounded down to 2 places\n",
    "    top_room_types = room_type_ranking.drop_duplicates(subset=[\"room_type\"]).head(5)       # Remove duplicates from the top 5 room types\n",
    "    print(\"Top Room Types based on Average Tariffs:\")\n",
    "    print(top_room_types[[\"room_type\", \"Average_Tariff\"]].round(2))\n",
    "except Exception as e:\n",
    "    print(\"Uhh! An Error Occurred:\", e)"
   ]
  },
  {
   "cell_type": "markdown",
   "metadata": {},
   "source": [
    "#### Insights :\n",
    "1. Room types A/C Suite has highest Tariff shows that customers might be interested in these types of rooms.\n",
    "2. Room types such as \"A/C Glass Room (Island)\"  are likely to offer unique features such as beautiful scenery, resulting in increased demand and, as a result, higher tariffs.<br/>\n",
    "3. One interesting discovery is that the NEW NON A/C DORMITORY(4 BEDDED) ROOM is in the top *FIVE* rooms. This implies that some customers may select less expensive options with shared accommodation, even if they are not air-conditioned."
   ]
  },
  {
   "cell_type": "markdown",
   "metadata": {},
   "source": [
    "#### Map Visual"
   ]
  },
  {
   "cell_type": "code",
   "execution_count": 216,
   "metadata": {},
   "outputs": [],
   "source": [
    "# # With This code, We can create a map of Telangana hotels and save it with .html format.\n",
    "\n",
    "# # Load the CSV file into a DataFrame\n",
    "# data = pd.read_csv(\"Telangana_Hotel_Location.csv\")\n",
    "\n",
    "# # Create a map centered around the coordinates of Telangana\n",
    "# m = folium.Map(location=[17.8749, 78.1006], zoom_start=7)\n",
    "\n",
    "# # Iterate through the rows of the DataFrame and add markers for each hotel\n",
    "# for index, row in data.iterrows():\n",
    "#     hotel_name = row[\"hotel\"]\n",
    "#     city = row[\"city\"]\n",
    "#     address = row[\"address\"]\n",
    "#     lat = row[\"lat\"]  \n",
    "#     lon = row[\"long\"] \n",
    "\n",
    "#     # Create a popup for the marker\n",
    "#     popup = f\"<b>{hotel_name}</b><br>{city}<br>{address}\"\n",
    "\n",
    "#     # Add the marker to the map\n",
    "#     folium.Marker(\n",
    "#         location=[lat, lon],\n",
    "#         popup=popup,\n",
    "#         icon=folium.Icon(icon=\"hotel\")\n",
    "#     ).add_to(m)\n",
    "\n",
    "# # Save the map to an HTML file\n",
    "# m.save(\"hotels_map.html\")\n"
   ]
  },
  {
   "cell_type": "code",
   "execution_count": 217,
   "metadata": {},
   "outputs": [
    {
     "data": {
      "application/vnd.plotly.v1+json": {
       "config": {
        "plotlyServerURL": "https://plot.ly"
       },
       "data": [
        {
         "customdata": [
          [
           "ALAMPUR",
           "Haritha Hotel Alampur,  Alampur, Jogulamba Gadwal District, Telangana"
          ],
          [
           "ALISAGAR",
           "Haritha Hotel Alisagar, Alisagar, Nizambad District, Telangana"
          ],
          [
           "ANANTHAGIRI VIKARABAD",
           "Haritha Hotel Ananthagiri, Ananthagiri Hills, Vikarabad, Telangana"
          ],
          [
           "BASARA",
           "Haritha Hotel Basar, Basar, Nirmal District, Telangana"
          ],
          [
           "BHADRACHALAM",
           "Haritha Hotel Bhadrachalam, Bhadrachalam, Bhadradri Kothagudem District, Telangana"
          ],
          [
           "DHARMAPURI",
           "Haritha Hotel Dharmapuri, Dharmapuri, Jagitial District, Telangana"
          ],
          [
           "EEGALAPENTA(Near Srisailam Dam West)",
           "Near Srisailam Dam West"
          ],
          [
           "GADWAL",
           "Haritha Hotel Gadwal, Gadwal, Jogulamba Gadwal District, Telangana"
          ],
          [
           "KADEM",
           "Haritha Hotel Kadem, Kadem, Nirmal District, Telangana"
          ],
          [
           "NIZAMABAD",
           "Haritha Hotel Indur Inn, Nizamabad, Nizamabad District, Telangana"
          ],
          [
           "JANNARAM",
           "Haritha Hotel Jannaram, Jannaram, Mancherial District, Telangana"
          ],
          [
           "WARANGAL",
           "Haritha Hotel Kakatiya, Nakkalagutta, Hanmakonda, Warangal District, Telangana"
          ],
          [
           "KALESHWARAM",
           "Haritha Hotel Kaleshwaram, Kaleshwaram, Bhupalpally District, Telangana"
          ],
          [
           "KEESARAGUTTA",
           "Haritha Hotel Keesaragutta, Keesaragutta, Medchal - Malkajgiri District, Telangana"
          ],
          [
           "KONDAGATTU",
           "Haritha Hotel Kondagattu, Kondagattu, Jagitial District, Telangana"
          ],
          [
           "KOTHAKONDA",
           "Kothakonda, Warangal Rural"
          ],
          [
           "LAKNAVARAM",
           "Haritha Hotel Laknavaram, Govindarao Pet, Warangal Rural District, Telangana"
          ],
          [
           "MANNANUR",
           "Mannanur, Nagarkurnool Dist"
          ],
          [
           "MEDAK",
           "Haritha Hotel Medak, Medak Fort, Medak District, Telangana"
          ],
          [
           "MEDARAM",
           "Haritha Hotel Medaram, Medaram, Warangal Rural District, Telangana"
          ],
          [
           "PAKAL",
           "Haritha Hotel Pakhala, Pakhala, Warangal Rural District, Telangana"
          ],
          [
           "POCHAMPALLY",
           "Haritha Hotel Pochampally, Pochampally, Yadadri Bhuvanagiri District, Telangana"
          ],
          [
           "RAMMAPPA",
           "Haritha Hotel Ramappa, Ramappa, Warangal Rural District, Telangana"
          ],
          [
           "SHAMIRPET",
           "Haritha Hotel Shamirpet, Shamirpet, Medchal Malkajgiri District, Telangana"
          ],
          [
           "SINGOOR",
           "Haritha Hotel Singoor, Singoor, Sanga Reddy District, Telangana"
          ],
          [
           "SINGOTAM",
           "Singotam, Mahbubnagar"
          ],
          [
           "SOMASILA",
           "Haritha Hotel Somasila, Somasila, Mahabubnagar District, Telangana"
          ],
          [
           "TADVAI",
           "Tadvai, Jayashankar District"
          ],
          [
           "HYDERABAD",
           "Haritha Taramati Baradari, Ibrahimbagh, Gandipet, Hyderabad"
          ],
          [
           "HYDERABAD",
           "The Plaza, Begumpet, Hyderabad"
          ],
          [
           "VEMULAWADA",
           "Haritha Hotel Vemulawada, Vemulawada, Rajanna Siricilla District, Telangana"
          ],
          [
           "NAGARJUNA SAGAR",
           "Haritha Hotel Vijay Vihar, Nagarjunasagar, Nalgonda District, Telangana"
          ],
          [
           "YADAGIRIGUTTA",
           "Haritha Hotel Yadagirigutta, Yadadri Bhuvanagiri District, Telangana"
          ]
         ],
         "hovertemplate": "<b>%{hovertext}</b><br><br>lat=%{lat}<br>long=%{lon}<br>city=%{customdata[0]}<br>address=%{customdata[1]}<extra></extra>",
         "hovertext": [
          "ALAMPUR",
          "ALISAGAR",
          "ANANTHAGIRI VIKARABAD",
          "BASARA,HARITHA HOTEL",
          "BHADRACHALAM,HARITHA HOTEL",
          "DHARMAPURI HARITHA HOTEL",
          "EEGALAPENTA HARITHA HOTEL",
          "GADWAL",
          "HARITHA HOTEL KADEM",
          "INDUR INN",
          "JANNARAM,HARITHA HOTEL",
          "KAKATIYA",
          "KALESHWARAM HARITHA HOTEL",
          "KEESARAGUTTA,HARITHA HOTEL",
          "KONDAGATTU HARITHA HOTEL",
          "KOTHAKONDA HARITHA HOTEL",
          "LAKNAVARAM",
          "MANNANUR HARITHA HOTEL",
          "MEDAK FORT,HARITHA HERITAGE HOTEL",
          "MEDARAM",
          "PAKHALA HARITHA HOTEL",
          "POCHAMPALLY HARITHA HOTEL",
          "RAMAPPA",
          "SHAMIRPET LAKE RESORT",
          "SINGOOR",
          "SINGOTAM HARITHA HOTEL",
          "SOMASILA HARITHA HOTEL",
          "TADVAI HARITHA HOTEL",
          "TARAMATI BARADARI,HARITHA,IBHRAHIMBAGH,HYDERABAD",
          "THE PLAZA",
          "VEMULAWADA HARITHA HOTEL",
          "VIJAY VIHAR,NAGRJUNSAGAR",
          "YADAGIRIGUTTA,NALGONDA,HARITHA HOTEL"
         ],
         "lat": [
          15.8798959,
          18.6760051,
          17.3117741,
          18.8795107,
          17.671396,
          18.946652,
          16.09154704,
          16.2164079,
          19.100829,
          18.6770866,
          19.116908,
          17.9986665,
          18.80545417,
          17.5299982,
          18.6777447,
          18.0390794,
          17.998667,
          16.36119266,
          18.044368,
          18.32223978,
          17.95102649,
          16.9011059,
          18.252698,
          17.6008704,
          17.733582,
          16.0470392,
          16.0470392,
          18.23819148,
          17.375459,
          17.4451145,
          18.4585121,
          16.610465,
          17.5924099
         ],
         "legendgroup": "",
         "lon": [
          78.126955,
          78.0111574,
          77.875494,
          77.9562862,
          80.888053,
          79.101702,
          78.89260776,
          77.8192031,
          78.778184,
          78.102467,
          78.99899542,
          79.5552418,
          79.90502022,
          78.6880909,
          78.9220117,
          79.3183189,
          79.555242,
          78.74429269,
          78.254759,
          80.23524472,
          79.97937152,
          79.0501762,
          79.938946,
          78.5642346,
          77.91967,
          78.3267035,
          78.3267035,
          80.31464922,
          78.379662,
          78.4677545,
          78.867124,
          79.295754,
          78.9425352
         ],
         "marker": {
          "color": "orange",
          "opacity": 0.3,
          "size": 50,
          "symbol": "circle"
         },
         "mode": "markers",
         "name": "",
         "showlegend": false,
         "subplot": "mapbox",
         "type": "scattermapbox"
        }
       ],
       "layout": {
        "legend": {
         "tracegroupgap": 0
        },
        "mapbox": {
         "center": {
          "lat": 17.8749,
          "lon": 78.1006
         },
         "domain": {
          "x": [
           0,
           1
          ],
          "y": [
           0,
           1
          ]
         },
         "style": "open-street-map",
         "zoom": 7
        },
        "margin": {
         "b": 0,
         "l": 0,
         "r": 0,
         "t": 0
        },
        "template": {
         "data": {
          "bar": [
           {
            "error_x": {
             "color": "#2a3f5f"
            },
            "error_y": {
             "color": "#2a3f5f"
            },
            "marker": {
             "line": {
              "color": "#E5ECF6",
              "width": 0.5
             },
             "pattern": {
              "fillmode": "overlay",
              "size": 10,
              "solidity": 0.2
             }
            },
            "type": "bar"
           }
          ],
          "barpolar": [
           {
            "marker": {
             "line": {
              "color": "#E5ECF6",
              "width": 0.5
             },
             "pattern": {
              "fillmode": "overlay",
              "size": 10,
              "solidity": 0.2
             }
            },
            "type": "barpolar"
           }
          ],
          "carpet": [
           {
            "aaxis": {
             "endlinecolor": "#2a3f5f",
             "gridcolor": "white",
             "linecolor": "white",
             "minorgridcolor": "white",
             "startlinecolor": "#2a3f5f"
            },
            "baxis": {
             "endlinecolor": "#2a3f5f",
             "gridcolor": "white",
             "linecolor": "white",
             "minorgridcolor": "white",
             "startlinecolor": "#2a3f5f"
            },
            "type": "carpet"
           }
          ],
          "choropleth": [
           {
            "colorbar": {
             "outlinewidth": 0,
             "ticks": ""
            },
            "type": "choropleth"
           }
          ],
          "contour": [
           {
            "colorbar": {
             "outlinewidth": 0,
             "ticks": ""
            },
            "colorscale": [
             [
              0,
              "#0d0887"
             ],
             [
              0.1111111111111111,
              "#46039f"
             ],
             [
              0.2222222222222222,
              "#7201a8"
             ],
             [
              0.3333333333333333,
              "#9c179e"
             ],
             [
              0.4444444444444444,
              "#bd3786"
             ],
             [
              0.5555555555555556,
              "#d8576b"
             ],
             [
              0.6666666666666666,
              "#ed7953"
             ],
             [
              0.7777777777777778,
              "#fb9f3a"
             ],
             [
              0.8888888888888888,
              "#fdca26"
             ],
             [
              1,
              "#f0f921"
             ]
            ],
            "type": "contour"
           }
          ],
          "contourcarpet": [
           {
            "colorbar": {
             "outlinewidth": 0,
             "ticks": ""
            },
            "type": "contourcarpet"
           }
          ],
          "heatmap": [
           {
            "colorbar": {
             "outlinewidth": 0,
             "ticks": ""
            },
            "colorscale": [
             [
              0,
              "#0d0887"
             ],
             [
              0.1111111111111111,
              "#46039f"
             ],
             [
              0.2222222222222222,
              "#7201a8"
             ],
             [
              0.3333333333333333,
              "#9c179e"
             ],
             [
              0.4444444444444444,
              "#bd3786"
             ],
             [
              0.5555555555555556,
              "#d8576b"
             ],
             [
              0.6666666666666666,
              "#ed7953"
             ],
             [
              0.7777777777777778,
              "#fb9f3a"
             ],
             [
              0.8888888888888888,
              "#fdca26"
             ],
             [
              1,
              "#f0f921"
             ]
            ],
            "type": "heatmap"
           }
          ],
          "heatmapgl": [
           {
            "colorbar": {
             "outlinewidth": 0,
             "ticks": ""
            },
            "colorscale": [
             [
              0,
              "#0d0887"
             ],
             [
              0.1111111111111111,
              "#46039f"
             ],
             [
              0.2222222222222222,
              "#7201a8"
             ],
             [
              0.3333333333333333,
              "#9c179e"
             ],
             [
              0.4444444444444444,
              "#bd3786"
             ],
             [
              0.5555555555555556,
              "#d8576b"
             ],
             [
              0.6666666666666666,
              "#ed7953"
             ],
             [
              0.7777777777777778,
              "#fb9f3a"
             ],
             [
              0.8888888888888888,
              "#fdca26"
             ],
             [
              1,
              "#f0f921"
             ]
            ],
            "type": "heatmapgl"
           }
          ],
          "histogram": [
           {
            "marker": {
             "pattern": {
              "fillmode": "overlay",
              "size": 10,
              "solidity": 0.2
             }
            },
            "type": "histogram"
           }
          ],
          "histogram2d": [
           {
            "colorbar": {
             "outlinewidth": 0,
             "ticks": ""
            },
            "colorscale": [
             [
              0,
              "#0d0887"
             ],
             [
              0.1111111111111111,
              "#46039f"
             ],
             [
              0.2222222222222222,
              "#7201a8"
             ],
             [
              0.3333333333333333,
              "#9c179e"
             ],
             [
              0.4444444444444444,
              "#bd3786"
             ],
             [
              0.5555555555555556,
              "#d8576b"
             ],
             [
              0.6666666666666666,
              "#ed7953"
             ],
             [
              0.7777777777777778,
              "#fb9f3a"
             ],
             [
              0.8888888888888888,
              "#fdca26"
             ],
             [
              1,
              "#f0f921"
             ]
            ],
            "type": "histogram2d"
           }
          ],
          "histogram2dcontour": [
           {
            "colorbar": {
             "outlinewidth": 0,
             "ticks": ""
            },
            "colorscale": [
             [
              0,
              "#0d0887"
             ],
             [
              0.1111111111111111,
              "#46039f"
             ],
             [
              0.2222222222222222,
              "#7201a8"
             ],
             [
              0.3333333333333333,
              "#9c179e"
             ],
             [
              0.4444444444444444,
              "#bd3786"
             ],
             [
              0.5555555555555556,
              "#d8576b"
             ],
             [
              0.6666666666666666,
              "#ed7953"
             ],
             [
              0.7777777777777778,
              "#fb9f3a"
             ],
             [
              0.8888888888888888,
              "#fdca26"
             ],
             [
              1,
              "#f0f921"
             ]
            ],
            "type": "histogram2dcontour"
           }
          ],
          "mesh3d": [
           {
            "colorbar": {
             "outlinewidth": 0,
             "ticks": ""
            },
            "type": "mesh3d"
           }
          ],
          "parcoords": [
           {
            "line": {
             "colorbar": {
              "outlinewidth": 0,
              "ticks": ""
             }
            },
            "type": "parcoords"
           }
          ],
          "pie": [
           {
            "automargin": true,
            "type": "pie"
           }
          ],
          "scatter": [
           {
            "fillpattern": {
             "fillmode": "overlay",
             "size": 10,
             "solidity": 0.2
            },
            "type": "scatter"
           }
          ],
          "scatter3d": [
           {
            "line": {
             "colorbar": {
              "outlinewidth": 0,
              "ticks": ""
             }
            },
            "marker": {
             "colorbar": {
              "outlinewidth": 0,
              "ticks": ""
             }
            },
            "type": "scatter3d"
           }
          ],
          "scattercarpet": [
           {
            "marker": {
             "colorbar": {
              "outlinewidth": 0,
              "ticks": ""
             }
            },
            "type": "scattercarpet"
           }
          ],
          "scattergeo": [
           {
            "marker": {
             "colorbar": {
              "outlinewidth": 0,
              "ticks": ""
             }
            },
            "type": "scattergeo"
           }
          ],
          "scattergl": [
           {
            "marker": {
             "colorbar": {
              "outlinewidth": 0,
              "ticks": ""
             }
            },
            "type": "scattergl"
           }
          ],
          "scattermapbox": [
           {
            "marker": {
             "colorbar": {
              "outlinewidth": 0,
              "ticks": ""
             }
            },
            "type": "scattermapbox"
           }
          ],
          "scatterpolar": [
           {
            "marker": {
             "colorbar": {
              "outlinewidth": 0,
              "ticks": ""
             }
            },
            "type": "scatterpolar"
           }
          ],
          "scatterpolargl": [
           {
            "marker": {
             "colorbar": {
              "outlinewidth": 0,
              "ticks": ""
             }
            },
            "type": "scatterpolargl"
           }
          ],
          "scatterternary": [
           {
            "marker": {
             "colorbar": {
              "outlinewidth": 0,
              "ticks": ""
             }
            },
            "type": "scatterternary"
           }
          ],
          "surface": [
           {
            "colorbar": {
             "outlinewidth": 0,
             "ticks": ""
            },
            "colorscale": [
             [
              0,
              "#0d0887"
             ],
             [
              0.1111111111111111,
              "#46039f"
             ],
             [
              0.2222222222222222,
              "#7201a8"
             ],
             [
              0.3333333333333333,
              "#9c179e"
             ],
             [
              0.4444444444444444,
              "#bd3786"
             ],
             [
              0.5555555555555556,
              "#d8576b"
             ],
             [
              0.6666666666666666,
              "#ed7953"
             ],
             [
              0.7777777777777778,
              "#fb9f3a"
             ],
             [
              0.8888888888888888,
              "#fdca26"
             ],
             [
              1,
              "#f0f921"
             ]
            ],
            "type": "surface"
           }
          ],
          "table": [
           {
            "cells": {
             "fill": {
              "color": "#EBF0F8"
             },
             "line": {
              "color": "white"
             }
            },
            "header": {
             "fill": {
              "color": "#C8D4E3"
             },
             "line": {
              "color": "white"
             }
            },
            "type": "table"
           }
          ]
         },
         "layout": {
          "annotationdefaults": {
           "arrowcolor": "#2a3f5f",
           "arrowhead": 0,
           "arrowwidth": 1
          },
          "autotypenumbers": "strict",
          "coloraxis": {
           "colorbar": {
            "outlinewidth": 0,
            "ticks": ""
           }
          },
          "colorscale": {
           "diverging": [
            [
             0,
             "#8e0152"
            ],
            [
             0.1,
             "#c51b7d"
            ],
            [
             0.2,
             "#de77ae"
            ],
            [
             0.3,
             "#f1b6da"
            ],
            [
             0.4,
             "#fde0ef"
            ],
            [
             0.5,
             "#f7f7f7"
            ],
            [
             0.6,
             "#e6f5d0"
            ],
            [
             0.7,
             "#b8e186"
            ],
            [
             0.8,
             "#7fbc41"
            ],
            [
             0.9,
             "#4d9221"
            ],
            [
             1,
             "#276419"
            ]
           ],
           "sequential": [
            [
             0,
             "#0d0887"
            ],
            [
             0.1111111111111111,
             "#46039f"
            ],
            [
             0.2222222222222222,
             "#7201a8"
            ],
            [
             0.3333333333333333,
             "#9c179e"
            ],
            [
             0.4444444444444444,
             "#bd3786"
            ],
            [
             0.5555555555555556,
             "#d8576b"
            ],
            [
             0.6666666666666666,
             "#ed7953"
            ],
            [
             0.7777777777777778,
             "#fb9f3a"
            ],
            [
             0.8888888888888888,
             "#fdca26"
            ],
            [
             1,
             "#f0f921"
            ]
           ],
           "sequentialminus": [
            [
             0,
             "#0d0887"
            ],
            [
             0.1111111111111111,
             "#46039f"
            ],
            [
             0.2222222222222222,
             "#7201a8"
            ],
            [
             0.3333333333333333,
             "#9c179e"
            ],
            [
             0.4444444444444444,
             "#bd3786"
            ],
            [
             0.5555555555555556,
             "#d8576b"
            ],
            [
             0.6666666666666666,
             "#ed7953"
            ],
            [
             0.7777777777777778,
             "#fb9f3a"
            ],
            [
             0.8888888888888888,
             "#fdca26"
            ],
            [
             1,
             "#f0f921"
            ]
           ]
          },
          "colorway": [
           "#636efa",
           "#EF553B",
           "#00cc96",
           "#ab63fa",
           "#FFA15A",
           "#19d3f3",
           "#FF6692",
           "#B6E880",
           "#FF97FF",
           "#FECB52"
          ],
          "font": {
           "color": "#2a3f5f"
          },
          "geo": {
           "bgcolor": "white",
           "lakecolor": "white",
           "landcolor": "#E5ECF6",
           "showlakes": true,
           "showland": true,
           "subunitcolor": "white"
          },
          "hoverlabel": {
           "align": "left"
          },
          "hovermode": "closest",
          "mapbox": {
           "style": "light"
          },
          "paper_bgcolor": "white",
          "plot_bgcolor": "#E5ECF6",
          "polar": {
           "angularaxis": {
            "gridcolor": "white",
            "linecolor": "white",
            "ticks": ""
           },
           "bgcolor": "#E5ECF6",
           "radialaxis": {
            "gridcolor": "white",
            "linecolor": "white",
            "ticks": ""
           }
          },
          "scene": {
           "xaxis": {
            "backgroundcolor": "#E5ECF6",
            "gridcolor": "white",
            "gridwidth": 2,
            "linecolor": "white",
            "showbackground": true,
            "ticks": "",
            "zerolinecolor": "white"
           },
           "yaxis": {
            "backgroundcolor": "#E5ECF6",
            "gridcolor": "white",
            "gridwidth": 2,
            "linecolor": "white",
            "showbackground": true,
            "ticks": "",
            "zerolinecolor": "white"
           },
           "zaxis": {
            "backgroundcolor": "#E5ECF6",
            "gridcolor": "white",
            "gridwidth": 2,
            "linecolor": "white",
            "showbackground": true,
            "ticks": "",
            "zerolinecolor": "white"
           }
          },
          "shapedefaults": {
           "line": {
            "color": "#2a3f5f"
           }
          },
          "ternary": {
           "aaxis": {
            "gridcolor": "white",
            "linecolor": "white",
            "ticks": ""
           },
           "baxis": {
            "gridcolor": "white",
            "linecolor": "white",
            "ticks": ""
           },
           "bgcolor": "#E5ECF6",
           "caxis": {
            "gridcolor": "white",
            "linecolor": "white",
            "ticks": ""
           }
          },
          "title": {
           "x": 0.05
          },
          "xaxis": {
           "automargin": true,
           "gridcolor": "white",
           "linecolor": "white",
           "ticks": "",
           "title": {
            "standoff": 15
           },
           "zerolinecolor": "white",
           "zerolinewidth": 2
          },
          "yaxis": {
           "automargin": true,
           "gridcolor": "white",
           "linecolor": "white",
           "ticks": "",
           "title": {
            "standoff": 15
           },
           "zerolinecolor": "white",
           "zerolinewidth": 2
          }
         }
        }
       }
      }
     },
     "metadata": {},
     "output_type": "display_data"
    }
   ],
   "source": [
    "# Map Visual using plotly express library \n",
    "\n",
    "# Load the CSV file into a DataFrame\n",
    "data = pd.read_csv(\"Telangana_Hotel_Location.csv\")\n",
    "\n",
    "# Create a scattermapbox figure using Plotly Express\n",
    "fig = px.scatter_mapbox(data,\n",
    "                        lat=\"lat\",  \n",
    "                        lon=\"long\",  \n",
    "                        hover_name=\"hotel\",\n",
    "                        hover_data=[\"city\", \"address\"],\n",
    "                        zoom=7)\n",
    "\n",
    "# Customizing the markers with icons\n",
    "fig.update_traces(marker=dict(size=50, opacity=0.3, symbol=\"circle\", color=\"orange\"))\n",
    "\n",
    "# Update the map layout\n",
    "fig.update_layout(mapbox_style=\"open-street-map\", # Type of Map layout\n",
    "                mapbox_center={\"lat\": 17.8749, \"lon\": 78.1006},  # Centered around Telangana\n",
    "                margin={\"r\":0,\"t\":0,\"l\":0,\"b\":0})\n",
    "\n",
    "# Display the interactive map\n",
    "fig.show()\n"
   ]
  },
  {
   "cell_type": "markdown",
   "metadata": {},
   "source": [
    "The map shows that the **THE PLAZA** hotel is close to the *Begumpet Airport*, hence the tariff is greater than the other hotels."
   ]
  },
  {
   "cell_type": "markdown",
   "metadata": {},
   "source": [
    "### Let's Merge the data from the Location and Tariff files "
   ]
  },
  {
   "cell_type": "code",
   "execution_count": 218,
   "metadata": {},
   "outputs": [],
   "source": [
    "# Read the CSV files into DataFrames\n",
    "hotels_tariff_df = pd.read_csv('Telangana_Hotels_Tariff.csv')\n",
    "hotel_location_df = pd.read_csv('Telangana_Hotel_Location.csv')\n",
    "\n",
    "# Merge the DataFrames based on the 'hotel' column\n",
    "merged_df = pd.merge(hotels_tariff_df, hotel_location_df[['hotel', 'lat', 'long']], on='hotel', how='left')\n",
    "\n",
    "# Save the merged DataFrame to a new CSV file\n",
    "#merged_df.to_csv('Updated_Hotels_Tariff.csv', index=False)"
   ]
  },
  {
   "cell_type": "markdown",
   "metadata": {},
   "source": [
    "#### Which city has the highest number of Hotels"
   ]
  },
  {
   "cell_type": "code",
   "execution_count": 219,
   "metadata": {},
   "outputs": [
    {
     "name": "stdout",
     "output_type": "stream",
     "text": [
      "City with the highest concentration of hotels: SOMASILA\n"
     ]
    }
   ],
   "source": [
    "\n",
    "hotel_location_df = pd.read_csv('Updated_Hotels_Tariff.csv')\n",
    "lat_lon_data = hotel_location_df[['lat', 'long']]\n",
    "\n",
    "# Use DBSCAN with a small epsilon and a minimum number of samples\n",
    "dbscan = DBSCAN(eps=0.001, min_samples=100).fit(lat_lon_data)\n",
    "labels = dbscan.labels_\n",
    "\n",
    "# Count the occurrences of each label\n",
    "label_counts = Counter(labels)\n",
    "\n",
    "# Find the label with the highest count (excluding noise points)\n",
    "most_common_label = max(label_counts, key=label_counts.get)\n",
    "\n",
    "# Get the indices of data points in the most common cluster\n",
    "cluster_indices = [index for index, label in enumerate(labels) if label == most_common_label]\n",
    "\n",
    "# Get the cities corresponding to the indices\n",
    "cities_in_cluster = hotel_location_df.loc[cluster_indices, 'city']\n",
    "\n",
    "# Count the occurrences of each city in the cluster\n",
    "city_counts = Counter(cities_in_cluster)\n",
    "\n",
    "# Find the city with the highest count\n",
    "city_with_highest_concentration = max(city_counts, key=city_counts.get)\n",
    "\n",
    "print(\"City with the highest concentration of hotels:\", city_with_highest_concentration)"
   ]
  },
  {
   "cell_type": "markdown",
   "metadata": {},
   "source": [
    "**SOMASILA** has highest concentration of hotels, reveals its tourist potential that draw people. <br />\n",
    "The concentration of hotels in Somasila benefits the local economy by creating jobs, increasing tourism money, and maybe expanding infrastructure."
   ]
  },
  {
   "cell_type": "code",
   "execution_count": null,
   "metadata": {},
   "outputs": [],
   "source": []
  }
 ],
 "metadata": {
  "kernelspec": {
   "display_name": "Python 3",
   "language": "python",
   "name": "python3"
  },
  "language_info": {
   "codemirror_mode": {
    "name": "ipython",
    "version": 3
   },
   "file_extension": ".py",
   "mimetype": "text/x-python",
   "name": "python",
   "nbconvert_exporter": "python",
   "pygments_lexer": "ipython3",
   "version": "3.11.1"
  },
  "orig_nbformat": 4
 },
 "nbformat": 4,
 "nbformat_minor": 2
}
